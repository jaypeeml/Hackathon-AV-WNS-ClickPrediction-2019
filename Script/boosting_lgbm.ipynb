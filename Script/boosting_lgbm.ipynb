{
  "nbformat": 4,
  "nbformat_minor": 0,
  "metadata": {
    "colab": {
      "name": "boosting_lgbm.ipynb",
      "provenance": [],
      "collapsed_sections": [],
      "machine_shape": "hm"
    },
    "kernelspec": {
      "display_name": "Python 3",
      "language": "python",
      "name": "python3"
    },
    "language_info": {
      "codemirror_mode": {
        "name": "ipython",
        "version": 3
      },
      "file_extension": ".py",
      "mimetype": "text/x-python",
      "name": "python",
      "nbconvert_exporter": "python",
      "pygments_lexer": "ipython3",
      "version": "3.8.5"
    }
  },
  "cells": [
    {
      "cell_type": "markdown",
      "metadata": {
        "id": "sA1hlR-eEVXq"
      },
      "source": [
        "<a id =t> </a> <br>\n",
        "***\n",
        "\n",
        "# <center> <span style=\"color:blue;background:yellow\"> [WNS Analytics Wizard 2019 - Click Rate Prediction](https://datahack.analyticsvidhya.com/contest/wns-analytics-wizard-2019/) </span></center>\n",
        "\n",
        "![](images/wns.png)\n",
        "*** \n",
        "\n",
        "## Notebook Content\n",
        "1. [Load Libraries](#0)\n",
        "1. [Load Data](#1)\n",
        "1. [Preprocessing](#a)\n",
        "    1. [Process Logs and Items Data](#b)\n",
        "    1. [Label Encoding](#2)\n",
        "    1. [Date Columns Processing](#3)\n",
        "1. [Feature Engineering](#4)\n",
        "1. [LightGBM](#5)\n",
        "    1. [Hyperparameters Optimization](#6)\n",
        "    1. [Model Training and Prediction](#7)\n",
        "    1. [Submission DataFrame](#8)\n",
        "\n",
        "---"
      ]
    },
    {
      "cell_type": "code",
      "metadata": {
        "id": "vghWgsqfCiHb"
      },
      "source": [
        "# # Read file from Gdrive\n",
        "# from google.colab import drive\n",
        "# drive.mount('/content/drive')"
      ],
      "execution_count": 7,
      "outputs": []
    },
    {
      "cell_type": "code",
      "metadata": {
        "colab": {
          "base_uri": "https://localhost:8080/"
        },
        "id": "swrq2FiXDKhi",
        "outputId": "e9d42baf-5a93-4a93-f39e-aafc151e9719"
      },
      "source": [
        "!sudo pip install bayesian-optimization"
      ],
      "execution_count": 8,
      "outputs": [
        {
          "output_type": "stream",
          "name": "stdout",
          "text": [
            "Requirement already satisfied: bayesian-optimization in /usr/local/lib/python3.7/dist-packages (1.2.0)\n",
            "Requirement already satisfied: numpy>=1.9.0 in /usr/local/lib/python3.7/dist-packages (from bayesian-optimization) (1.19.5)\n",
            "Requirement already satisfied: scipy>=0.14.0 in /usr/local/lib/python3.7/dist-packages (from bayesian-optimization) (1.4.1)\n",
            "Requirement already satisfied: scikit-learn>=0.18.0 in /usr/local/lib/python3.7/dist-packages (from bayesian-optimization) (0.22.2.post1)\n",
            "Requirement already satisfied: joblib>=0.11 in /usr/local/lib/python3.7/dist-packages (from scikit-learn>=0.18.0->bayesian-optimization) (1.0.1)\n"
          ]
        }
      ]
    },
    {
      "cell_type": "markdown",
      "metadata": {
        "id": "989mxV61EVXu"
      },
      "source": [
        "<a id=0> </a> <br>\n",
        "\n",
        "## <span style=\"background:gray;color:red\">1. </span><span style=\"background:yellow;color:blue\">Load Libraries </span>"
      ]
    },
    {
      "cell_type": "code",
      "metadata": {
        "id": "-Gd74MkwEVXw"
      },
      "source": [
        "import pandas as pd\n",
        "import numpy as np\n",
        "import matplotlib.pyplot as plt\n",
        "import seaborn as sns\n",
        "from sklearn.model_selection import train_test_split, GridSearchCV, KFold, StratifiedKFold\n",
        "from sklearn.preprocessing import LabelEncoder\n",
        "from sklearn import metrics\n",
        "from sklearn.metrics import roc_auc_score\n",
        "import lightgbm as lgb\n",
        "from bayes_opt import BayesianOptimization\n",
        "\n",
        "import warnings\n",
        "warnings.filterwarnings('ignore')"
      ],
      "execution_count": 42,
      "outputs": []
    },
    {
      "cell_type": "markdown",
      "metadata": {
        "id": "0PiEj4pfEVYG"
      },
      "source": [
        "<a id=1> </a> <br>\n",
        "\n",
        "## <span style=\"background:gray;color:red\">2. </span><span style=\"background:yellow;color:blue\">Load Data </span>"
      ]
    },
    {
      "cell_type": "code",
      "metadata": {
        "id": "iJimrjukEVYs"
      },
      "source": [
        "# Load Data\n",
        "train = pd.read_csv('/content/drive/My Drive/WNS Analytics Wizard 2019/Data/train/train.csv')\n",
        "test = pd.read_csv('/content/drive/My Drive/WNS Analytics Wizard 2019/Data/test/test.csv')\n",
        "\n",
        "logs = pd.read_csv('/content/drive/My Drive/WNS Analytics Wizard 2019/Data/train/view_log.csv')  # Log details of user ids\n",
        "items = pd.read_csv('/content/drive/My Drive/WNS Analytics Wizard 2019/Data/train/item_data.csv') # Item details\n"
      ],
      "execution_count": 10,
      "outputs": []
    },
    {
      "cell_type": "code",
      "metadata": {
        "colab": {
          "base_uri": "https://localhost:8080/"
        },
        "id": "HWqPoPUqEVY3",
        "outputId": "af96f213-90f3-4586-bb92-54cdc2e62f69"
      },
      "source": [
        "print('Shape of train Data :', train.shape, '\\n Shape of test data :', test.shape)"
      ],
      "execution_count": 11,
      "outputs": [
        {
          "output_type": "stream",
          "name": "stdout",
          "text": [
            "Shape of train Data : (237609, 7) \n",
            " Shape of test data : (90675, 6)\n"
          ]
        }
      ]
    },
    {
      "cell_type": "code",
      "metadata": {
        "colab": {
          "base_uri": "https://localhost:8080/",
          "height": 307
        },
        "id": "-dIVeLusEVZB",
        "outputId": "a9a809fb-5e79-40cf-f1af-6cfe8aee856c"
      },
      "source": [
        "train.head()"
      ],
      "execution_count": 12,
      "outputs": [
        {
          "output_type": "execute_result",
          "data": {
            "text/html": [
              "<div>\n",
              "<style scoped>\n",
              "    .dataframe tbody tr th:only-of-type {\n",
              "        vertical-align: middle;\n",
              "    }\n",
              "\n",
              "    .dataframe tbody tr th {\n",
              "        vertical-align: top;\n",
              "    }\n",
              "\n",
              "    .dataframe thead th {\n",
              "        text-align: right;\n",
              "    }\n",
              "</style>\n",
              "<table border=\"1\" class=\"dataframe\">\n",
              "  <thead>\n",
              "    <tr style=\"text-align: right;\">\n",
              "      <th></th>\n",
              "      <th>impression_id</th>\n",
              "      <th>impression_time</th>\n",
              "      <th>user_id</th>\n",
              "      <th>app_code</th>\n",
              "      <th>os_version</th>\n",
              "      <th>is_4G</th>\n",
              "      <th>is_click</th>\n",
              "    </tr>\n",
              "  </thead>\n",
              "  <tbody>\n",
              "    <tr>\n",
              "      <th>0</th>\n",
              "      <td>c4ca4238a0b923820dcc509a6f75849b</td>\n",
              "      <td>2018-11-15 00:00:00</td>\n",
              "      <td>87862</td>\n",
              "      <td>422</td>\n",
              "      <td>old</td>\n",
              "      <td>0</td>\n",
              "      <td>0</td>\n",
              "    </tr>\n",
              "    <tr>\n",
              "      <th>1</th>\n",
              "      <td>45c48cce2e2d7fbdea1afc51c7c6ad26</td>\n",
              "      <td>2018-11-15 00:01:00</td>\n",
              "      <td>63410</td>\n",
              "      <td>467</td>\n",
              "      <td>latest</td>\n",
              "      <td>1</td>\n",
              "      <td>1</td>\n",
              "    </tr>\n",
              "    <tr>\n",
              "      <th>2</th>\n",
              "      <td>70efdf2ec9b086079795c442636b55fb</td>\n",
              "      <td>2018-11-15 00:02:00</td>\n",
              "      <td>71748</td>\n",
              "      <td>259</td>\n",
              "      <td>intermediate</td>\n",
              "      <td>1</td>\n",
              "      <td>0</td>\n",
              "    </tr>\n",
              "    <tr>\n",
              "      <th>3</th>\n",
              "      <td>8e296a067a37563370ded05f5a3bf3ec</td>\n",
              "      <td>2018-11-15 00:02:00</td>\n",
              "      <td>69209</td>\n",
              "      <td>244</td>\n",
              "      <td>latest</td>\n",
              "      <td>1</td>\n",
              "      <td>0</td>\n",
              "    </tr>\n",
              "    <tr>\n",
              "      <th>4</th>\n",
              "      <td>182be0c5cdcd5072bb1864cdee4d3d6e</td>\n",
              "      <td>2018-11-15 00:02:00</td>\n",
              "      <td>62873</td>\n",
              "      <td>473</td>\n",
              "      <td>latest</td>\n",
              "      <td>0</td>\n",
              "      <td>0</td>\n",
              "    </tr>\n",
              "  </tbody>\n",
              "</table>\n",
              "</div>"
            ],
            "text/plain": [
              "                      impression_id      impression_time  ...  is_4G  is_click\n",
              "0  c4ca4238a0b923820dcc509a6f75849b  2018-11-15 00:00:00  ...      0         0\n",
              "1  45c48cce2e2d7fbdea1afc51c7c6ad26  2018-11-15 00:01:00  ...      1         1\n",
              "2  70efdf2ec9b086079795c442636b55fb  2018-11-15 00:02:00  ...      1         0\n",
              "3  8e296a067a37563370ded05f5a3bf3ec  2018-11-15 00:02:00  ...      1         0\n",
              "4  182be0c5cdcd5072bb1864cdee4d3d6e  2018-11-15 00:02:00  ...      0         0\n",
              "\n",
              "[5 rows x 7 columns]"
            ]
          },
          "metadata": {},
          "execution_count": 12
        }
      ]
    },
    {
      "cell_type": "code",
      "metadata": {
        "colab": {
          "base_uri": "https://localhost:8080/",
          "height": 203
        },
        "id": "mw3EU3kowGDt",
        "outputId": "da3ab7c5-158a-4873-f699-30f30c2f7e43"
      },
      "source": [
        "test.head()"
      ],
      "execution_count": 13,
      "outputs": [
        {
          "output_type": "execute_result",
          "data": {
            "text/html": [
              "<div>\n",
              "<style scoped>\n",
              "    .dataframe tbody tr th:only-of-type {\n",
              "        vertical-align: middle;\n",
              "    }\n",
              "\n",
              "    .dataframe tbody tr th {\n",
              "        vertical-align: top;\n",
              "    }\n",
              "\n",
              "    .dataframe thead th {\n",
              "        text-align: right;\n",
              "    }\n",
              "</style>\n",
              "<table border=\"1\" class=\"dataframe\">\n",
              "  <thead>\n",
              "    <tr style=\"text-align: right;\">\n",
              "      <th></th>\n",
              "      <th>impression_id</th>\n",
              "      <th>impression_time</th>\n",
              "      <th>user_id</th>\n",
              "      <th>app_code</th>\n",
              "      <th>os_version</th>\n",
              "      <th>is_4G</th>\n",
              "    </tr>\n",
              "  </thead>\n",
              "  <tbody>\n",
              "    <tr>\n",
              "      <th>0</th>\n",
              "      <td>a9e7126a585a69a32bc7414e9d0c0ada</td>\n",
              "      <td>2018-12-13 07:44:00</td>\n",
              "      <td>44754</td>\n",
              "      <td>127</td>\n",
              "      <td>latest</td>\n",
              "      <td>1</td>\n",
              "    </tr>\n",
              "    <tr>\n",
              "      <th>1</th>\n",
              "      <td>caac14a5bf2ba283db7708bb34855760</td>\n",
              "      <td>2018-12-13 07:45:00</td>\n",
              "      <td>29656</td>\n",
              "      <td>44</td>\n",
              "      <td>latest</td>\n",
              "      <td>0</td>\n",
              "    </tr>\n",
              "    <tr>\n",
              "      <th>2</th>\n",
              "      <td>13f10ba306a19ce7bec2f3cae507b698</td>\n",
              "      <td>2018-12-13 07:46:00</td>\n",
              "      <td>25234</td>\n",
              "      <td>296</td>\n",
              "      <td>latest</td>\n",
              "      <td>1</td>\n",
              "    </tr>\n",
              "    <tr>\n",
              "      <th>3</th>\n",
              "      <td>39c4b4dc0e9701b55a0a4f072008fb3f</td>\n",
              "      <td>2018-12-13 07:47:00</td>\n",
              "      <td>22988</td>\n",
              "      <td>207</td>\n",
              "      <td>latest</td>\n",
              "      <td>1</td>\n",
              "    </tr>\n",
              "    <tr>\n",
              "      <th>4</th>\n",
              "      <td>bf5a572cca75f5fc67f4b14e58b11d70</td>\n",
              "      <td>2018-12-13 07:48:00</td>\n",
              "      <td>35431</td>\n",
              "      <td>242</td>\n",
              "      <td>latest</td>\n",
              "      <td>1</td>\n",
              "    </tr>\n",
              "  </tbody>\n",
              "</table>\n",
              "</div>"
            ],
            "text/plain": [
              "                      impression_id      impression_time  ...  os_version  is_4G\n",
              "0  a9e7126a585a69a32bc7414e9d0c0ada  2018-12-13 07:44:00  ...      latest      1\n",
              "1  caac14a5bf2ba283db7708bb34855760  2018-12-13 07:45:00  ...      latest      0\n",
              "2  13f10ba306a19ce7bec2f3cae507b698  2018-12-13 07:46:00  ...      latest      1\n",
              "3  39c4b4dc0e9701b55a0a4f072008fb3f  2018-12-13 07:47:00  ...      latest      1\n",
              "4  bf5a572cca75f5fc67f4b14e58b11d70  2018-12-13 07:48:00  ...      latest      1\n",
              "\n",
              "[5 rows x 6 columns]"
            ]
          },
          "metadata": {},
          "execution_count": 13
        }
      ]
    },
    {
      "cell_type": "code",
      "metadata": {
        "colab": {
          "base_uri": "https://localhost:8080/",
          "height": 279
        },
        "id": "GqO5ioMlEVZJ",
        "outputId": "6988310d-249f-4496-bea4-bda6e8fa87fa"
      },
      "source": [
        "train['is_click'].value_counts().plot(kind='bar')"
      ],
      "execution_count": 14,
      "outputs": [
        {
          "output_type": "execute_result",
          "data": {
            "text/plain": [
              "<matplotlib.axes._subplots.AxesSubplot at 0x7fba80531f50>"
            ]
          },
          "metadata": {},
          "execution_count": 14
        },
        {
          "output_type": "display_data",
          "data": {
            "image/png": "[encoded data removed]",
            "text/plain": [
              "<Figure size 432x288 with 1 Axes>"
            ]
          },
          "metadata": {
            "needs_background": "light"
          }
        }
      ]
    },
    {
      "cell_type": "code",
      "metadata": {
        "colab": {
          "base_uri": "https://localhost:8080/"
        },
        "id": "KGokjrw9EVZT",
        "outputId": "da661796-8577-47e0-ef80-fb6fb67839ac"
      },
      "source": [
        "print('Click percentage :', train['is_click'].value_counts()[1]/train['is_click'].value_counts().sum()*100 , '%')"
      ],
      "execution_count": 15,
      "outputs": [
        {
          "output_type": "stream",
          "name": "stdout",
          "text": [
            "Click percentage : 4.571375663379754 %\n"
          ]
        }
      ]
    },
    {
      "cell_type": "code",
      "metadata": {
        "colab": {
          "base_uri": "https://localhost:8080/",
          "height": 203
        },
        "id": "EepoE3ILCXsI",
        "outputId": "806b1c98-787c-417c-d3d6-d5374df57338"
      },
      "source": [
        "logs.head()"
      ],
      "execution_count": 16,
      "outputs": [
        {
          "output_type": "execute_result",
          "data": {
            "text/html": [
              "<div>\n",
              "<style scoped>\n",
              "    .dataframe tbody tr th:only-of-type {\n",
              "        vertical-align: middle;\n",
              "    }\n",
              "\n",
              "    .dataframe tbody tr th {\n",
              "        vertical-align: top;\n",
              "    }\n",
              "\n",
              "    .dataframe thead th {\n",
              "        text-align: right;\n",
              "    }\n",
              "</style>\n",
              "<table border=\"1\" class=\"dataframe\">\n",
              "  <thead>\n",
              "    <tr style=\"text-align: right;\">\n",
              "      <th></th>\n",
              "      <th>server_time</th>\n",
              "      <th>device_type</th>\n",
              "      <th>session_id</th>\n",
              "      <th>user_id</th>\n",
              "      <th>item_id</th>\n",
              "    </tr>\n",
              "  </thead>\n",
              "  <tbody>\n",
              "    <tr>\n",
              "      <th>0</th>\n",
              "      <td>2018-10-15 08:58:00</td>\n",
              "      <td>android</td>\n",
              "      <td>112333</td>\n",
              "      <td>4557</td>\n",
              "      <td>32970</td>\n",
              "    </tr>\n",
              "    <tr>\n",
              "      <th>1</th>\n",
              "      <td>2018-10-15 08:58:00</td>\n",
              "      <td>android</td>\n",
              "      <td>503590</td>\n",
              "      <td>74788</td>\n",
              "      <td>7640</td>\n",
              "    </tr>\n",
              "    <tr>\n",
              "      <th>2</th>\n",
              "      <td>2018-10-15 08:58:00</td>\n",
              "      <td>android</td>\n",
              "      <td>573960</td>\n",
              "      <td>23628</td>\n",
              "      <td>128855</td>\n",
              "    </tr>\n",
              "    <tr>\n",
              "      <th>3</th>\n",
              "      <td>2018-10-15 08:58:00</td>\n",
              "      <td>android</td>\n",
              "      <td>121691</td>\n",
              "      <td>2430</td>\n",
              "      <td>12774</td>\n",
              "    </tr>\n",
              "    <tr>\n",
              "      <th>4</th>\n",
              "      <td>2018-10-15 08:58:00</td>\n",
              "      <td>android</td>\n",
              "      <td>218564</td>\n",
              "      <td>19227</td>\n",
              "      <td>28296</td>\n",
              "    </tr>\n",
              "  </tbody>\n",
              "</table>\n",
              "</div>"
            ],
            "text/plain": [
              "           server_time device_type  session_id  user_id  item_id\n",
              "0  2018-10-15 08:58:00     android      112333     4557    32970\n",
              "1  2018-10-15 08:58:00     android      503590    74788     7640\n",
              "2  2018-10-15 08:58:00     android      573960    23628   128855\n",
              "3  2018-10-15 08:58:00     android      121691     2430    12774\n",
              "4  2018-10-15 08:58:00     android      218564    19227    28296"
            ]
          },
          "metadata": {},
          "execution_count": 16
        }
      ]
    },
    {
      "cell_type": "code",
      "metadata": {
        "colab": {
          "base_uri": "https://localhost:8080/"
        },
        "id": "b3uc_U9-CXsI",
        "outputId": "b643cde2-8076-4c99-be8e-21959acef494"
      },
      "source": [
        "logs.shape"
      ],
      "execution_count": 17,
      "outputs": [
        {
          "output_type": "execute_result",
          "data": {
            "text/plain": [
              "(3118622, 5)"
            ]
          },
          "metadata": {},
          "execution_count": 17
        }
      ]
    },
    {
      "cell_type": "code",
      "metadata": {
        "colab": {
          "base_uri": "https://localhost:8080/",
          "height": 203
        },
        "id": "bfujDIK9EVZb",
        "outputId": "611d8571-a61f-4f21-cf0e-4a9318279ede"
      },
      "source": [
        "items.head()"
      ],
      "execution_count": 18,
      "outputs": [
        {
          "output_type": "execute_result",
          "data": {
            "text/html": [
              "<div>\n",
              "<style scoped>\n",
              "    .dataframe tbody tr th:only-of-type {\n",
              "        vertical-align: middle;\n",
              "    }\n",
              "\n",
              "    .dataframe tbody tr th {\n",
              "        vertical-align: top;\n",
              "    }\n",
              "\n",
              "    .dataframe thead th {\n",
              "        text-align: right;\n",
              "    }\n",
              "</style>\n",
              "<table border=\"1\" class=\"dataframe\">\n",
              "  <thead>\n",
              "    <tr style=\"text-align: right;\">\n",
              "      <th></th>\n",
              "      <th>item_id</th>\n",
              "      <th>item_price</th>\n",
              "      <th>category_1</th>\n",
              "      <th>category_2</th>\n",
              "      <th>category_3</th>\n",
              "      <th>product_type</th>\n",
              "    </tr>\n",
              "  </thead>\n",
              "  <tbody>\n",
              "    <tr>\n",
              "      <th>0</th>\n",
              "      <td>26880</td>\n",
              "      <td>4602</td>\n",
              "      <td>11</td>\n",
              "      <td>35</td>\n",
              "      <td>20</td>\n",
              "      <td>3040</td>\n",
              "    </tr>\n",
              "    <tr>\n",
              "      <th>1</th>\n",
              "      <td>54939</td>\n",
              "      <td>3513</td>\n",
              "      <td>12</td>\n",
              "      <td>57</td>\n",
              "      <td>85</td>\n",
              "      <td>6822</td>\n",
              "    </tr>\n",
              "    <tr>\n",
              "      <th>2</th>\n",
              "      <td>40383</td>\n",
              "      <td>825</td>\n",
              "      <td>17</td>\n",
              "      <td>8</td>\n",
              "      <td>279</td>\n",
              "      <td>1619</td>\n",
              "    </tr>\n",
              "    <tr>\n",
              "      <th>3</th>\n",
              "      <td>8777</td>\n",
              "      <td>2355</td>\n",
              "      <td>13</td>\n",
              "      <td>58</td>\n",
              "      <td>189</td>\n",
              "      <td>5264</td>\n",
              "    </tr>\n",
              "    <tr>\n",
              "      <th>4</th>\n",
              "      <td>113705</td>\n",
              "      <td>1267</td>\n",
              "      <td>17</td>\n",
              "      <td>39</td>\n",
              "      <td>151</td>\n",
              "      <td>10239</td>\n",
              "    </tr>\n",
              "  </tbody>\n",
              "</table>\n",
              "</div>"
            ],
            "text/plain": [
              "   item_id  item_price  category_1  category_2  category_3  product_type\n",
              "0    26880        4602          11          35          20          3040\n",
              "1    54939        3513          12          57          85          6822\n",
              "2    40383         825          17           8         279          1619\n",
              "3     8777        2355          13          58         189          5264\n",
              "4   113705        1267          17          39         151         10239"
            ]
          },
          "metadata": {},
          "execution_count": 18
        }
      ]
    },
    {
      "cell_type": "code",
      "metadata": {
        "colab": {
          "base_uri": "https://localhost:8080/"
        },
        "id": "ZS2wyUThEVZk",
        "outputId": "0dbb0a8d-bbe0-4ba1-8bd1-ae30f89d02ff"
      },
      "source": [
        "items.shape"
      ],
      "execution_count": 19,
      "outputs": [
        {
          "output_type": "execute_result",
          "data": {
            "text/plain": [
              "(132761, 6)"
            ]
          },
          "metadata": {},
          "execution_count": 19
        }
      ]
    },
    {
      "cell_type": "code",
      "metadata": {
        "colab": {
          "base_uri": "https://localhost:8080/",
          "height": 1000
        },
        "id": "8ta1JDnwCXsK",
        "outputId": "d1d7cf90-1052-4b64-c14a-d73e77be1471"
      },
      "source": [
        "for col in items.columns[1:]:\n",
        "    items[col].plot(kind='box')\n",
        "    plt.show()"
      ],
      "execution_count": 20,
      "outputs": [
        {
          "output_type": "display_data",
          "data": {
            "image/png": "[encoded data removed]",
            "text/plain": [
              "<Figure size 432x288 with 1 Axes>"
            ]
          },
          "metadata": {
            "needs_background": "light"
          }
        },
        {
          "output_type": "display_data",
          "data": {
            "image/png": "[encoded data removed]",
            "text/plain": [
              "<Figure size 432x288 with 1 Axes>"
            ]
          },
          "metadata": {
            "needs_background": "light"
          }
        },
        {
          "output_type": "display_data",
          "data": {
            "image/png": "[encoded data removed]",
            "text/plain": [
              "<Figure size 432x288 with 1 Axes>"
            ]
          },
          "metadata": {
            "needs_background": "light"
          }
        },
        {
          "output_type": "display_data",
          "data": {
            "image/png": "[encoded data removed]",
            "text/plain": [
              "<Figure size 432x288 with 1 Axes>"
            ]
          },
          "metadata": {
            "needs_background": "light"
          }
        },
        {
          "output_type": "display_data",
          "data": {
            "image/png": "[encoded data removed]",
            "text/plain": [
              "<Figure size 432x288 with 1 Axes>"
            ]
          },
          "metadata": {
            "needs_background": "light"
          }
        }
      ]
    },
    {
      "cell_type": "markdown",
      "metadata": {
        "id": "oKpOiqT_CXsL"
      },
      "source": [
        "There are no outliers in items' variables but in product price."
      ]
    },
    {
      "cell_type": "markdown",
      "metadata": {
        "id": "XnzTthIoCXsL"
      },
      "source": [
        "<a id=a> </a> <br>\n",
        "\n",
        "## <span style=\"background:gray;color:red\">3. </span><span style=\"background:yellow;color:blue\">Preprocessing </span>"
      ]
    },
    {
      "cell_type": "code",
      "metadata": {
        "id": "2mMYEAbMCXsL"
      },
      "source": [
        "target = train['is_click'] # Get labels \n",
        "train.drop('is_click', axis=1, inplace=True) # Remove labels"
      ],
      "execution_count": 21,
      "outputs": []
    },
    {
      "cell_type": "markdown",
      "metadata": {
        "id": "ClZIisvjCXsM"
      },
      "source": [
        "<a id=b> </a> <br>\n",
        "\n",
        "### <span style=\"background:gray;color:red\">3.1 </span><span style=\"background:yellow;color:blue\">Process Logs and Items Data </span>\n",
        "* Merge Logs and Items DataFrame on `item_id`\n",
        "* Merge new train and test DataFrames with Logs and Items merge DataFrame on `user_id'\n",
        "* Create a Pivot table---> Make  pivot table with  `impression_id` as index , choose columns and define opeartions on them.\n",
        "* Reset index of Pivot Table\n",
        "* Rename columns of Pivot Table\n",
        "* Merge Train and Test DataFrame with Pivot Table on `impression_id` "
      ]
    },
    {
      "cell_type": "code",
      "metadata": {
        "id": "AMBN2HgZCXsM"
      },
      "source": [
        "df1 = pd.merge(logs,items, on='item_id', how=\"left\")"
      ],
      "execution_count": 22,
      "outputs": []
    },
    {
      "cell_type": "code",
      "metadata": {
        "colab": {
          "base_uri": "https://localhost:8080/"
        },
        "id": "_thjigx-CXsN",
        "outputId": "57d94310-27a8-4d77-a2b1-1f1509e7ae2a"
      },
      "source": [
        "%%time\n",
        "def process_log_item(df):\n",
        "    df_new = pd.merge(df,df1, on =\"user_id\", how=\"left\")\n",
        "    \n",
        "    df_new = pd.pivot_table(df_new, index ='impression_id', \n",
        "               values=['user_id','item_id', 'item_price','category_1','category_2','category_3', 'product_type'], \n",
        "              aggfunc={'user_id':len,'item_id': lambda x:len(set(x)),\n",
        "                       'item_price':[np.median,np.sum],\n",
        "                       'category_1':[np.min, np.mean, np.max],\n",
        "                       'category_2':[np.min, np.mean, np.max],\n",
        "                       'category_3':[np.min, np.mean, np.max],\n",
        "                       'product_type':[np.min, np.max]\n",
        "                      })\n",
        "    df_new = df_new.reset_index()\n",
        "    \n",
        "    df_new.columns = ['impression_id','cat1_max', 'cat1_min', 'cat1_mean',\n",
        "                    'cat2_max', 'cat2_min', 'cat2_mean',\n",
        "                    'cat3_max', 'cat3_min', 'cat3_mean',\n",
        "                     'item_count',\n",
        "                    'price_median', 'price_sum',\n",
        "                    'product_type_max', 'product_type_min',\n",
        "                    'impression_count']\n",
        "    df = pd.merge(df,df_new, on =\"impression_id\", how=\"left\" )\n",
        "    return df\n",
        "\n",
        "train = process_log_item(train)\n",
        "test = process_log_item(test)"
      ],
      "execution_count": 23,
      "outputs": [
        {
          "output_type": "stream",
          "name": "stdout",
          "text": [
            "CPU times: user 19.5 s, sys: 1.09 s, total: 20.6 s\n",
            "Wall time: 20.5 s\n"
          ]
        }
      ]
    },
    {
      "cell_type": "code",
      "metadata": {
        "colab": {
          "base_uri": "https://localhost:8080/",
          "height": 307
        },
        "id": "MTVwoj5WCXsN",
        "outputId": "14a1f6f1-30eb-49d1-a2dc-4fe2f6d260a6"
      },
      "source": [
        "train.head()"
      ],
      "execution_count": 24,
      "outputs": [
        {
          "output_type": "execute_result",
          "data": {
            "text/html": [
              "<div>\n",
              "<style scoped>\n",
              "    .dataframe tbody tr th:only-of-type {\n",
              "        vertical-align: middle;\n",
              "    }\n",
              "\n",
              "    .dataframe tbody tr th {\n",
              "        vertical-align: top;\n",
              "    }\n",
              "\n",
              "    .dataframe thead th {\n",
              "        text-align: right;\n",
              "    }\n",
              "</style>\n",
              "<table border=\"1\" class=\"dataframe\">\n",
              "  <thead>\n",
              "    <tr style=\"text-align: right;\">\n",
              "      <th></th>\n",
              "      <th>impression_id</th>\n",
              "      <th>impression_time</th>\n",
              "      <th>user_id</th>\n",
              "      <th>app_code</th>\n",
              "      <th>os_version</th>\n",
              "      <th>is_4G</th>\n",
              "      <th>cat1_max</th>\n",
              "      <th>cat1_min</th>\n",
              "      <th>cat1_mean</th>\n",
              "      <th>cat2_max</th>\n",
              "      <th>cat2_min</th>\n",
              "      <th>cat2_mean</th>\n",
              "      <th>cat3_max</th>\n",
              "      <th>cat3_min</th>\n",
              "      <th>cat3_mean</th>\n",
              "      <th>item_count</th>\n",
              "      <th>price_median</th>\n",
              "      <th>price_sum</th>\n",
              "      <th>product_type_max</th>\n",
              "      <th>product_type_min</th>\n",
              "      <th>impression_count</th>\n",
              "    </tr>\n",
              "  </thead>\n",
              "  <tbody>\n",
              "    <tr>\n",
              "      <th>0</th>\n",
              "      <td>c4ca4238a0b923820dcc509a6f75849b</td>\n",
              "      <td>2018-11-15 00:00:00</td>\n",
              "      <td>87862</td>\n",
              "      <td>422</td>\n",
              "      <td>old</td>\n",
              "      <td>0</td>\n",
              "      <td>11.0</td>\n",
              "      <td>11.0</td>\n",
              "      <td>11.000000</td>\n",
              "      <td>35.0</td>\n",
              "      <td>35.0</td>\n",
              "      <td>35.000000</td>\n",
              "      <td>20.0</td>\n",
              "      <td>20.0</td>\n",
              "      <td>20.000000</td>\n",
              "      <td>1</td>\n",
              "      <td>2350.0</td>\n",
              "      <td>2350.0</td>\n",
              "      <td>5622.0</td>\n",
              "      <td>5622.0</td>\n",
              "      <td>1</td>\n",
              "    </tr>\n",
              "    <tr>\n",
              "      <th>1</th>\n",
              "      <td>45c48cce2e2d7fbdea1afc51c7c6ad26</td>\n",
              "      <td>2018-11-15 00:01:00</td>\n",
              "      <td>63410</td>\n",
              "      <td>467</td>\n",
              "      <td>latest</td>\n",
              "      <td>1</td>\n",
              "      <td>13.0</td>\n",
              "      <td>4.0</td>\n",
              "      <td>7.333333</td>\n",
              "      <td>76.0</td>\n",
              "      <td>43.0</td>\n",
              "      <td>67.000000</td>\n",
              "      <td>295.0</td>\n",
              "      <td>67.0</td>\n",
              "      <td>257.500000</td>\n",
              "      <td>7</td>\n",
              "      <td>3421.0</td>\n",
              "      <td>53434.0</td>\n",
              "      <td>9337.0</td>\n",
              "      <td>577.0</td>\n",
              "      <td>12</td>\n",
              "    </tr>\n",
              "    <tr>\n",
              "      <th>2</th>\n",
              "      <td>70efdf2ec9b086079795c442636b55fb</td>\n",
              "      <td>2018-11-15 00:02:00</td>\n",
              "      <td>71748</td>\n",
              "      <td>259</td>\n",
              "      <td>intermediate</td>\n",
              "      <td>1</td>\n",
              "      <td>13.0</td>\n",
              "      <td>8.0</td>\n",
              "      <td>10.500000</td>\n",
              "      <td>67.0</td>\n",
              "      <td>21.0</td>\n",
              "      <td>44.000000</td>\n",
              "      <td>170.0</td>\n",
              "      <td>139.0</td>\n",
              "      <td>154.500000</td>\n",
              "      <td>2</td>\n",
              "      <td>1598.5</td>\n",
              "      <td>3197.0</td>\n",
              "      <td>2874.0</td>\n",
              "      <td>2325.0</td>\n",
              "      <td>2</td>\n",
              "    </tr>\n",
              "    <tr>\n",
              "      <th>3</th>\n",
              "      <td>8e296a067a37563370ded05f5a3bf3ec</td>\n",
              "      <td>2018-11-15 00:02:00</td>\n",
              "      <td>69209</td>\n",
              "      <td>244</td>\n",
              "      <td>latest</td>\n",
              "      <td>1</td>\n",
              "      <td>17.0</td>\n",
              "      <td>0.0</td>\n",
              "      <td>9.277778</td>\n",
              "      <td>63.0</td>\n",
              "      <td>21.0</td>\n",
              "      <td>44.333333</td>\n",
              "      <td>313.0</td>\n",
              "      <td>20.0</td>\n",
              "      <td>159.444444</td>\n",
              "      <td>12</td>\n",
              "      <td>2307.0</td>\n",
              "      <td>179341.0</td>\n",
              "      <td>9959.0</td>\n",
              "      <td>1943.0</td>\n",
              "      <td>18</td>\n",
              "    </tr>\n",
              "    <tr>\n",
              "      <th>4</th>\n",
              "      <td>182be0c5cdcd5072bb1864cdee4d3d6e</td>\n",
              "      <td>2018-11-15 00:02:00</td>\n",
              "      <td>62873</td>\n",
              "      <td>473</td>\n",
              "      <td>latest</td>\n",
              "      <td>0</td>\n",
              "      <td>17.0</td>\n",
              "      <td>1.0</td>\n",
              "      <td>9.978261</td>\n",
              "      <td>76.0</td>\n",
              "      <td>0.0</td>\n",
              "      <td>32.652174</td>\n",
              "      <td>332.0</td>\n",
              "      <td>11.0</td>\n",
              "      <td>168.391304</td>\n",
              "      <td>34</td>\n",
              "      <td>3596.5</td>\n",
              "      <td>396471.0</td>\n",
              "      <td>10412.0</td>\n",
              "      <td>248.0</td>\n",
              "      <td>46</td>\n",
              "    </tr>\n",
              "  </tbody>\n",
              "</table>\n",
              "</div>"
            ],
            "text/plain": [
              "                      impression_id  ... impression_count\n",
              "0  c4ca4238a0b923820dcc509a6f75849b  ...                1\n",
              "1  45c48cce2e2d7fbdea1afc51c7c6ad26  ...               12\n",
              "2  70efdf2ec9b086079795c442636b55fb  ...                2\n",
              "3  8e296a067a37563370ded05f5a3bf3ec  ...               18\n",
              "4  182be0c5cdcd5072bb1864cdee4d3d6e  ...               46\n",
              "\n",
              "[5 rows x 21 columns]"
            ]
          },
          "metadata": {},
          "execution_count": 24
        }
      ]
    },
    {
      "cell_type": "code",
      "metadata": {
        "id": "asY86SJuxj28"
      },
      "source": [
        "rm_col=['impression_id']"
      ],
      "execution_count": 25,
      "outputs": []
    },
    {
      "cell_type": "code",
      "metadata": {
        "id": "Sa8Q0gAA2Rmz"
      },
      "source": [
        "train1 = train.drop(rm_col, axis=1)\n",
        "\n",
        "test1 = test.drop(rm_col, axis=1)"
      ],
      "execution_count": 26,
      "outputs": []
    },
    {
      "cell_type": "code",
      "metadata": {
        "colab": {
          "base_uri": "https://localhost:8080/"
        },
        "id": "eK-OS7wj3Gal",
        "outputId": "72930c5e-fe6f-429c-e12c-f08ab308aedc"
      },
      "source": [
        "print('Shape of train Data :', train1.shape, '\\n Shape of test data :', test1.shape)"
      ],
      "execution_count": 27,
      "outputs": [
        {
          "output_type": "stream",
          "name": "stdout",
          "text": [
            "Shape of train Data : (237609, 20) \n",
            " Shape of test data : (90675, 20)\n"
          ]
        }
      ]
    },
    {
      "cell_type": "code",
      "metadata": {
        "id": "opMuHBpECXsO"
      },
      "source": [
        "train1 = train1.fillna(0)\n",
        "test1 = test1.fillna(0)"
      ],
      "execution_count": 28,
      "outputs": []
    },
    {
      "cell_type": "code",
      "metadata": {
        "colab": {
          "base_uri": "https://localhost:8080/",
          "height": 307
        },
        "id": "-Iq97xIy3GIb",
        "outputId": "d143a43f-0f3a-4074-8f44-df31de94203e"
      },
      "source": [
        "test1.head()"
      ],
      "execution_count": 29,
      "outputs": [
        {
          "output_type": "execute_result",
          "data": {
            "text/html": [
              "<div>\n",
              "<style scoped>\n",
              "    .dataframe tbody tr th:only-of-type {\n",
              "        vertical-align: middle;\n",
              "    }\n",
              "\n",
              "    .dataframe tbody tr th {\n",
              "        vertical-align: top;\n",
              "    }\n",
              "\n",
              "    .dataframe thead th {\n",
              "        text-align: right;\n",
              "    }\n",
              "</style>\n",
              "<table border=\"1\" class=\"dataframe\">\n",
              "  <thead>\n",
              "    <tr style=\"text-align: right;\">\n",
              "      <th></th>\n",
              "      <th>impression_time</th>\n",
              "      <th>user_id</th>\n",
              "      <th>app_code</th>\n",
              "      <th>os_version</th>\n",
              "      <th>is_4G</th>\n",
              "      <th>cat1_max</th>\n",
              "      <th>cat1_min</th>\n",
              "      <th>cat1_mean</th>\n",
              "      <th>cat2_max</th>\n",
              "      <th>cat2_min</th>\n",
              "      <th>cat2_mean</th>\n",
              "      <th>cat3_max</th>\n",
              "      <th>cat3_min</th>\n",
              "      <th>cat3_mean</th>\n",
              "      <th>item_count</th>\n",
              "      <th>price_median</th>\n",
              "      <th>price_sum</th>\n",
              "      <th>product_type_max</th>\n",
              "      <th>product_type_min</th>\n",
              "      <th>impression_count</th>\n",
              "    </tr>\n",
              "  </thead>\n",
              "  <tbody>\n",
              "    <tr>\n",
              "      <th>0</th>\n",
              "      <td>2018-12-13 07:44:00</td>\n",
              "      <td>44754</td>\n",
              "      <td>127</td>\n",
              "      <td>latest</td>\n",
              "      <td>1</td>\n",
              "      <td>1.0</td>\n",
              "      <td>1.0</td>\n",
              "      <td>1.000000</td>\n",
              "      <td>42.0</td>\n",
              "      <td>42.0</td>\n",
              "      <td>42.000000</td>\n",
              "      <td>220.0</td>\n",
              "      <td>220.0</td>\n",
              "      <td>220.000000</td>\n",
              "      <td>1</td>\n",
              "      <td>23424.0</td>\n",
              "      <td>23424.0</td>\n",
              "      <td>1617.0</td>\n",
              "      <td>1617.0</td>\n",
              "      <td>1</td>\n",
              "    </tr>\n",
              "    <tr>\n",
              "      <th>1</th>\n",
              "      <td>2018-12-13 07:45:00</td>\n",
              "      <td>29656</td>\n",
              "      <td>44</td>\n",
              "      <td>latest</td>\n",
              "      <td>0</td>\n",
              "      <td>17.0</td>\n",
              "      <td>0.0</td>\n",
              "      <td>9.638889</td>\n",
              "      <td>78.0</td>\n",
              "      <td>3.0</td>\n",
              "      <td>38.430556</td>\n",
              "      <td>336.0</td>\n",
              "      <td>15.0</td>\n",
              "      <td>138.000000</td>\n",
              "      <td>46</td>\n",
              "      <td>3840.0</td>\n",
              "      <td>774171.0</td>\n",
              "      <td>10059.0</td>\n",
              "      <td>507.0</td>\n",
              "      <td>72</td>\n",
              "    </tr>\n",
              "    <tr>\n",
              "      <th>2</th>\n",
              "      <td>2018-12-13 07:46:00</td>\n",
              "      <td>25234</td>\n",
              "      <td>296</td>\n",
              "      <td>latest</td>\n",
              "      <td>1</td>\n",
              "      <td>17.0</td>\n",
              "      <td>7.0</td>\n",
              "      <td>12.555556</td>\n",
              "      <td>46.0</td>\n",
              "      <td>0.0</td>\n",
              "      <td>20.444444</td>\n",
              "      <td>328.0</td>\n",
              "      <td>4.0</td>\n",
              "      <td>201.222222</td>\n",
              "      <td>7</td>\n",
              "      <td>2116.0</td>\n",
              "      <td>44771.0</td>\n",
              "      <td>5552.0</td>\n",
              "      <td>60.0</td>\n",
              "      <td>9</td>\n",
              "    </tr>\n",
              "    <tr>\n",
              "      <th>3</th>\n",
              "      <td>2018-12-13 07:47:00</td>\n",
              "      <td>22988</td>\n",
              "      <td>207</td>\n",
              "      <td>latest</td>\n",
              "      <td>1</td>\n",
              "      <td>17.0</td>\n",
              "      <td>0.0</td>\n",
              "      <td>7.162162</td>\n",
              "      <td>76.0</td>\n",
              "      <td>0.0</td>\n",
              "      <td>33.108108</td>\n",
              "      <td>338.0</td>\n",
              "      <td>84.0</td>\n",
              "      <td>219.432432</td>\n",
              "      <td>17</td>\n",
              "      <td>5248.0</td>\n",
              "      <td>555344.0</td>\n",
              "      <td>9776.0</td>\n",
              "      <td>344.0</td>\n",
              "      <td>37</td>\n",
              "    </tr>\n",
              "    <tr>\n",
              "      <th>4</th>\n",
              "      <td>2018-12-13 07:48:00</td>\n",
              "      <td>35431</td>\n",
              "      <td>242</td>\n",
              "      <td>latest</td>\n",
              "      <td>1</td>\n",
              "      <td>17.0</td>\n",
              "      <td>0.0</td>\n",
              "      <td>8.178571</td>\n",
              "      <td>78.0</td>\n",
              "      <td>3.0</td>\n",
              "      <td>36.678571</td>\n",
              "      <td>308.0</td>\n",
              "      <td>18.0</td>\n",
              "      <td>143.285714</td>\n",
              "      <td>26</td>\n",
              "      <td>3105.0</td>\n",
              "      <td>245792.0</td>\n",
              "      <td>10412.0</td>\n",
              "      <td>1349.0</td>\n",
              "      <td>28</td>\n",
              "    </tr>\n",
              "  </tbody>\n",
              "</table>\n",
              "</div>"
            ],
            "text/plain": [
              "       impression_time  user_id  ...  product_type_min impression_count\n",
              "0  2018-12-13 07:44:00    44754  ...            1617.0                1\n",
              "1  2018-12-13 07:45:00    29656  ...             507.0               72\n",
              "2  2018-12-13 07:46:00    25234  ...              60.0                9\n",
              "3  2018-12-13 07:47:00    22988  ...             344.0               37\n",
              "4  2018-12-13 07:48:00    35431  ...            1349.0               28\n",
              "\n",
              "[5 rows x 20 columns]"
            ]
          },
          "metadata": {},
          "execution_count": 29
        }
      ]
    },
    {
      "cell_type": "markdown",
      "metadata": {
        "id": "PiL0KsWtEVZu"
      },
      "source": [
        "<a id=2> </a> <br>\n",
        "\n",
        "### <span style=\"background:gray;color:red\">3.2 </span><span style=\"background:yellow;color:blue\">LabelEncoding </span>\n",
        "\n",
        "* Do label encoding for `os_version` column"
      ]
    },
    {
      "cell_type": "code",
      "metadata": {
        "id": "w5QaO2m7EVZw"
      },
      "source": [
        "encode_cols = ['os_version'] #, 'device_type']\n",
        "def labelencpode(df):\n",
        "    enc = LabelEncoder()\n",
        "    for col in encode_cols:\n",
        "        enc.fit(df[col])\n",
        "        df[col] = enc.transform(df[col])\n",
        "    return df\n",
        "train1 = labelencpode(train1)\n",
        "test1 = labelencpode(test1)"
      ],
      "execution_count": 30,
      "outputs": []
    },
    {
      "cell_type": "code",
      "metadata": {
        "colab": {
          "base_uri": "https://localhost:8080/",
          "height": 307
        },
        "id": "TeaHKRKKEVZ6",
        "outputId": "21cff801-61a0-4880-bd38-2b0028011383"
      },
      "source": [
        "train1.head()"
      ],
      "execution_count": 31,
      "outputs": [
        {
          "output_type": "execute_result",
          "data": {
            "text/html": [
              "<div>\n",
              "<style scoped>\n",
              "    .dataframe tbody tr th:only-of-type {\n",
              "        vertical-align: middle;\n",
              "    }\n",
              "\n",
              "    .dataframe tbody tr th {\n",
              "        vertical-align: top;\n",
              "    }\n",
              "\n",
              "    .dataframe thead th {\n",
              "        text-align: right;\n",
              "    }\n",
              "</style>\n",
              "<table border=\"1\" class=\"dataframe\">\n",
              "  <thead>\n",
              "    <tr style=\"text-align: right;\">\n",
              "      <th></th>\n",
              "      <th>impression_time</th>\n",
              "      <th>user_id</th>\n",
              "      <th>app_code</th>\n",
              "      <th>os_version</th>\n",
              "      <th>is_4G</th>\n",
              "      <th>cat1_max</th>\n",
              "      <th>cat1_min</th>\n",
              "      <th>cat1_mean</th>\n",
              "      <th>cat2_max</th>\n",
              "      <th>cat2_min</th>\n",
              "      <th>cat2_mean</th>\n",
              "      <th>cat3_max</th>\n",
              "      <th>cat3_min</th>\n",
              "      <th>cat3_mean</th>\n",
              "      <th>item_count</th>\n",
              "      <th>price_median</th>\n",
              "      <th>price_sum</th>\n",
              "      <th>product_type_max</th>\n",
              "      <th>product_type_min</th>\n",
              "      <th>impression_count</th>\n",
              "    </tr>\n",
              "  </thead>\n",
              "  <tbody>\n",
              "    <tr>\n",
              "      <th>0</th>\n",
              "      <td>2018-11-15 00:00:00</td>\n",
              "      <td>87862</td>\n",
              "      <td>422</td>\n",
              "      <td>2</td>\n",
              "      <td>0</td>\n",
              "      <td>11.0</td>\n",
              "      <td>11.0</td>\n",
              "      <td>11.000000</td>\n",
              "      <td>35.0</td>\n",
              "      <td>35.0</td>\n",
              "      <td>35.000000</td>\n",
              "      <td>20.0</td>\n",
              "      <td>20.0</td>\n",
              "      <td>20.000000</td>\n",
              "      <td>1</td>\n",
              "      <td>2350.0</td>\n",
              "      <td>2350.0</td>\n",
              "      <td>5622.0</td>\n",
              "      <td>5622.0</td>\n",
              "      <td>1</td>\n",
              "    </tr>\n",
              "    <tr>\n",
              "      <th>1</th>\n",
              "      <td>2018-11-15 00:01:00</td>\n",
              "      <td>63410</td>\n",
              "      <td>467</td>\n",
              "      <td>1</td>\n",
              "      <td>1</td>\n",
              "      <td>13.0</td>\n",
              "      <td>4.0</td>\n",
              "      <td>7.333333</td>\n",
              "      <td>76.0</td>\n",
              "      <td>43.0</td>\n",
              "      <td>67.000000</td>\n",
              "      <td>295.0</td>\n",
              "      <td>67.0</td>\n",
              "      <td>257.500000</td>\n",
              "      <td>7</td>\n",
              "      <td>3421.0</td>\n",
              "      <td>53434.0</td>\n",
              "      <td>9337.0</td>\n",
              "      <td>577.0</td>\n",
              "      <td>12</td>\n",
              "    </tr>\n",
              "    <tr>\n",
              "      <th>2</th>\n",
              "      <td>2018-11-15 00:02:00</td>\n",
              "      <td>71748</td>\n",
              "      <td>259</td>\n",
              "      <td>0</td>\n",
              "      <td>1</td>\n",
              "      <td>13.0</td>\n",
              "      <td>8.0</td>\n",
              "      <td>10.500000</td>\n",
              "      <td>67.0</td>\n",
              "      <td>21.0</td>\n",
              "      <td>44.000000</td>\n",
              "      <td>170.0</td>\n",
              "      <td>139.0</td>\n",
              "      <td>154.500000</td>\n",
              "      <td>2</td>\n",
              "      <td>1598.5</td>\n",
              "      <td>3197.0</td>\n",
              "      <td>2874.0</td>\n",
              "      <td>2325.0</td>\n",
              "      <td>2</td>\n",
              "    </tr>\n",
              "    <tr>\n",
              "      <th>3</th>\n",
              "      <td>2018-11-15 00:02:00</td>\n",
              "      <td>69209</td>\n",
              "      <td>244</td>\n",
              "      <td>1</td>\n",
              "      <td>1</td>\n",
              "      <td>17.0</td>\n",
              "      <td>0.0</td>\n",
              "      <td>9.277778</td>\n",
              "      <td>63.0</td>\n",
              "      <td>21.0</td>\n",
              "      <td>44.333333</td>\n",
              "      <td>313.0</td>\n",
              "      <td>20.0</td>\n",
              "      <td>159.444444</td>\n",
              "      <td>12</td>\n",
              "      <td>2307.0</td>\n",
              "      <td>179341.0</td>\n",
              "      <td>9959.0</td>\n",
              "      <td>1943.0</td>\n",
              "      <td>18</td>\n",
              "    </tr>\n",
              "    <tr>\n",
              "      <th>4</th>\n",
              "      <td>2018-11-15 00:02:00</td>\n",
              "      <td>62873</td>\n",
              "      <td>473</td>\n",
              "      <td>1</td>\n",
              "      <td>0</td>\n",
              "      <td>17.0</td>\n",
              "      <td>1.0</td>\n",
              "      <td>9.978261</td>\n",
              "      <td>76.0</td>\n",
              "      <td>0.0</td>\n",
              "      <td>32.652174</td>\n",
              "      <td>332.0</td>\n",
              "      <td>11.0</td>\n",
              "      <td>168.391304</td>\n",
              "      <td>34</td>\n",
              "      <td>3596.5</td>\n",
              "      <td>396471.0</td>\n",
              "      <td>10412.0</td>\n",
              "      <td>248.0</td>\n",
              "      <td>46</td>\n",
              "    </tr>\n",
              "  </tbody>\n",
              "</table>\n",
              "</div>"
            ],
            "text/plain": [
              "       impression_time  user_id  ...  product_type_min  impression_count\n",
              "0  2018-11-15 00:00:00    87862  ...            5622.0                 1\n",
              "1  2018-11-15 00:01:00    63410  ...             577.0                12\n",
              "2  2018-11-15 00:02:00    71748  ...            2325.0                 2\n",
              "3  2018-11-15 00:02:00    69209  ...            1943.0                18\n",
              "4  2018-11-15 00:02:00    62873  ...             248.0                46\n",
              "\n",
              "[5 rows x 20 columns]"
            ]
          },
          "metadata": {},
          "execution_count": 31
        }
      ]
    },
    {
      "cell_type": "markdown",
      "metadata": {
        "id": "gkMOb4AjEVaQ"
      },
      "source": [
        "<a id=3> </a> <br>\n",
        "\n",
        "### <span style=\"background:gray;color:red\">3.3 </span><span style=\"background:yellow;color:blue\">Date Columns Processing </span>\n",
        "\n",
        "* Convert `impression_time` column to datetime format\n",
        "* Get month, day of week, day of month and hour "
      ]
    },
    {
      "cell_type": "code",
      "metadata": {
        "id": "8OnDxnPpEVaS"
      },
      "source": [
        "def date_col(df):\n",
        "  df['impression_time'] = pd.to_datetime(df['impression_time'])\n",
        "  df['dow'] = df['impression_time'].apply(lambda x: x.weekday())\n",
        "  df[\"day\"]  = df['impression_time'].apply(lambda x: x.day)\n",
        "  df['hour'] = df['impression_time'].apply(lambda x: x.hour)\n",
        "  df.drop('impression_time', axis=1, inplace=True)\n",
        "  return df\n",
        "\n",
        "train1 = date_col(train1)\n",
        "test1 = date_col(test1)"
      ],
      "execution_count": 32,
      "outputs": []
    },
    {
      "cell_type": "markdown",
      "metadata": {
        "id": "d1KxYko5EVak"
      },
      "source": [
        "<a id=4> </a> <br>\n",
        "\n",
        "## <span style=\"background:gray;color:red\">4. </span><span style=\"background:yellow;color:blue\">Feature Engineering </span>\n",
        "\n",
        "#### `I found high correlation between categories, item count, product type, and item price. To reduce correlation among them, I took ratios. It did not reduce correlation between target and independent variables.`  "
      ]
    },
    {
      "cell_type": "code",
      "metadata": {
        "id": "9JaBMH1HCXsQ"
      },
      "source": [
        "rm_cols = ['cat1_max', 'cat1_min', 'cat1_mean','cat2_max', 'cat2_min', 'cat2_mean',\n",
        "                    'cat3_max', 'cat3_min', 'cat3_mean','price_median', 'price_sum',\n",
        "                    'product_type_max', 'product_type_min', 'item_count', 'impression_count']\n",
        "def feat_eng(df):\n",
        "    df['cat1'] = df['cat1_max']/(df['cat1_min'] + 1)\n",
        "    df['cat12'] = df['cat2_max']/(df['cat2_min'] + 1)\n",
        "    df['cat3'] = df['cat3_max']/ (df['cat3_min'] + 1)\n",
        "    df['product_type'] = df['product_type_max'] /(df['product_type_min'] + 1)\n",
        "    df['price_ratio'] = df['price_sum'] / df['price_median']\n",
        "    df['f1'] = (df['cat1_mean'] + df['cat2_mean'] + df['cat3_mean'])/(df['item_count'] + df['impression_count'] )\n",
        "    df['f2'] = df['item_count']/df['impression_count']\n",
        "    df.drop(rm_cols, axis=1, inplace=True)\n",
        "    return df\n",
        "train1 = feat_eng(train1)\n",
        "test1 = feat_eng(test1)"
      ],
      "execution_count": 33,
      "outputs": []
    },
    {
      "cell_type": "code",
      "metadata": {
        "colab": {
          "base_uri": "https://localhost:8080/",
          "height": 223
        },
        "id": "0M-bKyivCXsQ",
        "outputId": "99fa61e2-7b8b-4f6c-a535-ec6053dde263"
      },
      "source": [
        "train1.head()"
      ],
      "execution_count": 34,
      "outputs": [
        {
          "output_type": "execute_result",
          "data": {
            "text/html": [
              "<div>\n",
              "<style scoped>\n",
              "    .dataframe tbody tr th:only-of-type {\n",
              "        vertical-align: middle;\n",
              "    }\n",
              "\n",
              "    .dataframe tbody tr th {\n",
              "        vertical-align: top;\n",
              "    }\n",
              "\n",
              "    .dataframe thead th {\n",
              "        text-align: right;\n",
              "    }\n",
              "</style>\n",
              "<table border=\"1\" class=\"dataframe\">\n",
              "  <thead>\n",
              "    <tr style=\"text-align: right;\">\n",
              "      <th></th>\n",
              "      <th>user_id</th>\n",
              "      <th>app_code</th>\n",
              "      <th>os_version</th>\n",
              "      <th>is_4G</th>\n",
              "      <th>dow</th>\n",
              "      <th>day</th>\n",
              "      <th>hour</th>\n",
              "      <th>cat1</th>\n",
              "      <th>cat12</th>\n",
              "      <th>cat3</th>\n",
              "      <th>product_type</th>\n",
              "      <th>price_ratio</th>\n",
              "      <th>f1</th>\n",
              "      <th>f2</th>\n",
              "    </tr>\n",
              "  </thead>\n",
              "  <tbody>\n",
              "    <tr>\n",
              "      <th>0</th>\n",
              "      <td>87862</td>\n",
              "      <td>422</td>\n",
              "      <td>2</td>\n",
              "      <td>0</td>\n",
              "      <td>3</td>\n",
              "      <td>15</td>\n",
              "      <td>0</td>\n",
              "      <td>0.916667</td>\n",
              "      <td>0.972222</td>\n",
              "      <td>0.952381</td>\n",
              "      <td>0.999822</td>\n",
              "      <td>1.000000</td>\n",
              "      <td>33.000000</td>\n",
              "      <td>1.000000</td>\n",
              "    </tr>\n",
              "    <tr>\n",
              "      <th>1</th>\n",
              "      <td>63410</td>\n",
              "      <td>467</td>\n",
              "      <td>1</td>\n",
              "      <td>1</td>\n",
              "      <td>3</td>\n",
              "      <td>15</td>\n",
              "      <td>0</td>\n",
              "      <td>2.600000</td>\n",
              "      <td>1.727273</td>\n",
              "      <td>4.338235</td>\n",
              "      <td>16.153979</td>\n",
              "      <td>15.619410</td>\n",
              "      <td>17.464912</td>\n",
              "      <td>0.583333</td>\n",
              "    </tr>\n",
              "    <tr>\n",
              "      <th>2</th>\n",
              "      <td>71748</td>\n",
              "      <td>259</td>\n",
              "      <td>0</td>\n",
              "      <td>1</td>\n",
              "      <td>3</td>\n",
              "      <td>15</td>\n",
              "      <td>0</td>\n",
              "      <td>1.444444</td>\n",
              "      <td>3.045455</td>\n",
              "      <td>1.214286</td>\n",
              "      <td>1.235598</td>\n",
              "      <td>2.000000</td>\n",
              "      <td>52.250000</td>\n",
              "      <td>1.000000</td>\n",
              "    </tr>\n",
              "    <tr>\n",
              "      <th>3</th>\n",
              "      <td>69209</td>\n",
              "      <td>244</td>\n",
              "      <td>1</td>\n",
              "      <td>1</td>\n",
              "      <td>3</td>\n",
              "      <td>15</td>\n",
              "      <td>0</td>\n",
              "      <td>17.000000</td>\n",
              "      <td>2.863636</td>\n",
              "      <td>14.904762</td>\n",
              "      <td>5.122942</td>\n",
              "      <td>77.737755</td>\n",
              "      <td>7.101852</td>\n",
              "      <td>0.666667</td>\n",
              "    </tr>\n",
              "    <tr>\n",
              "      <th>4</th>\n",
              "      <td>62873</td>\n",
              "      <td>473</td>\n",
              "      <td>1</td>\n",
              "      <td>0</td>\n",
              "      <td>3</td>\n",
              "      <td>15</td>\n",
              "      <td>0</td>\n",
              "      <td>8.500000</td>\n",
              "      <td>76.000000</td>\n",
              "      <td>27.666667</td>\n",
              "      <td>41.815261</td>\n",
              "      <td>110.238009</td>\n",
              "      <td>2.637772</td>\n",
              "      <td>0.739130</td>\n",
              "    </tr>\n",
              "  </tbody>\n",
              "</table>\n",
              "</div>"
            ],
            "text/plain": [
              "   user_id  app_code  os_version  ...  price_ratio         f1        f2\n",
              "0    87862       422           2  ...     1.000000  33.000000  1.000000\n",
              "1    63410       467           1  ...    15.619410  17.464912  0.583333\n",
              "2    71748       259           0  ...     2.000000  52.250000  1.000000\n",
              "3    69209       244           1  ...    77.737755   7.101852  0.666667\n",
              "4    62873       473           1  ...   110.238009   2.637772  0.739130\n",
              "\n",
              "[5 rows x 14 columns]"
            ]
          },
          "metadata": {},
          "execution_count": 34
        }
      ]
    },
    {
      "cell_type": "code",
      "metadata": {
        "colab": {
          "base_uri": "https://localhost:8080/"
        },
        "id": "wAg_3dR8EVbT",
        "outputId": "fe2f134c-c927-4b25-8e28-659beb0493da"
      },
      "source": [
        "print('Shape of train Data :', train1.shape, '\\n Shape of test data :', test1.shape)"
      ],
      "execution_count": 35,
      "outputs": [
        {
          "output_type": "stream",
          "name": "stdout",
          "text": [
            "Shape of train Data : (237609, 14) \n",
            " Shape of test data : (90675, 14)\n"
          ]
        }
      ]
    },
    {
      "cell_type": "code",
      "metadata": {
        "colab": {
          "base_uri": "https://localhost:8080/",
          "height": 223
        },
        "id": "8X08B7ngDad3",
        "outputId": "7ea60fb3-e759-49bd-9132-68bba8ff0937"
      },
      "source": [
        "train1.head()"
      ],
      "execution_count": 36,
      "outputs": [
        {
          "output_type": "execute_result",
          "data": {
            "text/html": [
              "<div>\n",
              "<style scoped>\n",
              "    .dataframe tbody tr th:only-of-type {\n",
              "        vertical-align: middle;\n",
              "    }\n",
              "\n",
              "    .dataframe tbody tr th {\n",
              "        vertical-align: top;\n",
              "    }\n",
              "\n",
              "    .dataframe thead th {\n",
              "        text-align: right;\n",
              "    }\n",
              "</style>\n",
              "<table border=\"1\" class=\"dataframe\">\n",
              "  <thead>\n",
              "    <tr style=\"text-align: right;\">\n",
              "      <th></th>\n",
              "      <th>user_id</th>\n",
              "      <th>app_code</th>\n",
              "      <th>os_version</th>\n",
              "      <th>is_4G</th>\n",
              "      <th>dow</th>\n",
              "      <th>day</th>\n",
              "      <th>hour</th>\n",
              "      <th>cat1</th>\n",
              "      <th>cat12</th>\n",
              "      <th>cat3</th>\n",
              "      <th>product_type</th>\n",
              "      <th>price_ratio</th>\n",
              "      <th>f1</th>\n",
              "      <th>f2</th>\n",
              "    </tr>\n",
              "  </thead>\n",
              "  <tbody>\n",
              "    <tr>\n",
              "      <th>0</th>\n",
              "      <td>87862</td>\n",
              "      <td>422</td>\n",
              "      <td>2</td>\n",
              "      <td>0</td>\n",
              "      <td>3</td>\n",
              "      <td>15</td>\n",
              "      <td>0</td>\n",
              "      <td>0.916667</td>\n",
              "      <td>0.972222</td>\n",
              "      <td>0.952381</td>\n",
              "      <td>0.999822</td>\n",
              "      <td>1.000000</td>\n",
              "      <td>33.000000</td>\n",
              "      <td>1.000000</td>\n",
              "    </tr>\n",
              "    <tr>\n",
              "      <th>1</th>\n",
              "      <td>63410</td>\n",
              "      <td>467</td>\n",
              "      <td>1</td>\n",
              "      <td>1</td>\n",
              "      <td>3</td>\n",
              "      <td>15</td>\n",
              "      <td>0</td>\n",
              "      <td>2.600000</td>\n",
              "      <td>1.727273</td>\n",
              "      <td>4.338235</td>\n",
              "      <td>16.153979</td>\n",
              "      <td>15.619410</td>\n",
              "      <td>17.464912</td>\n",
              "      <td>0.583333</td>\n",
              "    </tr>\n",
              "    <tr>\n",
              "      <th>2</th>\n",
              "      <td>71748</td>\n",
              "      <td>259</td>\n",
              "      <td>0</td>\n",
              "      <td>1</td>\n",
              "      <td>3</td>\n",
              "      <td>15</td>\n",
              "      <td>0</td>\n",
              "      <td>1.444444</td>\n",
              "      <td>3.045455</td>\n",
              "      <td>1.214286</td>\n",
              "      <td>1.235598</td>\n",
              "      <td>2.000000</td>\n",
              "      <td>52.250000</td>\n",
              "      <td>1.000000</td>\n",
              "    </tr>\n",
              "    <tr>\n",
              "      <th>3</th>\n",
              "      <td>69209</td>\n",
              "      <td>244</td>\n",
              "      <td>1</td>\n",
              "      <td>1</td>\n",
              "      <td>3</td>\n",
              "      <td>15</td>\n",
              "      <td>0</td>\n",
              "      <td>17.000000</td>\n",
              "      <td>2.863636</td>\n",
              "      <td>14.904762</td>\n",
              "      <td>5.122942</td>\n",
              "      <td>77.737755</td>\n",
              "      <td>7.101852</td>\n",
              "      <td>0.666667</td>\n",
              "    </tr>\n",
              "    <tr>\n",
              "      <th>4</th>\n",
              "      <td>62873</td>\n",
              "      <td>473</td>\n",
              "      <td>1</td>\n",
              "      <td>0</td>\n",
              "      <td>3</td>\n",
              "      <td>15</td>\n",
              "      <td>0</td>\n",
              "      <td>8.500000</td>\n",
              "      <td>76.000000</td>\n",
              "      <td>27.666667</td>\n",
              "      <td>41.815261</td>\n",
              "      <td>110.238009</td>\n",
              "      <td>2.637772</td>\n",
              "      <td>0.739130</td>\n",
              "    </tr>\n",
              "  </tbody>\n",
              "</table>\n",
              "</div>"
            ],
            "text/plain": [
              "   user_id  app_code  os_version  ...  price_ratio         f1        f2\n",
              "0    87862       422           2  ...     1.000000  33.000000  1.000000\n",
              "1    63410       467           1  ...    15.619410  17.464912  0.583333\n",
              "2    71748       259           0  ...     2.000000  52.250000  1.000000\n",
              "3    69209       244           1  ...    77.737755   7.101852  0.666667\n",
              "4    62873       473           1  ...   110.238009   2.637772  0.739130\n",
              "\n",
              "[5 rows x 14 columns]"
            ]
          },
          "metadata": {},
          "execution_count": 36
        }
      ]
    },
    {
      "cell_type": "code",
      "metadata": {
        "id": "LsJESi0KCXsR"
      },
      "source": [
        "train1['is_click'] = target"
      ],
      "execution_count": 37,
      "outputs": []
    },
    {
      "cell_type": "code",
      "metadata": {
        "colab": {
          "base_uri": "https://localhost:8080/",
          "height": 579
        },
        "id": "l17aA8uICXsR",
        "outputId": "598cc904-4ec3-401e-9fff-d5a5a8148352"
      },
      "source": [
        "# Plot Correlation \n",
        "plt.subplots(figsize=(14,9))\n",
        "data = train1.corr()\n",
        "sns.heatmap(data, cmap ='Blues')"
      ],
      "execution_count": 38,
      "outputs": [
        {
          "output_type": "execute_result",
          "data": {
            "text/plain": [
              "<matplotlib.axes._subplots.AxesSubplot at 0x7fba7fef8dd0>"
            ]
          },
          "metadata": {},
          "execution_count": 38
        },
        {
          "output_type": "display_data",
          "data": {
            "image/png": "[encoded data removed]",
            "text/plain": [
              "<Figure size 1008x648 with 2 Axes>"
            ]
          },
          "metadata": {
            "needs_background": "light"
          }
        }
      ]
    },
    {
      "cell_type": "code",
      "metadata": {
        "colab": {
          "base_uri": "https://localhost:8080/",
          "height": 531
        },
        "id": "_jXkc-KUCXsR",
        "outputId": "3ae03ce7-a0e7-4856-8151-43f3f6d7a17a"
      },
      "source": [
        "data"
      ],
      "execution_count": 39,
      "outputs": [
        {
          "output_type": "execute_result",
          "data": {
            "text/html": [
              "<div>\n",
              "<style scoped>\n",
              "    .dataframe tbody tr th:only-of-type {\n",
              "        vertical-align: middle;\n",
              "    }\n",
              "\n",
              "    .dataframe tbody tr th {\n",
              "        vertical-align: top;\n",
              "    }\n",
              "\n",
              "    .dataframe thead th {\n",
              "        text-align: right;\n",
              "    }\n",
              "</style>\n",
              "<table border=\"1\" class=\"dataframe\">\n",
              "  <thead>\n",
              "    <tr style=\"text-align: right;\">\n",
              "      <th></th>\n",
              "      <th>user_id</th>\n",
              "      <th>app_code</th>\n",
              "      <th>os_version</th>\n",
              "      <th>is_4G</th>\n",
              "      <th>dow</th>\n",
              "      <th>day</th>\n",
              "      <th>hour</th>\n",
              "      <th>cat1</th>\n",
              "      <th>cat12</th>\n",
              "      <th>cat3</th>\n",
              "      <th>product_type</th>\n",
              "      <th>price_ratio</th>\n",
              "      <th>f1</th>\n",
              "      <th>f2</th>\n",
              "      <th>is_click</th>\n",
              "    </tr>\n",
              "  </thead>\n",
              "  <tbody>\n",
              "    <tr>\n",
              "      <th>user_id</th>\n",
              "      <td>1.000000</td>\n",
              "      <td>0.000247</td>\n",
              "      <td>0.000619</td>\n",
              "      <td>0.000256</td>\n",
              "      <td>0.000825</td>\n",
              "      <td>0.001182</td>\n",
              "      <td>-0.006041</td>\n",
              "      <td>-0.002955</td>\n",
              "      <td>-0.011365</td>\n",
              "      <td>-0.003811</td>\n",
              "      <td>-0.009125</td>\n",
              "      <td>-0.003513</td>\n",
              "      <td>-0.001710</td>\n",
              "      <td>-0.002427</td>\n",
              "      <td>-0.001035</td>\n",
              "    </tr>\n",
              "    <tr>\n",
              "      <th>app_code</th>\n",
              "      <td>0.000247</td>\n",
              "      <td>1.000000</td>\n",
              "      <td>-0.008514</td>\n",
              "      <td>-0.081480</td>\n",
              "      <td>-0.005307</td>\n",
              "      <td>-0.008427</td>\n",
              "      <td>0.005997</td>\n",
              "      <td>0.003847</td>\n",
              "      <td>0.008389</td>\n",
              "      <td>0.007791</td>\n",
              "      <td>-0.007528</td>\n",
              "      <td>0.011439</td>\n",
              "      <td>-0.009960</td>\n",
              "      <td>-0.005235</td>\n",
              "      <td>-0.005449</td>\n",
              "    </tr>\n",
              "    <tr>\n",
              "      <th>os_version</th>\n",
              "      <td>0.000619</td>\n",
              "      <td>-0.008514</td>\n",
              "      <td>1.000000</td>\n",
              "      <td>-0.042513</td>\n",
              "      <td>-0.005353</td>\n",
              "      <td>-0.000696</td>\n",
              "      <td>0.001977</td>\n",
              "      <td>-0.031589</td>\n",
              "      <td>-0.021853</td>\n",
              "      <td>-0.021585</td>\n",
              "      <td>-0.016613</td>\n",
              "      <td>-0.024344</td>\n",
              "      <td>0.013109</td>\n",
              "      <td>0.000392</td>\n",
              "      <td>-0.004383</td>\n",
              "    </tr>\n",
              "    <tr>\n",
              "      <th>is_4G</th>\n",
              "      <td>0.000256</td>\n",
              "      <td>-0.081480</td>\n",
              "      <td>-0.042513</td>\n",
              "      <td>1.000000</td>\n",
              "      <td>-0.008040</td>\n",
              "      <td>0.031951</td>\n",
              "      <td>0.021178</td>\n",
              "      <td>-0.058799</td>\n",
              "      <td>-0.067452</td>\n",
              "      <td>-0.041895</td>\n",
              "      <td>-0.012725</td>\n",
              "      <td>-0.068685</td>\n",
              "      <td>0.054971</td>\n",
              "      <td>0.059102</td>\n",
              "      <td>-0.003464</td>\n",
              "    </tr>\n",
              "    <tr>\n",
              "      <th>dow</th>\n",
              "      <td>0.000825</td>\n",
              "      <td>-0.005307</td>\n",
              "      <td>-0.005353</td>\n",
              "      <td>-0.008040</td>\n",
              "      <td>1.000000</td>\n",
              "      <td>-0.090244</td>\n",
              "      <td>-0.008548</td>\n",
              "      <td>0.005072</td>\n",
              "      <td>0.008550</td>\n",
              "      <td>0.004596</td>\n",
              "      <td>0.005961</td>\n",
              "      <td>0.007911</td>\n",
              "      <td>-0.002677</td>\n",
              "      <td>0.001740</td>\n",
              "      <td>0.005079</td>\n",
              "    </tr>\n",
              "    <tr>\n",
              "      <th>day</th>\n",
              "      <td>0.001182</td>\n",
              "      <td>-0.008427</td>\n",
              "      <td>-0.000696</td>\n",
              "      <td>0.031951</td>\n",
              "      <td>-0.090244</td>\n",
              "      <td>1.000000</td>\n",
              "      <td>-0.000754</td>\n",
              "      <td>0.004307</td>\n",
              "      <td>-0.000254</td>\n",
              "      <td>-0.005244</td>\n",
              "      <td>-0.004282</td>\n",
              "      <td>-0.000159</td>\n",
              "      <td>-0.003164</td>\n",
              "      <td>0.003610</td>\n",
              "      <td>-0.005490</td>\n",
              "    </tr>\n",
              "    <tr>\n",
              "      <th>hour</th>\n",
              "      <td>-0.006041</td>\n",
              "      <td>0.005997</td>\n",
              "      <td>0.001977</td>\n",
              "      <td>0.021178</td>\n",
              "      <td>-0.008548</td>\n",
              "      <td>-0.000754</td>\n",
              "      <td>1.000000</td>\n",
              "      <td>0.002051</td>\n",
              "      <td>0.004222</td>\n",
              "      <td>-0.003659</td>\n",
              "      <td>0.001984</td>\n",
              "      <td>-0.004091</td>\n",
              "      <td>0.000783</td>\n",
              "      <td>0.000943</td>\n",
              "      <td>0.004081</td>\n",
              "    </tr>\n",
              "    <tr>\n",
              "      <th>cat1</th>\n",
              "      <td>-0.002955</td>\n",
              "      <td>0.003847</td>\n",
              "      <td>-0.031589</td>\n",
              "      <td>-0.058799</td>\n",
              "      <td>0.005072</td>\n",
              "      <td>0.004307</td>\n",
              "      <td>0.002051</td>\n",
              "      <td>1.000000</td>\n",
              "      <td>0.494989</td>\n",
              "      <td>0.369171</td>\n",
              "      <td>0.151979</td>\n",
              "      <td>0.438605</td>\n",
              "      <td>-0.571177</td>\n",
              "      <td>-0.271754</td>\n",
              "      <td>0.041209</td>\n",
              "    </tr>\n",
              "    <tr>\n",
              "      <th>cat12</th>\n",
              "      <td>-0.011365</td>\n",
              "      <td>0.008389</td>\n",
              "      <td>-0.021853</td>\n",
              "      <td>-0.067452</td>\n",
              "      <td>0.008550</td>\n",
              "      <td>-0.000254</td>\n",
              "      <td>0.004222</td>\n",
              "      <td>0.494989</td>\n",
              "      <td>1.000000</td>\n",
              "      <td>0.365118</td>\n",
              "      <td>0.171969</td>\n",
              "      <td>0.511105</td>\n",
              "      <td>-0.401906</td>\n",
              "      <td>-0.247889</td>\n",
              "      <td>0.038332</td>\n",
              "    </tr>\n",
              "    <tr>\n",
              "      <th>cat3</th>\n",
              "      <td>-0.003811</td>\n",
              "      <td>0.007791</td>\n",
              "      <td>-0.021585</td>\n",
              "      <td>-0.041895</td>\n",
              "      <td>0.004596</td>\n",
              "      <td>-0.005244</td>\n",
              "      <td>-0.003659</td>\n",
              "      <td>0.369171</td>\n",
              "      <td>0.365118</td>\n",
              "      <td>1.000000</td>\n",
              "      <td>0.152939</td>\n",
              "      <td>0.446636</td>\n",
              "      <td>-0.304923</td>\n",
              "      <td>-0.196411</td>\n",
              "      <td>0.031438</td>\n",
              "    </tr>\n",
              "    <tr>\n",
              "      <th>product_type</th>\n",
              "      <td>-0.009125</td>\n",
              "      <td>-0.007528</td>\n",
              "      <td>-0.016613</td>\n",
              "      <td>-0.012725</td>\n",
              "      <td>0.005961</td>\n",
              "      <td>-0.004282</td>\n",
              "      <td>0.001984</td>\n",
              "      <td>0.151979</td>\n",
              "      <td>0.171969</td>\n",
              "      <td>0.152939</td>\n",
              "      <td>1.000000</td>\n",
              "      <td>0.224189</td>\n",
              "      <td>-0.112014</td>\n",
              "      <td>-0.088983</td>\n",
              "      <td>0.013257</td>\n",
              "    </tr>\n",
              "    <tr>\n",
              "      <th>price_ratio</th>\n",
              "      <td>-0.003513</td>\n",
              "      <td>0.011439</td>\n",
              "      <td>-0.024344</td>\n",
              "      <td>-0.068685</td>\n",
              "      <td>0.007911</td>\n",
              "      <td>-0.000159</td>\n",
              "      <td>-0.004091</td>\n",
              "      <td>0.438605</td>\n",
              "      <td>0.511105</td>\n",
              "      <td>0.446636</td>\n",
              "      <td>0.224189</td>\n",
              "      <td>1.000000</td>\n",
              "      <td>-0.294276</td>\n",
              "      <td>-0.338280</td>\n",
              "      <td>0.038010</td>\n",
              "    </tr>\n",
              "    <tr>\n",
              "      <th>f1</th>\n",
              "      <td>-0.001710</td>\n",
              "      <td>-0.009960</td>\n",
              "      <td>0.013109</td>\n",
              "      <td>0.054971</td>\n",
              "      <td>-0.002677</td>\n",
              "      <td>-0.003164</td>\n",
              "      <td>0.000783</td>\n",
              "      <td>-0.571177</td>\n",
              "      <td>-0.401906</td>\n",
              "      <td>-0.304923</td>\n",
              "      <td>-0.112014</td>\n",
              "      <td>-0.294276</td>\n",
              "      <td>1.000000</td>\n",
              "      <td>0.406389</td>\n",
              "      <td>-0.044168</td>\n",
              "    </tr>\n",
              "    <tr>\n",
              "      <th>f2</th>\n",
              "      <td>-0.002427</td>\n",
              "      <td>-0.005235</td>\n",
              "      <td>0.000392</td>\n",
              "      <td>0.059102</td>\n",
              "      <td>0.001740</td>\n",
              "      <td>0.003610</td>\n",
              "      <td>0.000943</td>\n",
              "      <td>-0.271754</td>\n",
              "      <td>-0.247889</td>\n",
              "      <td>-0.196411</td>\n",
              "      <td>-0.088983</td>\n",
              "      <td>-0.338280</td>\n",
              "      <td>0.406389</td>\n",
              "      <td>1.000000</td>\n",
              "      <td>-0.033003</td>\n",
              "    </tr>\n",
              "    <tr>\n",
              "      <th>is_click</th>\n",
              "      <td>-0.001035</td>\n",
              "      <td>-0.005449</td>\n",
              "      <td>-0.004383</td>\n",
              "      <td>-0.003464</td>\n",
              "      <td>0.005079</td>\n",
              "      <td>-0.005490</td>\n",
              "      <td>0.004081</td>\n",
              "      <td>0.041209</td>\n",
              "      <td>0.038332</td>\n",
              "      <td>0.031438</td>\n",
              "      <td>0.013257</td>\n",
              "      <td>0.038010</td>\n",
              "      <td>-0.044168</td>\n",
              "      <td>-0.033003</td>\n",
              "      <td>1.000000</td>\n",
              "    </tr>\n",
              "  </tbody>\n",
              "</table>\n",
              "</div>"
            ],
            "text/plain": [
              "               user_id  app_code  os_version  ...        f1        f2  is_click\n",
              "user_id       1.000000  0.000247    0.000619  ... -0.001710 -0.002427 -0.001035\n",
              "app_code      0.000247  1.000000   -0.008514  ... -0.009960 -0.005235 -0.005449\n",
              "os_version    0.000619 -0.008514    1.000000  ...  0.013109  0.000392 -0.004383\n",
              "is_4G         0.000256 -0.081480   -0.042513  ...  0.054971  0.059102 -0.003464\n",
              "dow           0.000825 -0.005307   -0.005353  ... -0.002677  0.001740  0.005079\n",
              "day           0.001182 -0.008427   -0.000696  ... -0.003164  0.003610 -0.005490\n",
              "hour         -0.006041  0.005997    0.001977  ...  0.000783  0.000943  0.004081\n",
              "cat1         -0.002955  0.003847   -0.031589  ... -0.571177 -0.271754  0.041209\n",
              "cat12        -0.011365  0.008389   -0.021853  ... -0.401906 -0.247889  0.038332\n",
              "cat3         -0.003811  0.007791   -0.021585  ... -0.304923 -0.196411  0.031438\n",
              "product_type -0.009125 -0.007528   -0.016613  ... -0.112014 -0.088983  0.013257\n",
              "price_ratio  -0.003513  0.011439   -0.024344  ... -0.294276 -0.338280  0.038010\n",
              "f1           -0.001710 -0.009960    0.013109  ...  1.000000  0.406389 -0.044168\n",
              "f2           -0.002427 -0.005235    0.000392  ...  0.406389  1.000000 -0.033003\n",
              "is_click     -0.001035 -0.005449   -0.004383  ... -0.044168 -0.033003  1.000000\n",
              "\n",
              "[15 rows x 15 columns]"
            ]
          },
          "metadata": {},
          "execution_count": 39
        }
      ]
    },
    {
      "cell_type": "markdown",
      "metadata": {
        "id": "yOPwOS65CXsS"
      },
      "source": [
        "<span style='color:blue;background:yellow;font-size:20px'> `High correlation between independent variables doesn't affect boosting aglorithms as they take one variable at a time for split.Therefore, it is upto you, if you drop highly correlated variable or not.`  </span>"
      ]
    },
    {
      "cell_type": "code",
      "metadata": {
        "id": "qvJ95YqeCXsS"
      },
      "source": [
        "train1.drop('is_click', axis=1, inplace=True)"
      ],
      "execution_count": 40,
      "outputs": []
    },
    {
      "cell_type": "code",
      "metadata": {
        "id": "266iukZtCXsS"
      },
      "source": [
        "cat_cols = ['user_id','app_code', 'os_version', 'is_4G', 'dow', 'hour', 'day'] "
      ],
      "execution_count": 41,
      "outputs": []
    },
    {
      "cell_type": "code",
      "metadata": {
        "id": "LW_wFYm7EVbf"
      },
      "source": [
        "cat_feat =cat_cols"
      ],
      "execution_count": 42,
      "outputs": []
    },
    {
      "cell_type": "markdown",
      "metadata": {
        "id": "1VM5CqQrCXsS"
      },
      "source": [
        "<a id=5> </a> <br>\n",
        "\n",
        "## <span style=\"background:gray;color:red\">5. </span><span style=\"background:yellow;color:blue\">LightGBM </span>"
      ]
    },
    {
      "cell_type": "markdown",
      "metadata": {
        "id": "GFxAPrvDCXsT"
      },
      "source": [
        "<a id=6> </a> <br>\n",
        "\n",
        "### <span style=\"background:gray;color:red\">5.1 </span><span style=\"background:yellow;color:blue\">Hyperparameters Optimization</span>\n",
        "\n",
        "#### [Hyperparameters Optimization Tutorial](https://medium.com/analytics-vidhya/hyperparameters-optimization-for-lightgbm-catboost-and-xgboost-regressors-using-bayesian-6e7c495947a9) \n"
      ]
    },
    {
      "cell_type": "code",
      "metadata": {
        "id": "7cSJ6WIoCXsT"
      },
      "source": [
        "# Objective Function\n",
        "train_data = lgb.Dataset(data=train1, label=target, free_raw_data=False)\n",
        "evals_result = {}\n",
        "def lgb_eval(num_leaves, feature_fraction, bagging_fraction, max_depth, \n",
        "             lambda_l1, lambda_l2, min_split_gain, min_child_weight):\n",
        "        params = {'application':'binary','num_iterations': 1500,\n",
        "                  'learning_rate':0.05, 'early_stopping_round':150,\n",
        "                  'metric':'auc'} # ,'boost_from_average':False}\n",
        "        params[\"num_leaves\"] = int(round(num_leaves))\n",
        "        params['feature_fraction'] = max(min(feature_fraction, 1), 0)\n",
        "        params['bagging_fraction'] = max(min(bagging_fraction, 1), 0)\n",
        "        params['max_depth'] = int(round(max_depth))\n",
        "        params['lambda_l1'] = max(lambda_l1, 0)\n",
        "        params['lambda_l2'] = max(lambda_l2, 0)\n",
        "        params['min_split_gain'] = min_split_gain\n",
        "        params['min_child_weight'] = min_child_weight\n",
        "        cv_result = lgb.cv(params, train_data, nfold=5, seed=11,\n",
        "                           stratified=True,categorical_feature=cat_feat,\n",
        "                            verbose_eval =None)\n",
        "        return max(cv_result['auc-mean'])"
      ],
      "execution_count": 43,
      "outputs": []
    },
    {
      "cell_type": "code",
      "metadata": {
        "id": "xLXNoR2iCXsT"
      },
      "source": [
        "pbs = {'num_leaves': (200, 300),\n",
        "        'feature_fraction': (0.1, 0.9),\n",
        "        'bagging_fraction': (0.8, 1),\n",
        "        'max_depth': (11, 29),\n",
        "        'lambda_l1': (0, 2),\n",
        "        'lambda_l2': (0, 3),\n",
        "        'min_split_gain': (0.001, 0.1),\n",
        "        'min_child_weight': (1, 10)\n",
        "      }"
      ],
      "execution_count": 44,
      "outputs": []
    },
    {
      "cell_type": "code",
      "metadata": {
        "colab": {
          "base_uri": "https://localhost:8080/"
        },
        "id": "opt_Dib_CXsT",
        "outputId": "5bc6b996-96b1-4576-c6ba-d06023bb9387"
      },
      "source": [
        "optimizer = BayesianOptimization(lgb_eval, pbs, random_state=109)\n",
        "optimizer.maximize(init_points=5, n_iter=10)"
      ],
      "execution_count": 46,
      "outputs": [
        {
          "output_type": "stream",
          "name": "stdout",
          "text": [
            "|   iter    |  target   | baggin... | featur... | lambda_l1 | lambda_l2 | max_depth | min_ch... | min_sp... | num_le... |\n",
            "-------------------------------------------------------------------------------------------------------------------------\n",
            "| \u001b[0m 1       \u001b[0m | \u001b[0m 0.7359  \u001b[0m | \u001b[0m 0.9223  \u001b[0m | \u001b[0m 0.4931  \u001b[0m | \u001b[0m 1.399   \u001b[0m | \u001b[0m 0.5837  \u001b[0m | \u001b[0m 24.95   \u001b[0m | \u001b[0m 7.371   \u001b[0m | \u001b[0m 0.03714 \u001b[0m | \u001b[0m 297.2   \u001b[0m |\n",
            "| \u001b[0m 2       \u001b[0m | \u001b[0m 0.7356  \u001b[0m | \u001b[0m 0.8186  \u001b[0m | \u001b[0m 0.431   \u001b[0m | \u001b[0m 0.1221  \u001b[0m | \u001b[0m 0.8978  \u001b[0m | \u001b[0m 28.93   \u001b[0m | \u001b[0m 9.292   \u001b[0m | \u001b[0m 0.0458  \u001b[0m | \u001b[0m 291.9   \u001b[0m |\n",
            "| \u001b[0m 3       \u001b[0m | \u001b[0m 0.7354  \u001b[0m | \u001b[0m 0.8583  \u001b[0m | \u001b[0m 0.5483  \u001b[0m | \u001b[0m 0.9183  \u001b[0m | \u001b[0m 0.05462 \u001b[0m | \u001b[0m 28.08   \u001b[0m | \u001b[0m 3.797   \u001b[0m | \u001b[0m 0.08432 \u001b[0m | \u001b[0m 202.2   \u001b[0m |\n",
            "| \u001b[0m 4       \u001b[0m | \u001b[0m 0.7342  \u001b[0m | \u001b[0m 0.9162  \u001b[0m | \u001b[0m 0.5833  \u001b[0m | \u001b[0m 1.696   \u001b[0m | \u001b[0m 0.9446  \u001b[0m | \u001b[0m 27.99   \u001b[0m | \u001b[0m 7.668   \u001b[0m | \u001b[0m 0.09032 \u001b[0m | \u001b[0m 286.7   \u001b[0m |\n",
            "| \u001b[0m 5       \u001b[0m | \u001b[0m 0.7329  \u001b[0m | \u001b[0m 0.9802  \u001b[0m | \u001b[0m 0.6788  \u001b[0m | \u001b[0m 1.054   \u001b[0m | \u001b[0m 2.295   \u001b[0m | \u001b[0m 14.98   \u001b[0m | \u001b[0m 7.737   \u001b[0m | \u001b[0m 0.07712 \u001b[0m | \u001b[0m 237.9   \u001b[0m |\n",
            "| \u001b[95m 6       \u001b[0m | \u001b[95m 0.7375  \u001b[0m | \u001b[95m 0.8344  \u001b[0m | \u001b[95m 0.3804  \u001b[0m | \u001b[95m 1.711   \u001b[0m | \u001b[95m 0.4345  \u001b[0m | \u001b[95m 11.18   \u001b[0m | \u001b[95m 2.004   \u001b[0m | \u001b[95m 0.0377  \u001b[0m | \u001b[95m 299.7   \u001b[0m |\n",
            "| \u001b[0m 7       \u001b[0m | \u001b[0m 0.7338  \u001b[0m | \u001b[0m 0.8666  \u001b[0m | \u001b[0m 0.1551  \u001b[0m | \u001b[0m 0.3403  \u001b[0m | \u001b[0m 0.1566  \u001b[0m | \u001b[0m 12.0    \u001b[0m | \u001b[0m 1.429   \u001b[0m | \u001b[0m 0.008806\u001b[0m | \u001b[0m 299.7   \u001b[0m |\n",
            "| \u001b[95m 8       \u001b[0m | \u001b[95m 0.7381  \u001b[0m | \u001b[95m 0.9199  \u001b[0m | \u001b[95m 0.2706  \u001b[0m | \u001b[95m 1.791   \u001b[0m | \u001b[95m 1.514   \u001b[0m | \u001b[95m 11.8    \u001b[0m | \u001b[95m 3.036   \u001b[0m | \u001b[95m 0.04315 \u001b[0m | \u001b[95m 200.1   \u001b[0m |\n",
            "| \u001b[0m 9       \u001b[0m | \u001b[0m 0.7347  \u001b[0m | \u001b[0m 0.9728  \u001b[0m | \u001b[0m 0.1975  \u001b[0m | \u001b[0m 0.1713  \u001b[0m | \u001b[0m 2.125   \u001b[0m | \u001b[0m 11.25   \u001b[0m | \u001b[0m 2.664   \u001b[0m | \u001b[0m 0.09001 \u001b[0m | \u001b[0m 200.5   \u001b[0m |\n",
            "| \u001b[0m 10      \u001b[0m | \u001b[0m 0.7351  \u001b[0m | \u001b[0m 0.8168  \u001b[0m | \u001b[0m 0.1589  \u001b[0m | \u001b[0m 1.678   \u001b[0m | \u001b[0m 0.8194  \u001b[0m | \u001b[0m 12.03   \u001b[0m | \u001b[0m 1.288   \u001b[0m | \u001b[0m 0.067   \u001b[0m | \u001b[0m 200.1   \u001b[0m |\n",
            "| \u001b[95m 11      \u001b[0m | \u001b[95m 0.7383  \u001b[0m | \u001b[95m 0.9558  \u001b[0m | \u001b[95m 0.2879  \u001b[0m | \u001b[95m 1.531   \u001b[0m | \u001b[95m 2.827   \u001b[0m | \u001b[95m 27.66   \u001b[0m | \u001b[95m 2.197   \u001b[0m | \u001b[95m 0.07055 \u001b[0m | \u001b[95m 200.3   \u001b[0m |\n",
            "| \u001b[0m 12      \u001b[0m | \u001b[0m 0.7322  \u001b[0m | \u001b[0m 0.8778  \u001b[0m | \u001b[0m 0.846   \u001b[0m | \u001b[0m 0.2135  \u001b[0m | \u001b[0m 0.5007  \u001b[0m | \u001b[0m 29.0    \u001b[0m | \u001b[0m 2.792   \u001b[0m | \u001b[0m 0.07594 \u001b[0m | \u001b[0m 200.3   \u001b[0m |\n",
            "| \u001b[0m 13      \u001b[0m | \u001b[0m 0.7323  \u001b[0m | \u001b[0m 0.8326  \u001b[0m | \u001b[0m 0.7564  \u001b[0m | \u001b[0m 1.853   \u001b[0m | \u001b[0m 2.768   \u001b[0m | \u001b[0m 11.29   \u001b[0m | \u001b[0m 9.738   \u001b[0m | \u001b[0m 0.06683 \u001b[0m | \u001b[0m 201.8   \u001b[0m |\n",
            "| \u001b[0m 14      \u001b[0m | \u001b[0m 0.735   \u001b[0m | \u001b[0m 0.8713  \u001b[0m | \u001b[0m 0.5063  \u001b[0m | \u001b[0m 1.358   \u001b[0m | \u001b[0m 2.137   \u001b[0m | \u001b[0m 11.55   \u001b[0m | \u001b[0m 1.457   \u001b[0m | \u001b[0m 0.04718 \u001b[0m | \u001b[0m 299.9   \u001b[0m |\n",
            "| \u001b[0m 15      \u001b[0m | \u001b[0m 0.7373  \u001b[0m | \u001b[0m 0.9069  \u001b[0m | \u001b[0m 0.478   \u001b[0m | \u001b[0m 0.6761  \u001b[0m | \u001b[0m 0.1538  \u001b[0m | \u001b[0m 28.89   \u001b[0m | \u001b[0m 1.809   \u001b[0m | \u001b[0m 0.02718 \u001b[0m | \u001b[0m 299.4   \u001b[0m |\n",
            "=========================================================================================================================\n"
          ]
        }
      ]
    },
    {
      "cell_type": "code",
      "metadata": {
        "colab": {
          "base_uri": "https://localhost:8080/"
        },
        "id": "HSFDZfbeCXsT",
        "outputId": "2240590c-f9c0-4778-bd08-aff8ca94acce"
      },
      "source": [
        "optimizer.max"
      ],
      "execution_count": 47,
      "outputs": [
        {
          "output_type": "execute_result",
          "data": {
            "text/plain": [
              "{'params': {'bagging_fraction': 0.9557812456260139,\n",
              "  'feature_fraction': 0.28791245118689857,\n",
              "  'lambda_l1': 1.530861596955889,\n",
              "  'lambda_l2': 2.82660899184869,\n",
              "  'max_depth': 27.659148702269842,\n",
              "  'min_child_weight': 2.1968607447039954,\n",
              "  'min_split_gain': 0.07055438822519233,\n",
              "  'num_leaves': 200.25171884902966},\n",
              " 'target': 0.7383154171006595}"
            ]
          },
          "metadata": {},
          "execution_count": 47
        }
      ]
    },
    {
      "cell_type": "code",
      "metadata": {
        "id": "7jn38vsTCXsT"
      },
      "source": [
        "p =optimizer.max['params']"
      ],
      "execution_count": 48,
      "outputs": []
    },
    {
      "cell_type": "code",
      "metadata": {
        "id": "1LDEl2VWCXsU"
      },
      "source": [
        "param = {'num_leaves': int(round(p['num_leaves'])),\n",
        "         'feature_fraction': p['feature_fraction'],\n",
        "         'bagging_fraction': p['bagging_fraction'],\n",
        "         'max_depth': int(round(p['max_depth'])),\n",
        "         'lambda_l1': p['lambda_l1'],\n",
        "         'lambda_l2':p['lambda_l2'],\n",
        "         'min_split_gain': p['min_split_gain'],\n",
        "         'min_child_weight': p['min_child_weight'],\n",
        "         'learing_rate':0.01,\n",
        "         'objective': 'binary',\n",
        "         'boosting_type': 'gbdt',\n",
        "         'verbose': 1,\n",
        "         'metric': {'auc'},\n",
        "         'is_unbalance': True,}\n",
        "         # 'boost_from_average': False}"
      ],
      "execution_count": 49,
      "outputs": []
    },
    {
      "cell_type": "code",
      "metadata": {
        "colab": {
          "base_uri": "https://localhost:8080/"
        },
        "id": "XUkysLQcCXsU",
        "outputId": "c7df9870-5038-4cd1-cb2c-eab79c7be794"
      },
      "source": [
        "param"
      ],
      "execution_count": 50,
      "outputs": [
        {
          "output_type": "execute_result",
          "data": {
            "text/plain": [
              "{'bagging_fraction': 0.9557812456260139,\n",
              " 'boosting_type': 'gbdt',\n",
              " 'feature_fraction': 0.28791245118689857,\n",
              " 'is_unbalance': True,\n",
              " 'lambda_l1': 1.530861596955889,\n",
              " 'lambda_l2': 2.82660899184869,\n",
              " 'learing_rate': 0.01,\n",
              " 'max_depth': 28,\n",
              " 'metric': {'auc'},\n",
              " 'min_child_weight': 2.1968607447039954,\n",
              " 'min_split_gain': 0.07055438822519233,\n",
              " 'num_leaves': 200,\n",
              " 'objective': 'binary',\n",
              " 'verbose': 1}"
            ]
          },
          "metadata": {},
          "execution_count": 50
        }
      ]
    },
    {
      "cell_type": "markdown",
      "metadata": {
        "id": "XcatLCEfCXsU"
      },
      "source": [
        "<a id=7> </a> <br>\n",
        "\n",
        "### <span style=\"background:gray;color:red\">5.2 </span><span style=\"background:yellow;color:blue\">Model Training and Prediction</span>"
      ]
    },
    {
      "cell_type": "code",
      "metadata": {
        "colab": {
          "base_uri": "https://localhost:8080/"
        },
        "id": "wu3yw0ubCXsV",
        "outputId": "05fe17bc-248c-4d42-a933-76b38e18a716"
      },
      "source": [
        "%%time\n",
        "nfold = 10\n",
        "\n",
        "skf = StratifiedKFold(n_splits=nfold, shuffle=True, random_state=127)\n",
        "\n",
        "oof = np.zeros(len(train1))\n",
        "predictions = np.zeros(len(test1))\n",
        "\n",
        "i = 1\n",
        "for train_index, valid_index in skf.split(target, target.values):\n",
        "    print(\"fold {}\".format(i))\n",
        "    xg_train = lgb.Dataset(train1.iloc[train_index],\n",
        "                           label=target[train_index],\n",
        "                           free_raw_data = False\n",
        "                           )\n",
        "    xg_valid = lgb.Dataset(train1.iloc[valid_index],\n",
        "                           label=target[valid_index],\n",
        "                           free_raw_data = False\n",
        "                           )   \n",
        "    \n",
        "    clf = lgb.train(param, xg_train, 5000, valid_sets = [xg_valid],\n",
        "                    categorical_feature=cat_feat,\n",
        "                    verbose_eval=100, early_stopping_rounds = 50)\n",
        "    \n",
        "    oof[valid_index] = clf.predict(train1.iloc[valid_index], num_iteration=clf.best_iteration) \n",
        "    \n",
        "    predictions += clf.predict(test1, num_iteration=clf.best_iteration) / nfold\n",
        "    i = i + 1\n",
        "\n",
        "print(\"\\n\\nCV AUC: {:<0.4f}\".format(roc_auc_score(target, (oof))))"
      ],
      "execution_count": 51,
      "outputs": [
        {
          "output_type": "stream",
          "name": "stdout",
          "text": [
            "fold 1\n",
            "Training until validation scores don't improve for 50 rounds.\n",
            "[100]\tvalid_0's auc: 0.74212\n",
            "Early stopping, best iteration is:\n",
            "[71]\tvalid_0's auc: 0.743391\n",
            "fold 2\n",
            "Training until validation scores don't improve for 50 rounds.\n",
            "[100]\tvalid_0's auc: 0.731731\n",
            "Early stopping, best iteration is:\n",
            "[96]\tvalid_0's auc: 0.732147\n",
            "fold 3\n",
            "Training until validation scores don't improve for 50 rounds.\n",
            "[100]\tvalid_0's auc: 0.742973\n",
            "Early stopping, best iteration is:\n",
            "[72]\tvalid_0's auc: 0.74415\n",
            "fold 4\n",
            "Training until validation scores don't improve for 50 rounds.\n",
            "[100]\tvalid_0's auc: 0.740844\n",
            "Early stopping, best iteration is:\n",
            "[55]\tvalid_0's auc: 0.743532\n",
            "fold 5\n",
            "Training until validation scores don't improve for 50 rounds.\n",
            "[100]\tvalid_0's auc: 0.725269\n",
            "Early stopping, best iteration is:\n",
            "[80]\tvalid_0's auc: 0.727078\n",
            "fold 6\n",
            "Training until validation scores don't improve for 50 rounds.\n",
            "[100]\tvalid_0's auc: 0.728458\n",
            "Early stopping, best iteration is:\n",
            "[52]\tvalid_0's auc: 0.732676\n",
            "fold 7\n",
            "Training until validation scores don't improve for 50 rounds.\n",
            "[100]\tvalid_0's auc: 0.722403\n",
            "Early stopping, best iteration is:\n",
            "[95]\tvalid_0's auc: 0.723274\n",
            "fold 8\n",
            "Training until validation scores don't improve for 50 rounds.\n",
            "[100]\tvalid_0's auc: 0.745223\n",
            "Early stopping, best iteration is:\n",
            "[97]\tvalid_0's auc: 0.745663\n",
            "fold 9\n",
            "Training until validation scores don't improve for 50 rounds.\n",
            "[100]\tvalid_0's auc: 0.739675\n",
            "Early stopping, best iteration is:\n",
            "[72]\tvalid_0's auc: 0.739999\n",
            "fold 10\n",
            "Training until validation scores don't improve for 50 rounds.\n",
            "[100]\tvalid_0's auc: 0.721935\n",
            "Early stopping, best iteration is:\n",
            "[51]\tvalid_0's auc: 0.726045\n",
            "\n",
            "\n",
            "CV AUC: 0.7350\n",
            "CPU times: user 2min 47s, sys: 1.43 s, total: 2min 48s\n",
            "Wall time: 1min 27s\n"
          ]
        }
      ]
    },
    {
      "cell_type": "code",
      "metadata": {
        "colab": {
          "base_uri": "https://localhost:8080/"
        },
        "id": "D272WZ3FCXsV",
        "outputId": "abe3b03d-5c87-4249-8381-f4d83af4b522"
      },
      "source": [
        "predictions"
      ],
      "execution_count": 52,
      "outputs": [
        {
          "output_type": "execute_result",
          "data": {
            "text/plain": [
              "array([0.18104417, 0.15524684, 0.47350745, ..., 0.17725965, 0.72074763,\n",
              "       0.74717287])"
            ]
          },
          "metadata": {},
          "execution_count": 52
        }
      ]
    },
    {
      "cell_type": "markdown",
      "metadata": {
        "id": "tR9uJ2E5CXsW"
      },
      "source": [
        "<a id=8> </a> <br>\n",
        "\n",
        "### <span style=\"background:gray;color:red\">5.3</span><span style=\"background:yellow;color:blue\">Submission DataFrame</span>"
      ]
    },
    {
      "cell_type": "code",
      "metadata": {
        "id": "UpnpYABtCXsW"
      },
      "source": [
        "sub = pd.read_csv('/content/drive/My Drive/WNS Analytics Wizard 2019/Data/Sample/sample_submission.csv')"
      ],
      "execution_count": 54,
      "outputs": []
    },
    {
      "cell_type": "code",
      "metadata": {
        "id": "jZDkoHrfCXsW"
      },
      "source": [
        "sub['is_click'] = predictions"
      ],
      "execution_count": 55,
      "outputs": []
    },
    {
      "cell_type": "code",
      "metadata": {
        "colab": {
          "base_uri": "https://localhost:8080/",
          "height": 203
        },
        "id": "hGTdVB2pCXsX",
        "outputId": "1eeb7d0f-9e82-4ba1-8ea4-dab25885dbb1"
      },
      "source": [
        "sub.head()"
      ],
      "execution_count": 56,
      "outputs": [
        {
          "output_type": "execute_result",
          "data": {
            "text/html": [
              "<div>\n",
              "<style scoped>\n",
              "    .dataframe tbody tr th:only-of-type {\n",
              "        vertical-align: middle;\n",
              "    }\n",
              "\n",
              "    .dataframe tbody tr th {\n",
              "        vertical-align: top;\n",
              "    }\n",
              "\n",
              "    .dataframe thead th {\n",
              "        text-align: right;\n",
              "    }\n",
              "</style>\n",
              "<table border=\"1\" class=\"dataframe\">\n",
              "  <thead>\n",
              "    <tr style=\"text-align: right;\">\n",
              "      <th></th>\n",
              "      <th>impression_id</th>\n",
              "      <th>is_click</th>\n",
              "    </tr>\n",
              "  </thead>\n",
              "  <tbody>\n",
              "    <tr>\n",
              "      <th>0</th>\n",
              "      <td>a9e7126a585a69a32bc7414e9d0c0ada</td>\n",
              "      <td>0.181044</td>\n",
              "    </tr>\n",
              "    <tr>\n",
              "      <th>1</th>\n",
              "      <td>caac14a5bf2ba283db7708bb34855760</td>\n",
              "      <td>0.155247</td>\n",
              "    </tr>\n",
              "    <tr>\n",
              "      <th>2</th>\n",
              "      <td>13f10ba306a19ce7bec2f3cae507b698</td>\n",
              "      <td>0.473507</td>\n",
              "    </tr>\n",
              "    <tr>\n",
              "      <th>3</th>\n",
              "      <td>39c4b4dc0e9701b55a0a4f072008fb3f</td>\n",
              "      <td>0.268837</td>\n",
              "    </tr>\n",
              "    <tr>\n",
              "      <th>4</th>\n",
              "      <td>bf5a572cca75f5fc67f4b14e58b11d70</td>\n",
              "      <td>0.778624</td>\n",
              "    </tr>\n",
              "  </tbody>\n",
              "</table>\n",
              "</div>"
            ],
            "text/plain": [
              "                      impression_id  is_click\n",
              "0  a9e7126a585a69a32bc7414e9d0c0ada  0.181044\n",
              "1  caac14a5bf2ba283db7708bb34855760  0.155247\n",
              "2  13f10ba306a19ce7bec2f3cae507b698  0.473507\n",
              "3  39c4b4dc0e9701b55a0a4f072008fb3f  0.268837\n",
              "4  bf5a572cca75f5fc67f4b14e58b11d70  0.778624"
            ]
          },
          "metadata": {},
          "execution_count": 56
        }
      ]
    },
    {
      "cell_type": "code",
      "metadata": {
        "id": "NQcc9YbQCXsX"
      },
      "source": [
        "sub.to_csv('/content/drive/My Drive/WNS Analytics Wizard 2019/submission_lgbm.csv', index =False)"
      ],
      "execution_count": 57,
      "outputs": []
    },
    {
      "cell_type": "code",
      "metadata": {
        "colab": {
          "base_uri": "https://localhost:8080/",
          "height": 17
        },
        "id": "o96QXKo6STLj",
        "outputId": "757ec41b-946d-4994-f662-3cdec1848366"
      },
      "source": [
        "sub.to_csv('submission_lgbm.csv', index =False)\n",
        "\n",
        "from google.colab import files\n",
        "files.download(\"submission_lgbm.csv\")"
      ],
      "execution_count": 60,
      "outputs": [
        {
          "output_type": "display_data",
          "data": {
            "application/javascript": [
              "\n",
              "    async function download(id, filename, size) {\n",
              "      if (!google.colab.kernel.accessAllowed) {\n",
              "        return;\n",
              "      }\n",
              "      const div = document.createElement('div');\n",
              "      const label = document.createElement('label');\n",
              "      label.textContent = `Downloading \"${filename}\": `;\n",
              "      div.appendChild(label);\n",
              "      const progress = document.createElement('progress');\n",
              "      progress.max = size;\n",
              "      div.appendChild(progress);\n",
              "      document.body.appendChild(div);\n",
              "\n",
              "      const buffers = [];\n",
              "      let downloaded = 0;\n",
              "\n",
              "      const channel = await google.colab.kernel.comms.open(id);\n",
              "      // Send a message to notify the kernel that we're ready.\n",
              "      channel.send({})\n",
              "\n",
              "      for await (const message of channel.messages) {\n",
              "        // Send a message to notify the kernel that we're ready.\n",
              "        channel.send({})\n",
              "        if (message.buffers) {\n",
              "          for (const buffer of message.buffers) {\n",
              "            buffers.push(buffer);\n",
              "            downloaded += buffer.byteLength;\n",
              "            progress.value = downloaded;\n",
              "          }\n",
              "        }\n",
              "      }\n",
              "      const blob = new Blob(buffers, {type: 'application/binary'});\n",
              "      const a = document.createElement('a');\n",
              "      a.href = window.URL.createObjectURL(blob);\n",
              "      a.download = filename;\n",
              "      div.appendChild(a);\n",
              "      a.click();\n",
              "      div.remove();\n",
              "    }\n",
              "  "
            ],
            "text/plain": [
              "<IPython.core.display.Javascript object>"
            ]
          },
          "metadata": {}
        },
        {
          "output_type": "display_data",
          "data": {
            "application/javascript": [
              "download(\"download_719f1a2b-287f-49b8-9f2e-f50ff15767fb\", \"submission_lgbm.csv\", 4752858)"
            ],
            "text/plain": [
              "<IPython.core.display.Javascript object>"
            ]
          },
          "metadata": {}
        }
      ]
    },
    {
      "cell_type": "markdown",
      "metadata": {
        "id": "DnZHzyMVEVdv"
      },
      "source": [
        "\n",
        "\n",
        "## <center><span style=\"background:gray;color:red\">End of the NoteBook</span></center>\n",
        "***\n",
        "\n",
        "### <center><span style=\"background:yellow;color:blue\">[GO TO TOP](#t)</span></center> "
      ]
    }
  ]
}