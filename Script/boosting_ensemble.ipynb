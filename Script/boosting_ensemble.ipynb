{
  "nbformat": 4,
  "nbformat_minor": 0,
  "metadata": {
    "colab": {
      "name": "boosting_ensemble.ipynb",
      "provenance": [],
      "collapsed_sections": [],
      "machine_shape": "hm"
    },
    "kernelspec": {
      "display_name": "Python 3",
      "language": "python",
      "name": "python3"
    },
    "language_info": {
      "codemirror_mode": {
        "name": "ipython",
        "version": 3
      },
      "file_extension": ".py",
      "mimetype": "text/x-python",
      "name": "python",
      "nbconvert_exporter": "python",
      "pygments_lexer": "ipython3",
      "version": "3.6.8"
    }
  },
  "cells": [
    {
      "cell_type": "markdown",
      "metadata": {
        "id": "sA1hlR-eEVXq"
      },
      "source": [
        "<a id =tt> </a> <br>\n",
        "***\n",
        "\n",
        "# <center> <span style=\"color:blue;background:yellow\"> [WNS Analytics Wizard 2019 - Click Rate Prediction](https://datahack.analyticsvidhya.com/contest/wns-analytics-wizard-2019/) </span></center>\n",
        "\n",
        "![](images/wns.png)\n",
        "*** \n",
        "\n",
        "## Notebook Content\n",
        "1. [Load Libraries](#0)\n",
        "1. [Load Data](#1)\n",
        "1. [Preprocessing](#a)\n",
        "    1. [Process Logs and Items Data](#b)\n",
        "    1. [Label Encoding](#2)\n",
        "    1. [Date Columns Processing](#3)\n",
        "1. [Feature Engineering](#4)\n",
        "1. [CatBoost](#5)\n",
        "1. [LightGBM](#l)\n",
        "1. [Submission DataFrame](#s)\n",
        "\n",
        "---"
      ]
    },
    {
      "cell_type": "code",
      "metadata": {
        "id": "vghWgsqfCiHb",
        "colab": {
          "base_uri": "https://localhost:8080/"
        },
        "outputId": "5ce10f85-f707-4c58-88f2-e60afc03be10"
      },
      "source": [
        "# Read file from Gdrive\n",
        "from google.colab import drive\n",
        "drive.mount('/content/drive')"
      ],
      "execution_count": 1,
      "outputs": [
        {
          "output_type": "stream",
          "name": "stdout",
          "text": [
            "Mounted at /content/drive\n"
          ]
        }
      ]
    },
    {
      "cell_type": "markdown",
      "metadata": {
        "id": "989mxV61EVXu"
      },
      "source": [
        "<a id=0> </a> <br>\n",
        "\n",
        "## <span style=\"background:gray;color:red\">1. </span><span style=\"background:yellow;color:blue\">Load Libraries </span>"
      ]
    },
    {
      "cell_type": "code",
      "metadata": {
        "colab": {
          "base_uri": "https://localhost:8080/"
        },
        "id": "swrq2FiXDKhi",
        "outputId": "5bbfadc8-1acf-4afa-a2ab-0beaca035f74"
      },
      "source": [
        "!sudo pip install bayesian-optimization"
      ],
      "execution_count": 2,
      "outputs": [
        {
          "output_type": "stream",
          "name": "stdout",
          "text": [
            "Collecting bayesian-optimization\n",
            "  Downloading bayesian-optimization-1.2.0.tar.gz (14 kB)\n",
            "Requirement already satisfied: numpy>=1.9.0 in /usr/local/lib/python3.7/dist-packages (from bayesian-optimization) (1.19.5)\n",
            "Requirement already satisfied: scipy>=0.14.0 in /usr/local/lib/python3.7/dist-packages (from bayesian-optimization) (1.4.1)\n",
            "Requirement already satisfied: scikit-learn>=0.18.0 in /usr/local/lib/python3.7/dist-packages (from bayesian-optimization) (0.22.2.post1)\n",
            "Requirement already satisfied: joblib>=0.11 in /usr/local/lib/python3.7/dist-packages (from scikit-learn>=0.18.0->bayesian-optimization) (1.0.1)\n",
            "Building wheels for collected packages: bayesian-optimization\n",
            "  Building wheel for bayesian-optimization (setup.py) ... \u001b[?25l\u001b[?25hdone\n",
            "  Created wheel for bayesian-optimization: filename=bayesian_optimization-1.2.0-py3-none-any.whl size=11685 sha256=d3d9d7866f23e18432f3df9f8fa280522c549d647b3c740fc4cbd6b2ac0ff9b6\n",
            "  Stored in directory: /root/.cache/pip/wheels/fd/9b/71/f127d694e02eb40bcf18c7ae9613b88a6be4470f57a8528c5b\n",
            "Successfully built bayesian-optimization\n",
            "Installing collected packages: bayesian-optimization\n",
            "Successfully installed bayesian-optimization-1.2.0\n"
          ]
        }
      ]
    },
    {
      "cell_type": "code",
      "metadata": {
        "colab": {
          "base_uri": "https://localhost:8080/"
        },
        "id": "prD1Owh3VdUw",
        "outputId": "a19e2724-0403-479e-d449-e272b8dc9a87"
      },
      "source": [
        "!sudo pip install catboost\n"
      ],
      "execution_count": 5,
      "outputs": [
        {
          "output_type": "stream",
          "name": "stdout",
          "text": [
            "Collecting catboost\n",
            "  Downloading catboost-0.26.1-cp37-none-manylinux1_x86_64.whl (67.4 MB)\n",
            "\u001b[K     |████████████████████████████████| 67.4 MB 30 kB/s \n",
            "\u001b[?25hRequirement already satisfied: matplotlib in /usr/local/lib/python3.7/dist-packages (from catboost) (3.2.2)\n",
            "Requirement already satisfied: pandas>=0.24.0 in /usr/local/lib/python3.7/dist-packages (from catboost) (1.1.5)\n",
            "Requirement already satisfied: plotly in /usr/local/lib/python3.7/dist-packages (from catboost) (4.4.1)\n",
            "Requirement already satisfied: graphviz in /usr/local/lib/python3.7/dist-packages (from catboost) (0.10.1)\n",
            "Requirement already satisfied: numpy>=1.16.0 in /usr/local/lib/python3.7/dist-packages (from catboost) (1.19.5)\n",
            "Requirement already satisfied: six in /usr/local/lib/python3.7/dist-packages (from catboost) (1.15.0)\n",
            "Requirement already satisfied: scipy in /usr/local/lib/python3.7/dist-packages (from catboost) (1.4.1)\n",
            "Requirement already satisfied: python-dateutil>=2.7.3 in /usr/local/lib/python3.7/dist-packages (from pandas>=0.24.0->catboost) (2.8.2)\n",
            "Requirement already satisfied: pytz>=2017.2 in /usr/local/lib/python3.7/dist-packages (from pandas>=0.24.0->catboost) (2018.9)\n",
            "Requirement already satisfied: kiwisolver>=1.0.1 in /usr/local/lib/python3.7/dist-packages (from matplotlib->catboost) (1.3.2)\n",
            "Requirement already satisfied: pyparsing!=2.0.4,!=2.1.2,!=2.1.6,>=2.0.1 in /usr/local/lib/python3.7/dist-packages (from matplotlib->catboost) (2.4.7)\n",
            "Requirement already satisfied: cycler>=0.10 in /usr/local/lib/python3.7/dist-packages (from matplotlib->catboost) (0.10.0)\n",
            "Requirement already satisfied: retrying>=1.3.3 in /usr/local/lib/python3.7/dist-packages (from plotly->catboost) (1.3.3)\n",
            "Installing collected packages: catboost\n",
            "Successfully installed catboost-0.26.1\n"
          ]
        }
      ]
    },
    {
      "cell_type": "code",
      "metadata": {
        "id": "-Gd74MkwEVXw"
      },
      "source": [
        "import pandas as pd\n",
        "import numpy as np\n",
        "import matplotlib.pyplot as plt\n",
        "import seaborn as sns\n",
        "from sklearn.model_selection import train_test_split, StratifiedKFold\n",
        "from sklearn.preprocessing import LabelEncoder\n",
        "from sklearn import metrics\n",
        "from sklearn.metrics import roc_auc_score\n",
        "import catboost as cgb\n",
        "import lightgbm as lgb\n",
        "from bayes_opt import BayesianOptimization\n",
        "\n",
        "import warnings\n",
        "warnings.filterwarnings('ignore')"
      ],
      "execution_count": 6,
      "outputs": []
    },
    {
      "cell_type": "markdown",
      "metadata": {
        "id": "0PiEj4pfEVYG"
      },
      "source": [
        "<a id=1> </a> <br>\n",
        "\n",
        "## <span style=\"background:gray;color:red\">2. </span><span style=\"background:yellow;color:blue\">Load Data </span>"
      ]
    },
    {
      "cell_type": "code",
      "metadata": {
        "id": "Xc-18sw3VllL"
      },
      "source": [
        "# Load Data\n",
        "train = pd.read_csv('/content/drive/My Drive/WNS Analytics Wizard 2019/Data/train/train.csv')\n",
        "test = pd.read_csv('/content/drive/My Drive/WNS Analytics Wizard 2019/Data/test/test.csv')\n",
        "\n",
        "logs = pd.read_csv('/content/drive/My Drive/WNS Analytics Wizard 2019/Data/train/view_log.csv')  # Log details of user ids\n",
        "items = pd.read_csv('/content/drive/My Drive/WNS Analytics Wizard 2019/Data/train/item_data.csv') # Item details\n"
      ],
      "execution_count": 7,
      "outputs": []
    },
    {
      "cell_type": "markdown",
      "metadata": {
        "id": "deQj-u8pUeuT"
      },
      "source": [
        "### <center> <span style=\"color:blue;background:yellow\"> Data Dictionary </span></center>\n",
        "    \n",
        "***\n",
        "\n",
        "<span style=\"color:blue;background:gray;font-size:20px\">train.csv :</span>\n",
        "\n",
        "|Variable\t|Definition|\n",
        "|-----------|----------|\n",
        "|impression_id\t|AD impression id|\n",
        "|impression_time\t|Time of the impression at partner website|\n",
        "|user_id\t|user id|\n",
        "|app_code\t|Application Code for a partner website where the ad was shown|\n",
        "|os_version\t|Version of operating system|\n",
        "|is_4G\t|1-Using 4G, 0-No 4G|\n",
        "|is_click\t|(target) Whether user clicked the AD (1-click, 0-no click)|\n",
        "\n",
        "---\n",
        "<span style=\"color:blue;background:gray;font-size:20px\">view_log.csv : </span>\n",
        "\n",
        "|Variable\t|Definition|\n",
        "|-----------|----------|\n",
        "|server_time\t|Timestamp of the log|\n",
        "|device_type\t|Device type of the user|\n",
        "|session_id\t|Browser session id|\n",
        "|user_id\t|user id|\n",
        "|item_id\t|Item id|\n",
        "\n",
        "---\n",
        "\n",
        "<span style=\"color:blue;background:gray;font-size:20px\">item_data.csv: </span>\n",
        "\n",
        "|Variable\t|Definition|\n",
        "|-----------|----------|\n",
        "|item_id\t|Item id|\n",
        "|item_price\t|Price of the item|\n",
        "|category_1\t|Category depth 1|\n",
        "|category_2\t|Category depth 2|\n",
        "|category_3\t|Category depth 3|\n",
        "|product_type\t|anonymized item type|\n",
        "\n",
        "----\n",
        "<span style=\"color:blue;background:gray;font-size:20px\"> test.csv: </span> test file contains the impressions for which the participants need to predict the click rate\n",
        "\n",
        "---\n",
        "<span style=\"color:blue;background:gray;font-size:20px\">sample_submission.csv: </span> This file contains the format in which you have to submit your predictions.\n",
        "\n",
        "---"
      ]
    },
    {
      "cell_type": "code",
      "metadata": {
        "colab": {
          "base_uri": "https://localhost:8080/"
        },
        "id": "HWqPoPUqEVY3",
        "outputId": "a80eb504-3269-4971-e96f-db543cdb3a18"
      },
      "source": [
        "print('Shape of train Data :', train.shape, '\\n Shape of test data :', test.shape)"
      ],
      "execution_count": 8,
      "outputs": [
        {
          "output_type": "stream",
          "name": "stdout",
          "text": [
            "Shape of train Data : (237609, 7) \n",
            " Shape of test data : (90675, 6)\n"
          ]
        }
      ]
    },
    {
      "cell_type": "code",
      "metadata": {
        "colab": {
          "base_uri": "https://localhost:8080/",
          "height": 197
        },
        "id": "-dIVeLusEVZB",
        "outputId": "48bfa68b-1cea-4a97-b848-5fcf0bed22c5"
      },
      "source": [
        "train.head()"
      ],
      "execution_count": null,
      "outputs": [
        {
          "data": {
            "text/html": [
              "<div>\n",
              "<style scoped>\n",
              "    .dataframe tbody tr th:only-of-type {\n",
              "        vertical-align: middle;\n",
              "    }\n",
              "\n",
              "    .dataframe tbody tr th {\n",
              "        vertical-align: top;\n",
              "    }\n",
              "\n",
              "    .dataframe thead th {\n",
              "        text-align: right;\n",
              "    }\n",
              "</style>\n",
              "<table border=\"1\" class=\"dataframe\">\n",
              "  <thead>\n",
              "    <tr style=\"text-align: right;\">\n",
              "      <th></th>\n",
              "      <th>impression_id</th>\n",
              "      <th>impression_time</th>\n",
              "      <th>user_id</th>\n",
              "      <th>app_code</th>\n",
              "      <th>os_version</th>\n",
              "      <th>is_4G</th>\n",
              "      <th>is_click</th>\n",
              "    </tr>\n",
              "  </thead>\n",
              "  <tbody>\n",
              "    <tr>\n",
              "      <th>0</th>\n",
              "      <td>c4ca4238a0b923820dcc509a6f75849b</td>\n",
              "      <td>2018-11-15 00:00:00</td>\n",
              "      <td>87862</td>\n",
              "      <td>422</td>\n",
              "      <td>old</td>\n",
              "      <td>0</td>\n",
              "      <td>0</td>\n",
              "    </tr>\n",
              "    <tr>\n",
              "      <th>1</th>\n",
              "      <td>45c48cce2e2d7fbdea1afc51c7c6ad26</td>\n",
              "      <td>2018-11-15 00:01:00</td>\n",
              "      <td>63410</td>\n",
              "      <td>467</td>\n",
              "      <td>latest</td>\n",
              "      <td>1</td>\n",
              "      <td>1</td>\n",
              "    </tr>\n",
              "    <tr>\n",
              "      <th>2</th>\n",
              "      <td>70efdf2ec9b086079795c442636b55fb</td>\n",
              "      <td>2018-11-15 00:02:00</td>\n",
              "      <td>71748</td>\n",
              "      <td>259</td>\n",
              "      <td>intermediate</td>\n",
              "      <td>1</td>\n",
              "      <td>0</td>\n",
              "    </tr>\n",
              "    <tr>\n",
              "      <th>3</th>\n",
              "      <td>8e296a067a37563370ded05f5a3bf3ec</td>\n",
              "      <td>2018-11-15 00:02:00</td>\n",
              "      <td>69209</td>\n",
              "      <td>244</td>\n",
              "      <td>latest</td>\n",
              "      <td>1</td>\n",
              "      <td>0</td>\n",
              "    </tr>\n",
              "    <tr>\n",
              "      <th>4</th>\n",
              "      <td>182be0c5cdcd5072bb1864cdee4d3d6e</td>\n",
              "      <td>2018-11-15 00:02:00</td>\n",
              "      <td>62873</td>\n",
              "      <td>473</td>\n",
              "      <td>latest</td>\n",
              "      <td>0</td>\n",
              "      <td>0</td>\n",
              "    </tr>\n",
              "  </tbody>\n",
              "</table>\n",
              "</div>"
            ],
            "text/plain": [
              "                      impression_id      impression_time  user_id  app_code  \\\n",
              "0  c4ca4238a0b923820dcc509a6f75849b  2018-11-15 00:00:00    87862       422   \n",
              "1  45c48cce2e2d7fbdea1afc51c7c6ad26  2018-11-15 00:01:00    63410       467   \n",
              "2  70efdf2ec9b086079795c442636b55fb  2018-11-15 00:02:00    71748       259   \n",
              "3  8e296a067a37563370ded05f5a3bf3ec  2018-11-15 00:02:00    69209       244   \n",
              "4  182be0c5cdcd5072bb1864cdee4d3d6e  2018-11-15 00:02:00    62873       473   \n",
              "\n",
              "     os_version  is_4G  is_click  \n",
              "0           old      0         0  \n",
              "1        latest      1         1  \n",
              "2  intermediate      1         0  \n",
              "3        latest      1         0  \n",
              "4        latest      0         0  "
            ]
          },
          "execution_count": 4,
          "metadata": {},
          "output_type": "execute_result"
        }
      ]
    },
    {
      "cell_type": "code",
      "metadata": {
        "colab": {
          "base_uri": "https://localhost:8080/",
          "height": 197
        },
        "id": "mw3EU3kowGDt",
        "outputId": "54234bc6-6ba1-4327-9cc9-03ff70ec3bda"
      },
      "source": [
        "test.head()"
      ],
      "execution_count": null,
      "outputs": [
        {
          "data": {
            "text/html": [
              "<div>\n",
              "<style scoped>\n",
              "    .dataframe tbody tr th:only-of-type {\n",
              "        vertical-align: middle;\n",
              "    }\n",
              "\n",
              "    .dataframe tbody tr th {\n",
              "        vertical-align: top;\n",
              "    }\n",
              "\n",
              "    .dataframe thead th {\n",
              "        text-align: right;\n",
              "    }\n",
              "</style>\n",
              "<table border=\"1\" class=\"dataframe\">\n",
              "  <thead>\n",
              "    <tr style=\"text-align: right;\">\n",
              "      <th></th>\n",
              "      <th>impression_id</th>\n",
              "      <th>impression_time</th>\n",
              "      <th>user_id</th>\n",
              "      <th>app_code</th>\n",
              "      <th>os_version</th>\n",
              "      <th>is_4G</th>\n",
              "    </tr>\n",
              "  </thead>\n",
              "  <tbody>\n",
              "    <tr>\n",
              "      <th>0</th>\n",
              "      <td>a9e7126a585a69a32bc7414e9d0c0ada</td>\n",
              "      <td>2018-12-13 07:44:00</td>\n",
              "      <td>44754</td>\n",
              "      <td>127</td>\n",
              "      <td>latest</td>\n",
              "      <td>1</td>\n",
              "    </tr>\n",
              "    <tr>\n",
              "      <th>1</th>\n",
              "      <td>caac14a5bf2ba283db7708bb34855760</td>\n",
              "      <td>2018-12-13 07:45:00</td>\n",
              "      <td>29656</td>\n",
              "      <td>44</td>\n",
              "      <td>latest</td>\n",
              "      <td>0</td>\n",
              "    </tr>\n",
              "    <tr>\n",
              "      <th>2</th>\n",
              "      <td>13f10ba306a19ce7bec2f3cae507b698</td>\n",
              "      <td>2018-12-13 07:46:00</td>\n",
              "      <td>25234</td>\n",
              "      <td>296</td>\n",
              "      <td>latest</td>\n",
              "      <td>1</td>\n",
              "    </tr>\n",
              "    <tr>\n",
              "      <th>3</th>\n",
              "      <td>39c4b4dc0e9701b55a0a4f072008fb3f</td>\n",
              "      <td>2018-12-13 07:47:00</td>\n",
              "      <td>22988</td>\n",
              "      <td>207</td>\n",
              "      <td>latest</td>\n",
              "      <td>1</td>\n",
              "    </tr>\n",
              "    <tr>\n",
              "      <th>4</th>\n",
              "      <td>bf5a572cca75f5fc67f4b14e58b11d70</td>\n",
              "      <td>2018-12-13 07:48:00</td>\n",
              "      <td>35431</td>\n",
              "      <td>242</td>\n",
              "      <td>latest</td>\n",
              "      <td>1</td>\n",
              "    </tr>\n",
              "  </tbody>\n",
              "</table>\n",
              "</div>"
            ],
            "text/plain": [
              "                      impression_id      impression_time  user_id  app_code  \\\n",
              "0  a9e7126a585a69a32bc7414e9d0c0ada  2018-12-13 07:44:00    44754       127   \n",
              "1  caac14a5bf2ba283db7708bb34855760  2018-12-13 07:45:00    29656        44   \n",
              "2  13f10ba306a19ce7bec2f3cae507b698  2018-12-13 07:46:00    25234       296   \n",
              "3  39c4b4dc0e9701b55a0a4f072008fb3f  2018-12-13 07:47:00    22988       207   \n",
              "4  bf5a572cca75f5fc67f4b14e58b11d70  2018-12-13 07:48:00    35431       242   \n",
              "\n",
              "  os_version  is_4G  \n",
              "0     latest      1  \n",
              "1     latest      0  \n",
              "2     latest      1  \n",
              "3     latest      1  \n",
              "4     latest      1  "
            ]
          },
          "execution_count": 5,
          "metadata": {},
          "output_type": "execute_result"
        }
      ]
    },
    {
      "cell_type": "code",
      "metadata": {
        "colab": {
          "base_uri": "https://localhost:8080/",
          "height": 281
        },
        "id": "GqO5ioMlEVZJ",
        "outputId": "b7d15c6a-5170-45bd-fa00-6a13be6c1ff5"
      },
      "source": [
        "train['is_click'].value_counts().plot(kind='bar')"
      ],
      "execution_count": null,
      "outputs": [
        {
          "data": {
            "text/plain": [
              "<matplotlib.axes._subplots.AxesSubplot at 0x1a2e69e898>"
            ]
          },
          "execution_count": 6,
          "metadata": {},
          "output_type": "execute_result"
        },
        {
          "data": {
            "image/png": "[encoded data removed]",
            "text/plain": [
              "<Figure size 432x288 with 1 Axes>"
            ]
          },
          "metadata": {
            "needs_background": "light"
          },
          "output_type": "display_data"
        }
      ]
    },
    {
      "cell_type": "code",
      "metadata": {
        "colab": {
          "base_uri": "https://localhost:8080/",
          "height": 33
        },
        "id": "KGokjrw9EVZT",
        "outputId": "7133aca2-8a04-436f-afaf-b1f3f0ac8fa6"
      },
      "source": [
        "print('Click percentage :', train['is_click'].value_counts()[1]/train['is_click'].value_counts().sum()*100 , '%')"
      ],
      "execution_count": null,
      "outputs": [
        {
          "name": "stdout",
          "output_type": "stream",
          "text": [
            "Click percentage : 4.571375663379754 %\n"
          ]
        }
      ]
    },
    {
      "cell_type": "code",
      "metadata": {
        "colab": {
          "base_uri": "https://localhost:8080/",
          "height": 197
        },
        "id": "bfujDIK9EVZb",
        "outputId": "3752fbbc-c61b-4b01-84be-08fd1e873f51"
      },
      "source": [
        "items.head()"
      ],
      "execution_count": null,
      "outputs": [
        {
          "data": {
            "text/html": [
              "<div>\n",
              "<style scoped>\n",
              "    .dataframe tbody tr th:only-of-type {\n",
              "        vertical-align: middle;\n",
              "    }\n",
              "\n",
              "    .dataframe tbody tr th {\n",
              "        vertical-align: top;\n",
              "    }\n",
              "\n",
              "    .dataframe thead th {\n",
              "        text-align: right;\n",
              "    }\n",
              "</style>\n",
              "<table border=\"1\" class=\"dataframe\">\n",
              "  <thead>\n",
              "    <tr style=\"text-align: right;\">\n",
              "      <th></th>\n",
              "      <th>item_id</th>\n",
              "      <th>item_price</th>\n",
              "      <th>category_1</th>\n",
              "      <th>category_2</th>\n",
              "      <th>category_3</th>\n",
              "      <th>product_type</th>\n",
              "    </tr>\n",
              "  </thead>\n",
              "  <tbody>\n",
              "    <tr>\n",
              "      <th>0</th>\n",
              "      <td>26880</td>\n",
              "      <td>4602</td>\n",
              "      <td>11</td>\n",
              "      <td>35</td>\n",
              "      <td>20</td>\n",
              "      <td>3040</td>\n",
              "    </tr>\n",
              "    <tr>\n",
              "      <th>1</th>\n",
              "      <td>54939</td>\n",
              "      <td>3513</td>\n",
              "      <td>12</td>\n",
              "      <td>57</td>\n",
              "      <td>85</td>\n",
              "      <td>6822</td>\n",
              "    </tr>\n",
              "    <tr>\n",
              "      <th>2</th>\n",
              "      <td>40383</td>\n",
              "      <td>825</td>\n",
              "      <td>17</td>\n",
              "      <td>8</td>\n",
              "      <td>279</td>\n",
              "      <td>1619</td>\n",
              "    </tr>\n",
              "    <tr>\n",
              "      <th>3</th>\n",
              "      <td>8777</td>\n",
              "      <td>2355</td>\n",
              "      <td>13</td>\n",
              "      <td>58</td>\n",
              "      <td>189</td>\n",
              "      <td>5264</td>\n",
              "    </tr>\n",
              "    <tr>\n",
              "      <th>4</th>\n",
              "      <td>113705</td>\n",
              "      <td>1267</td>\n",
              "      <td>17</td>\n",
              "      <td>39</td>\n",
              "      <td>151</td>\n",
              "      <td>10239</td>\n",
              "    </tr>\n",
              "  </tbody>\n",
              "</table>\n",
              "</div>"
            ],
            "text/plain": [
              "   item_id  item_price  category_1  category_2  category_3  product_type\n",
              "0    26880        4602          11          35          20          3040\n",
              "1    54939        3513          12          57          85          6822\n",
              "2    40383         825          17           8         279          1619\n",
              "3     8777        2355          13          58         189          5264\n",
              "4   113705        1267          17          39         151         10239"
            ]
          },
          "execution_count": 8,
          "metadata": {},
          "output_type": "execute_result"
        }
      ]
    },
    {
      "cell_type": "code",
      "metadata": {
        "colab": {
          "base_uri": "https://localhost:8080/",
          "height": 33
        },
        "id": "ZS2wyUThEVZk",
        "outputId": "270bdf3f-e6de-4c50-9433-853742c7beaf"
      },
      "source": [
        "items.shape"
      ],
      "execution_count": null,
      "outputs": [
        {
          "data": {
            "text/plain": [
              "(132761, 6)"
            ]
          },
          "execution_count": 9,
          "metadata": {},
          "output_type": "execute_result"
        }
      ]
    },
    {
      "cell_type": "code",
      "metadata": {
        "colab": {
          "base_uri": "https://localhost:8080/",
          "height": 1000
        },
        "id": "tdgPhDLFUeua",
        "outputId": "ac2da820-ff8a-42d4-d7d4-fedd3a864176"
      },
      "source": [
        "for col in items.columns[1:]:\n",
        "    items[col].plot(kind='box')\n",
        "    plt.show()"
      ],
      "execution_count": 9,
      "outputs": [
        {
          "output_type": "display_data",
          "data": {
            "image/png": "[encoded data removed]",
            "text/plain": [
              "<Figure size 432x288 with 1 Axes>"
            ]
          },
          "metadata": {
            "needs_background": "light"
          }
        },
        {
          "output_type": "display_data",
          "data": {
            "image/png": "[encoded data removed]",
            "text/plain": [
              "<Figure size 432x288 with 1 Axes>"
            ]
          },
          "metadata": {
            "needs_background": "light"
          }
        },
        {
          "output_type": "display_data",
          "data": {
            "image/png": "[encoded data removed]",
            "text/plain": [
              "<Figure size 432x288 with 1 Axes>"
            ]
          },
          "metadata": {
            "needs_background": "light"
          }
        },
        {
          "output_type": "display_data",
          "data": {
            "image/png": "[encoded data removed]",
            "text/plain": [
              "<Figure size 432x288 with 1 Axes>"
            ]
          },
          "metadata": {
            "needs_background": "light"
          }
        },
        {
          "output_type": "display_data",
          "data": {
            "image/png": "[encoded data removed]",
            "text/plain": [
              "<Figure size 432x288 with 1 Axes>"
            ]
          },
          "metadata": {
            "needs_background": "light"
          }
        }
      ]
    },
    {
      "cell_type": "markdown",
      "metadata": {
        "id": "PtdiZPISUeub"
      },
      "source": [
        "\n",
        "There are no outliers in items' variables except product price."
      ]
    },
    {
      "cell_type": "markdown",
      "metadata": {
        "id": "y8lyVpG_Ueub"
      },
      "source": [
        "<a id=a> </a> <br>\n",
        "\n",
        "## <span style=\"background:gray;color:red\">3. </span><span style=\"background:yellow;color:blue\">Preprocessing </span>"
      ]
    },
    {
      "cell_type": "code",
      "metadata": {
        "id": "WCElM4_SUeub"
      },
      "source": [
        "target = train['is_click'] # Get labels \n",
        "train.drop('is_click', axis=1, inplace=True) # Remove labels"
      ],
      "execution_count": 10,
      "outputs": []
    },
    {
      "cell_type": "markdown",
      "metadata": {
        "id": "2sPvbJDHUeub"
      },
      "source": [
        "<a id=b> </a> <br>\n",
        "\n",
        "### <span style=\"background:gray;color:red\">3.1 </span><span style=\"background:yellow;color:blue\">Process Logs and Items Data </span>\n",
        "* Merge Logs and Items DataFrame on `item_id`\n",
        "* Merge new train and test DataFrames with Logs and Items merge DataFrame on `user_id'\n",
        "* Create a Pivot tables---> Make  pivot tables with  `impression_id` as index , choose columns and define opeartions on them.\n",
        "* Reset index of Pivot Tables\n",
        "* Rename columns \n",
        "* Merge Train and Test DataFrame with Pivot Tables on `impression_id` "
      ]
    },
    {
      "cell_type": "code",
      "metadata": {
        "id": "KN7u5CuMUeuc"
      },
      "source": [
        "df1 = pd.merge(logs,items, on='item_id', how=\"left\")"
      ],
      "execution_count": 11,
      "outputs": []
    },
    {
      "cell_type": "code",
      "metadata": {
        "colab": {
          "base_uri": "https://localhost:8080/"
        },
        "id": "uJhon83gUeuc",
        "outputId": "fc3fe323-b612-417d-db03-0ade07048d20"
      },
      "source": [
        "%%time\n",
        "def process_log_item(df):\n",
        "    df_new = pd.merge(df,df1, on =\"user_id\", how=\"left\")\n",
        "    \n",
        "    df_new = pd.pivot_table(df_new, index ='impression_id', \n",
        "               values=['user_id','item_id', 'item_price','category_1','category_2','category_3', 'product_type'], \n",
        "              aggfunc={'user_id':len,'item_id': lambda x:len(set(x)),\n",
        "                       'item_price':[np.median,np.sum],\n",
        "                       'category_1':[np.min, np.mean, np.max],\n",
        "                       'category_2':[np.min, np.mean, np.max],\n",
        "                       'category_3':[np.min, np.mean, np.max],\n",
        "                       'product_type':[np.min, np.max]\n",
        "                      })\n",
        "    df_new = df_new.reset_index()\n",
        "    \n",
        "    df_new.columns = ['impression_id','cat1_max', 'cat1_min', 'cat1_mean',\n",
        "                    'cat2_max', 'cat2_min', 'cat2_mean',\n",
        "                    'cat3_max', 'cat3_min', 'cat3_mean',\n",
        "                     'item_count',\n",
        "                    'price_median', 'price_sum',\n",
        "                    'product_type_max', 'product_type_min',\n",
        "                    'impression_count']\n",
        "    df = pd.merge(df,df_new, on =\"impression_id\", how=\"left\" )\n",
        "    return df\n",
        "\n",
        "train = process_log_item(train)\n",
        "test = process_log_item(test)"
      ],
      "execution_count": 12,
      "outputs": [
        {
          "output_type": "stream",
          "name": "stdout",
          "text": [
            "CPU times: user 18.3 s, sys: 920 ms, total: 19.2 s\n",
            "Wall time: 19.2 s\n"
          ]
        }
      ]
    },
    {
      "cell_type": "code",
      "metadata": {
        "id": "1lrMvuoyUeuc",
        "outputId": "e2001c93-715d-473f-d874-a2e9e3039286"
      },
      "source": [
        "train.head()"
      ],
      "execution_count": null,
      "outputs": [
        {
          "data": {
            "text/html": [
              "<div>\n",
              "<style scoped>\n",
              "    .dataframe tbody tr th:only-of-type {\n",
              "        vertical-align: middle;\n",
              "    }\n",
              "\n",
              "    .dataframe tbody tr th {\n",
              "        vertical-align: top;\n",
              "    }\n",
              "\n",
              "    .dataframe thead th {\n",
              "        text-align: right;\n",
              "    }\n",
              "</style>\n",
              "<table border=\"1\" class=\"dataframe\">\n",
              "  <thead>\n",
              "    <tr style=\"text-align: right;\">\n",
              "      <th></th>\n",
              "      <th>impression_id</th>\n",
              "      <th>impression_time</th>\n",
              "      <th>user_id</th>\n",
              "      <th>app_code</th>\n",
              "      <th>os_version</th>\n",
              "      <th>is_4G</th>\n",
              "      <th>cat1_max</th>\n",
              "      <th>cat1_min</th>\n",
              "      <th>cat1_mean</th>\n",
              "      <th>cat2_max</th>\n",
              "      <th>...</th>\n",
              "      <th>cat2_mean</th>\n",
              "      <th>cat3_max</th>\n",
              "      <th>cat3_min</th>\n",
              "      <th>cat3_mean</th>\n",
              "      <th>item_count</th>\n",
              "      <th>price_median</th>\n",
              "      <th>price_sum</th>\n",
              "      <th>product_type_max</th>\n",
              "      <th>product_type_min</th>\n",
              "      <th>impression_count</th>\n",
              "    </tr>\n",
              "  </thead>\n",
              "  <tbody>\n",
              "    <tr>\n",
              "      <th>0</th>\n",
              "      <td>c4ca4238a0b923820dcc509a6f75849b</td>\n",
              "      <td>2018-11-15 00:00:00</td>\n",
              "      <td>87862</td>\n",
              "      <td>422</td>\n",
              "      <td>old</td>\n",
              "      <td>0</td>\n",
              "      <td>11.0</td>\n",
              "      <td>11.0</td>\n",
              "      <td>11.000000</td>\n",
              "      <td>35.0</td>\n",
              "      <td>...</td>\n",
              "      <td>35.000000</td>\n",
              "      <td>20.0</td>\n",
              "      <td>20.0</td>\n",
              "      <td>20.000000</td>\n",
              "      <td>1</td>\n",
              "      <td>2350.0</td>\n",
              "      <td>2350.0</td>\n",
              "      <td>5622.0</td>\n",
              "      <td>5622.0</td>\n",
              "      <td>1</td>\n",
              "    </tr>\n",
              "    <tr>\n",
              "      <th>1</th>\n",
              "      <td>45c48cce2e2d7fbdea1afc51c7c6ad26</td>\n",
              "      <td>2018-11-15 00:01:00</td>\n",
              "      <td>63410</td>\n",
              "      <td>467</td>\n",
              "      <td>latest</td>\n",
              "      <td>1</td>\n",
              "      <td>13.0</td>\n",
              "      <td>4.0</td>\n",
              "      <td>7.333333</td>\n",
              "      <td>76.0</td>\n",
              "      <td>...</td>\n",
              "      <td>67.000000</td>\n",
              "      <td>295.0</td>\n",
              "      <td>67.0</td>\n",
              "      <td>257.500000</td>\n",
              "      <td>7</td>\n",
              "      <td>3421.0</td>\n",
              "      <td>53434.0</td>\n",
              "      <td>9337.0</td>\n",
              "      <td>577.0</td>\n",
              "      <td>12</td>\n",
              "    </tr>\n",
              "    <tr>\n",
              "      <th>2</th>\n",
              "      <td>70efdf2ec9b086079795c442636b55fb</td>\n",
              "      <td>2018-11-15 00:02:00</td>\n",
              "      <td>71748</td>\n",
              "      <td>259</td>\n",
              "      <td>intermediate</td>\n",
              "      <td>1</td>\n",
              "      <td>13.0</td>\n",
              "      <td>8.0</td>\n",
              "      <td>10.500000</td>\n",
              "      <td>67.0</td>\n",
              "      <td>...</td>\n",
              "      <td>44.000000</td>\n",
              "      <td>170.0</td>\n",
              "      <td>139.0</td>\n",
              "      <td>154.500000</td>\n",
              "      <td>2</td>\n",
              "      <td>1598.5</td>\n",
              "      <td>3197.0</td>\n",
              "      <td>2874.0</td>\n",
              "      <td>2325.0</td>\n",
              "      <td>2</td>\n",
              "    </tr>\n",
              "    <tr>\n",
              "      <th>3</th>\n",
              "      <td>8e296a067a37563370ded05f5a3bf3ec</td>\n",
              "      <td>2018-11-15 00:02:00</td>\n",
              "      <td>69209</td>\n",
              "      <td>244</td>\n",
              "      <td>latest</td>\n",
              "      <td>1</td>\n",
              "      <td>17.0</td>\n",
              "      <td>0.0</td>\n",
              "      <td>9.277778</td>\n",
              "      <td>63.0</td>\n",
              "      <td>...</td>\n",
              "      <td>44.333333</td>\n",
              "      <td>313.0</td>\n",
              "      <td>20.0</td>\n",
              "      <td>159.444444</td>\n",
              "      <td>12</td>\n",
              "      <td>2307.0</td>\n",
              "      <td>179341.0</td>\n",
              "      <td>9959.0</td>\n",
              "      <td>1943.0</td>\n",
              "      <td>18</td>\n",
              "    </tr>\n",
              "    <tr>\n",
              "      <th>4</th>\n",
              "      <td>182be0c5cdcd5072bb1864cdee4d3d6e</td>\n",
              "      <td>2018-11-15 00:02:00</td>\n",
              "      <td>62873</td>\n",
              "      <td>473</td>\n",
              "      <td>latest</td>\n",
              "      <td>0</td>\n",
              "      <td>17.0</td>\n",
              "      <td>1.0</td>\n",
              "      <td>9.978261</td>\n",
              "      <td>76.0</td>\n",
              "      <td>...</td>\n",
              "      <td>32.652174</td>\n",
              "      <td>332.0</td>\n",
              "      <td>11.0</td>\n",
              "      <td>168.391304</td>\n",
              "      <td>34</td>\n",
              "      <td>3596.5</td>\n",
              "      <td>396471.0</td>\n",
              "      <td>10412.0</td>\n",
              "      <td>248.0</td>\n",
              "      <td>46</td>\n",
              "    </tr>\n",
              "  </tbody>\n",
              "</table>\n",
              "<p>5 rows × 21 columns</p>\n",
              "</div>"
            ],
            "text/plain": [
              "                      impression_id      impression_time  user_id  app_code  \\\n",
              "0  c4ca4238a0b923820dcc509a6f75849b  2018-11-15 00:00:00    87862       422   \n",
              "1  45c48cce2e2d7fbdea1afc51c7c6ad26  2018-11-15 00:01:00    63410       467   \n",
              "2  70efdf2ec9b086079795c442636b55fb  2018-11-15 00:02:00    71748       259   \n",
              "3  8e296a067a37563370ded05f5a3bf3ec  2018-11-15 00:02:00    69209       244   \n",
              "4  182be0c5cdcd5072bb1864cdee4d3d6e  2018-11-15 00:02:00    62873       473   \n",
              "\n",
              "     os_version  is_4G  cat1_max  cat1_min  cat1_mean  cat2_max  ...  \\\n",
              "0           old      0      11.0      11.0  11.000000      35.0  ...   \n",
              "1        latest      1      13.0       4.0   7.333333      76.0  ...   \n",
              "2  intermediate      1      13.0       8.0  10.500000      67.0  ...   \n",
              "3        latest      1      17.0       0.0   9.277778      63.0  ...   \n",
              "4        latest      0      17.0       1.0   9.978261      76.0  ...   \n",
              "\n",
              "   cat2_mean  cat3_max  cat3_min   cat3_mean  item_count  price_median  \\\n",
              "0  35.000000      20.0      20.0   20.000000           1        2350.0   \n",
              "1  67.000000     295.0      67.0  257.500000           7        3421.0   \n",
              "2  44.000000     170.0     139.0  154.500000           2        1598.5   \n",
              "3  44.333333     313.0      20.0  159.444444          12        2307.0   \n",
              "4  32.652174     332.0      11.0  168.391304          34        3596.5   \n",
              "\n",
              "   price_sum  product_type_max  product_type_min  impression_count  \n",
              "0     2350.0            5622.0            5622.0                 1  \n",
              "1    53434.0            9337.0             577.0                12  \n",
              "2     3197.0            2874.0            2325.0                 2  \n",
              "3   179341.0            9959.0            1943.0                18  \n",
              "4   396471.0           10412.0             248.0                46  \n",
              "\n",
              "[5 rows x 21 columns]"
            ]
          },
          "execution_count": 14,
          "metadata": {},
          "output_type": "execute_result"
        }
      ]
    },
    {
      "cell_type": "code",
      "metadata": {
        "id": "asY86SJuxj28"
      },
      "source": [
        "rm_col=['impression_id']"
      ],
      "execution_count": 13,
      "outputs": []
    },
    {
      "cell_type": "code",
      "metadata": {
        "id": "Sa8Q0gAA2Rmz"
      },
      "source": [
        "train1 = train.drop(rm_col, axis=1)\n",
        "\n",
        "test1 = test.drop(rm_col, axis=1)"
      ],
      "execution_count": 14,
      "outputs": []
    },
    {
      "cell_type": "code",
      "metadata": {
        "colab": {
          "base_uri": "https://localhost:8080/"
        },
        "id": "eK-OS7wj3Gal",
        "outputId": "eba69cb8-a377-4ca0-b3c7-ff99b0ef523b"
      },
      "source": [
        "print('Shape of train Data :', train1.shape, '\\n Shape of test data :', test1.shape)"
      ],
      "execution_count": 15,
      "outputs": [
        {
          "output_type": "stream",
          "name": "stdout",
          "text": [
            "Shape of train Data : (237609, 20) \n",
            " Shape of test data : (90675, 20)\n"
          ]
        }
      ]
    },
    {
      "cell_type": "code",
      "metadata": {
        "id": "aPAfbziaUeue"
      },
      "source": [
        "train1 = train1.fillna(0)\n",
        "test1 = test1.fillna(0)"
      ],
      "execution_count": 16,
      "outputs": []
    },
    {
      "cell_type": "code",
      "metadata": {
        "colab": {
          "base_uri": "https://localhost:8080/",
          "height": 307
        },
        "id": "-Iq97xIy3GIb",
        "outputId": "fe5f7e36-d315-46e4-ea0e-c979ed64a007"
      },
      "source": [
        "test1.head()"
      ],
      "execution_count": 17,
      "outputs": [
        {
          "output_type": "execute_result",
          "data": {
            "text/html": [
              "<div>\n",
              "<style scoped>\n",
              "    .dataframe tbody tr th:only-of-type {\n",
              "        vertical-align: middle;\n",
              "    }\n",
              "\n",
              "    .dataframe tbody tr th {\n",
              "        vertical-align: top;\n",
              "    }\n",
              "\n",
              "    .dataframe thead th {\n",
              "        text-align: right;\n",
              "    }\n",
              "</style>\n",
              "<table border=\"1\" class=\"dataframe\">\n",
              "  <thead>\n",
              "    <tr style=\"text-align: right;\">\n",
              "      <th></th>\n",
              "      <th>impression_time</th>\n",
              "      <th>user_id</th>\n",
              "      <th>app_code</th>\n",
              "      <th>os_version</th>\n",
              "      <th>is_4G</th>\n",
              "      <th>cat1_max</th>\n",
              "      <th>cat1_min</th>\n",
              "      <th>cat1_mean</th>\n",
              "      <th>cat2_max</th>\n",
              "      <th>cat2_min</th>\n",
              "      <th>cat2_mean</th>\n",
              "      <th>cat3_max</th>\n",
              "      <th>cat3_min</th>\n",
              "      <th>cat3_mean</th>\n",
              "      <th>item_count</th>\n",
              "      <th>price_median</th>\n",
              "      <th>price_sum</th>\n",
              "      <th>product_type_max</th>\n",
              "      <th>product_type_min</th>\n",
              "      <th>impression_count</th>\n",
              "    </tr>\n",
              "  </thead>\n",
              "  <tbody>\n",
              "    <tr>\n",
              "      <th>0</th>\n",
              "      <td>2018-12-13 07:44:00</td>\n",
              "      <td>44754</td>\n",
              "      <td>127</td>\n",
              "      <td>latest</td>\n",
              "      <td>1</td>\n",
              "      <td>1.0</td>\n",
              "      <td>1.0</td>\n",
              "      <td>1.000000</td>\n",
              "      <td>42.0</td>\n",
              "      <td>42.0</td>\n",
              "      <td>42.000000</td>\n",
              "      <td>220.0</td>\n",
              "      <td>220.0</td>\n",
              "      <td>220.000000</td>\n",
              "      <td>1</td>\n",
              "      <td>23424.0</td>\n",
              "      <td>23424.0</td>\n",
              "      <td>1617.0</td>\n",
              "      <td>1617.0</td>\n",
              "      <td>1</td>\n",
              "    </tr>\n",
              "    <tr>\n",
              "      <th>1</th>\n",
              "      <td>2018-12-13 07:45:00</td>\n",
              "      <td>29656</td>\n",
              "      <td>44</td>\n",
              "      <td>latest</td>\n",
              "      <td>0</td>\n",
              "      <td>17.0</td>\n",
              "      <td>0.0</td>\n",
              "      <td>9.638889</td>\n",
              "      <td>78.0</td>\n",
              "      <td>3.0</td>\n",
              "      <td>38.430556</td>\n",
              "      <td>336.0</td>\n",
              "      <td>15.0</td>\n",
              "      <td>138.000000</td>\n",
              "      <td>46</td>\n",
              "      <td>3840.0</td>\n",
              "      <td>774171.0</td>\n",
              "      <td>10059.0</td>\n",
              "      <td>507.0</td>\n",
              "      <td>72</td>\n",
              "    </tr>\n",
              "    <tr>\n",
              "      <th>2</th>\n",
              "      <td>2018-12-13 07:46:00</td>\n",
              "      <td>25234</td>\n",
              "      <td>296</td>\n",
              "      <td>latest</td>\n",
              "      <td>1</td>\n",
              "      <td>17.0</td>\n",
              "      <td>7.0</td>\n",
              "      <td>12.555556</td>\n",
              "      <td>46.0</td>\n",
              "      <td>0.0</td>\n",
              "      <td>20.444444</td>\n",
              "      <td>328.0</td>\n",
              "      <td>4.0</td>\n",
              "      <td>201.222222</td>\n",
              "      <td>7</td>\n",
              "      <td>2116.0</td>\n",
              "      <td>44771.0</td>\n",
              "      <td>5552.0</td>\n",
              "      <td>60.0</td>\n",
              "      <td>9</td>\n",
              "    </tr>\n",
              "    <tr>\n",
              "      <th>3</th>\n",
              "      <td>2018-12-13 07:47:00</td>\n",
              "      <td>22988</td>\n",
              "      <td>207</td>\n",
              "      <td>latest</td>\n",
              "      <td>1</td>\n",
              "      <td>17.0</td>\n",
              "      <td>0.0</td>\n",
              "      <td>7.162162</td>\n",
              "      <td>76.0</td>\n",
              "      <td>0.0</td>\n",
              "      <td>33.108108</td>\n",
              "      <td>338.0</td>\n",
              "      <td>84.0</td>\n",
              "      <td>219.432432</td>\n",
              "      <td>17</td>\n",
              "      <td>5248.0</td>\n",
              "      <td>555344.0</td>\n",
              "      <td>9776.0</td>\n",
              "      <td>344.0</td>\n",
              "      <td>37</td>\n",
              "    </tr>\n",
              "    <tr>\n",
              "      <th>4</th>\n",
              "      <td>2018-12-13 07:48:00</td>\n",
              "      <td>35431</td>\n",
              "      <td>242</td>\n",
              "      <td>latest</td>\n",
              "      <td>1</td>\n",
              "      <td>17.0</td>\n",
              "      <td>0.0</td>\n",
              "      <td>8.178571</td>\n",
              "      <td>78.0</td>\n",
              "      <td>3.0</td>\n",
              "      <td>36.678571</td>\n",
              "      <td>308.0</td>\n",
              "      <td>18.0</td>\n",
              "      <td>143.285714</td>\n",
              "      <td>26</td>\n",
              "      <td>3105.0</td>\n",
              "      <td>245792.0</td>\n",
              "      <td>10412.0</td>\n",
              "      <td>1349.0</td>\n",
              "      <td>28</td>\n",
              "    </tr>\n",
              "  </tbody>\n",
              "</table>\n",
              "</div>"
            ],
            "text/plain": [
              "       impression_time  user_id  ...  product_type_min impression_count\n",
              "0  2018-12-13 07:44:00    44754  ...            1617.0                1\n",
              "1  2018-12-13 07:45:00    29656  ...             507.0               72\n",
              "2  2018-12-13 07:46:00    25234  ...              60.0                9\n",
              "3  2018-12-13 07:47:00    22988  ...             344.0               37\n",
              "4  2018-12-13 07:48:00    35431  ...            1349.0               28\n",
              "\n",
              "[5 rows x 20 columns]"
            ]
          },
          "metadata": {},
          "execution_count": 17
        }
      ]
    },
    {
      "cell_type": "markdown",
      "metadata": {
        "id": "PiL0KsWtEVZu"
      },
      "source": [
        "<a id=2> </a> <br>\n",
        "\n",
        "### <span style=\"background:gray;color:red\">3.2 </span><span style=\"background:yellow;color:blue\">LabelEncoding </span>\n",
        "\n",
        "* Do label encoding for `os_version` column"
      ]
    },
    {
      "cell_type": "code",
      "metadata": {
        "id": "w5QaO2m7EVZw"
      },
      "source": [
        "encode_cols = ['os_version']\n",
        "def labelencpode(df):\n",
        "    enc = LabelEncoder()\n",
        "    for col in encode_cols:\n",
        "        enc.fit(df[col])\n",
        "        df[col] = enc.transform(df[col])\n",
        "    return df\n",
        "train1 = labelencpode(train1)\n",
        "test1 = labelencpode(test1)"
      ],
      "execution_count": 18,
      "outputs": []
    },
    {
      "cell_type": "code",
      "metadata": {
        "id": "TeaHKRKKEVZ6",
        "outputId": "6bb83581-1323-4c5f-e51e-52b56645035a"
      },
      "source": [
        "train1.head()"
      ],
      "execution_count": null,
      "outputs": [
        {
          "data": {
            "text/html": [
              "<div>\n",
              "<style scoped>\n",
              "    .dataframe tbody tr th:only-of-type {\n",
              "        vertical-align: middle;\n",
              "    }\n",
              "\n",
              "    .dataframe tbody tr th {\n",
              "        vertical-align: top;\n",
              "    }\n",
              "\n",
              "    .dataframe thead th {\n",
              "        text-align: right;\n",
              "    }\n",
              "</style>\n",
              "<table border=\"1\" class=\"dataframe\">\n",
              "  <thead>\n",
              "    <tr style=\"text-align: right;\">\n",
              "      <th></th>\n",
              "      <th>impression_time</th>\n",
              "      <th>user_id</th>\n",
              "      <th>app_code</th>\n",
              "      <th>os_version</th>\n",
              "      <th>is_4G</th>\n",
              "      <th>cat1_max</th>\n",
              "      <th>cat1_min</th>\n",
              "      <th>cat1_mean</th>\n",
              "      <th>cat2_max</th>\n",
              "      <th>cat2_min</th>\n",
              "      <th>cat2_mean</th>\n",
              "      <th>cat3_max</th>\n",
              "      <th>cat3_min</th>\n",
              "      <th>cat3_mean</th>\n",
              "      <th>item_count</th>\n",
              "      <th>price_median</th>\n",
              "      <th>price_sum</th>\n",
              "      <th>product_type_max</th>\n",
              "      <th>product_type_min</th>\n",
              "      <th>impression_count</th>\n",
              "    </tr>\n",
              "  </thead>\n",
              "  <tbody>\n",
              "    <tr>\n",
              "      <th>0</th>\n",
              "      <td>2018-11-15 00:00:00</td>\n",
              "      <td>87862</td>\n",
              "      <td>422</td>\n",
              "      <td>2</td>\n",
              "      <td>0</td>\n",
              "      <td>11.0</td>\n",
              "      <td>11.0</td>\n",
              "      <td>11.000000</td>\n",
              "      <td>35.0</td>\n",
              "      <td>35.0</td>\n",
              "      <td>35.000000</td>\n",
              "      <td>20.0</td>\n",
              "      <td>20.0</td>\n",
              "      <td>20.000000</td>\n",
              "      <td>1</td>\n",
              "      <td>2350.0</td>\n",
              "      <td>2350.0</td>\n",
              "      <td>5622.0</td>\n",
              "      <td>5622.0</td>\n",
              "      <td>1</td>\n",
              "    </tr>\n",
              "    <tr>\n",
              "      <th>1</th>\n",
              "      <td>2018-11-15 00:01:00</td>\n",
              "      <td>63410</td>\n",
              "      <td>467</td>\n",
              "      <td>1</td>\n",
              "      <td>1</td>\n",
              "      <td>13.0</td>\n",
              "      <td>4.0</td>\n",
              "      <td>7.333333</td>\n",
              "      <td>76.0</td>\n",
              "      <td>43.0</td>\n",
              "      <td>67.000000</td>\n",
              "      <td>295.0</td>\n",
              "      <td>67.0</td>\n",
              "      <td>257.500000</td>\n",
              "      <td>7</td>\n",
              "      <td>3421.0</td>\n",
              "      <td>53434.0</td>\n",
              "      <td>9337.0</td>\n",
              "      <td>577.0</td>\n",
              "      <td>12</td>\n",
              "    </tr>\n",
              "    <tr>\n",
              "      <th>2</th>\n",
              "      <td>2018-11-15 00:02:00</td>\n",
              "      <td>71748</td>\n",
              "      <td>259</td>\n",
              "      <td>0</td>\n",
              "      <td>1</td>\n",
              "      <td>13.0</td>\n",
              "      <td>8.0</td>\n",
              "      <td>10.500000</td>\n",
              "      <td>67.0</td>\n",
              "      <td>21.0</td>\n",
              "      <td>44.000000</td>\n",
              "      <td>170.0</td>\n",
              "      <td>139.0</td>\n",
              "      <td>154.500000</td>\n",
              "      <td>2</td>\n",
              "      <td>1598.5</td>\n",
              "      <td>3197.0</td>\n",
              "      <td>2874.0</td>\n",
              "      <td>2325.0</td>\n",
              "      <td>2</td>\n",
              "    </tr>\n",
              "    <tr>\n",
              "      <th>3</th>\n",
              "      <td>2018-11-15 00:02:00</td>\n",
              "      <td>69209</td>\n",
              "      <td>244</td>\n",
              "      <td>1</td>\n",
              "      <td>1</td>\n",
              "      <td>17.0</td>\n",
              "      <td>0.0</td>\n",
              "      <td>9.277778</td>\n",
              "      <td>63.0</td>\n",
              "      <td>21.0</td>\n",
              "      <td>44.333333</td>\n",
              "      <td>313.0</td>\n",
              "      <td>20.0</td>\n",
              "      <td>159.444444</td>\n",
              "      <td>12</td>\n",
              "      <td>2307.0</td>\n",
              "      <td>179341.0</td>\n",
              "      <td>9959.0</td>\n",
              "      <td>1943.0</td>\n",
              "      <td>18</td>\n",
              "    </tr>\n",
              "    <tr>\n",
              "      <th>4</th>\n",
              "      <td>2018-11-15 00:02:00</td>\n",
              "      <td>62873</td>\n",
              "      <td>473</td>\n",
              "      <td>1</td>\n",
              "      <td>0</td>\n",
              "      <td>17.0</td>\n",
              "      <td>1.0</td>\n",
              "      <td>9.978261</td>\n",
              "      <td>76.0</td>\n",
              "      <td>0.0</td>\n",
              "      <td>32.652174</td>\n",
              "      <td>332.0</td>\n",
              "      <td>11.0</td>\n",
              "      <td>168.391304</td>\n",
              "      <td>34</td>\n",
              "      <td>3596.5</td>\n",
              "      <td>396471.0</td>\n",
              "      <td>10412.0</td>\n",
              "      <td>248.0</td>\n",
              "      <td>46</td>\n",
              "    </tr>\n",
              "  </tbody>\n",
              "</table>\n",
              "</div>"
            ],
            "text/plain": [
              "       impression_time  user_id  app_code  os_version  is_4G  cat1_max  \\\n",
              "0  2018-11-15 00:00:00    87862       422           2      0      11.0   \n",
              "1  2018-11-15 00:01:00    63410       467           1      1      13.0   \n",
              "2  2018-11-15 00:02:00    71748       259           0      1      13.0   \n",
              "3  2018-11-15 00:02:00    69209       244           1      1      17.0   \n",
              "4  2018-11-15 00:02:00    62873       473           1      0      17.0   \n",
              "\n",
              "   cat1_min  cat1_mean  cat2_max  cat2_min  cat2_mean  cat3_max  cat3_min  \\\n",
              "0      11.0  11.000000      35.0      35.0  35.000000      20.0      20.0   \n",
              "1       4.0   7.333333      76.0      43.0  67.000000     295.0      67.0   \n",
              "2       8.0  10.500000      67.0      21.0  44.000000     170.0     139.0   \n",
              "3       0.0   9.277778      63.0      21.0  44.333333     313.0      20.0   \n",
              "4       1.0   9.978261      76.0       0.0  32.652174     332.0      11.0   \n",
              "\n",
              "    cat3_mean  item_count  price_median  price_sum  product_type_max  \\\n",
              "0   20.000000           1        2350.0     2350.0            5622.0   \n",
              "1  257.500000           7        3421.0    53434.0            9337.0   \n",
              "2  154.500000           2        1598.5     3197.0            2874.0   \n",
              "3  159.444444          12        2307.0   179341.0            9959.0   \n",
              "4  168.391304          34        3596.5   396471.0           10412.0   \n",
              "\n",
              "   product_type_min  impression_count  \n",
              "0            5622.0                 1  \n",
              "1             577.0                12  \n",
              "2            2325.0                 2  \n",
              "3            1943.0                18  \n",
              "4             248.0                46  "
            ]
          },
          "execution_count": 21,
          "metadata": {},
          "output_type": "execute_result"
        }
      ]
    },
    {
      "cell_type": "markdown",
      "metadata": {
        "id": "gkMOb4AjEVaQ"
      },
      "source": [
        "<a id=3> </a> <br>\n",
        "\n",
        "### <span style=\"background:gray;color:red\">3.3 </span><span style=\"background:yellow;color:blue\">Date Columns Processing </span>\n",
        "\n",
        "* Convert `impression_time` column to datetime format\n",
        "* Get month, day of week, day of month and hour "
      ]
    },
    {
      "cell_type": "code",
      "metadata": {
        "id": "8OnDxnPpEVaS"
      },
      "source": [
        "def date_col(df):\n",
        "  df['impression_time'] = pd.to_datetime(df['impression_time'])\n",
        "  df['dow'] = df['impression_time'].apply(lambda x: x.weekday())\n",
        "  df[\"day\"]  = df['impression_time'].apply(lambda x: x.day)\n",
        "  df['hour'] = df['impression_time'].apply(lambda x: x.hour)\n",
        "  df.drop('impression_time', axis=1, inplace=True)\n",
        "  return df\n",
        "\n",
        "train1 = date_col(train1)\n",
        "test1 = date_col(test1)"
      ],
      "execution_count": 19,
      "outputs": []
    },
    {
      "cell_type": "markdown",
      "metadata": {
        "id": "d1KxYko5EVak"
      },
      "source": [
        "<a id=4> </a> <br>\n",
        "\n",
        "## <span style=\"background:gray;color:red\">4. </span><span style=\"background:yellow;color:blue\">Feature Engineering </span>\n",
        "\n",
        "#### `I found high correlation between categories, item count, product type, and item price. To reduce correlation among them, I took ratios. It did not reduce correlation between target and independent variables.`  "
      ]
    },
    {
      "cell_type": "code",
      "metadata": {
        "id": "0GVl5cvjUeug"
      },
      "source": [
        "rm_cols = ['cat1_max', 'cat1_min', 'cat1_mean','cat2_max', 'cat2_min', 'cat2_mean',\n",
        "                    'cat3_max', 'cat3_min', 'cat3_mean','price_median', 'price_sum',\n",
        "                    'product_type_max', 'product_type_min', 'item_count', 'impression_count']\n",
        "def feat_eng(df):\n",
        "    df['cat1'] = df['cat1_max']/(df['cat1_min'] + 1)\n",
        "    df['cat12'] = df['cat2_max']/(df['cat2_min'] + 1)\n",
        "    df['cat3'] = df['cat3_max']/ (df['cat3_min'] + 1)\n",
        "    df['product_type'] = df['product_type_max'] /(df['product_type_min'] + 1)\n",
        "    df['price'] = df['price_sum'] / df['price_median']\n",
        "    df['f1'] = (df['cat1_mean'] + df['cat2_mean'] + df['cat3_mean'])/(df['item_count'] + df['impression_count'] )\n",
        "    df['f2'] = df['item_count']/df['impression_count']\n",
        "    df.drop(rm_cols, axis=1, inplace=True)\n",
        "    return df\n",
        "train1 = feat_eng(train1)\n",
        "test1 = feat_eng(test1)"
      ],
      "execution_count": 20,
      "outputs": []
    },
    {
      "cell_type": "code",
      "metadata": {
        "colab": {
          "base_uri": "https://localhost:8080/",
          "height": 223
        },
        "id": "qR0lscN9Ueug",
        "outputId": "f4ab35ac-42f6-4e9a-fc6b-9610c817c82f"
      },
      "source": [
        "train1.head()"
      ],
      "execution_count": 21,
      "outputs": [
        {
          "output_type": "execute_result",
          "data": {
            "text/html": [
              "<div>\n",
              "<style scoped>\n",
              "    .dataframe tbody tr th:only-of-type {\n",
              "        vertical-align: middle;\n",
              "    }\n",
              "\n",
              "    .dataframe tbody tr th {\n",
              "        vertical-align: top;\n",
              "    }\n",
              "\n",
              "    .dataframe thead th {\n",
              "        text-align: right;\n",
              "    }\n",
              "</style>\n",
              "<table border=\"1\" class=\"dataframe\">\n",
              "  <thead>\n",
              "    <tr style=\"text-align: right;\">\n",
              "      <th></th>\n",
              "      <th>user_id</th>\n",
              "      <th>app_code</th>\n",
              "      <th>os_version</th>\n",
              "      <th>is_4G</th>\n",
              "      <th>dow</th>\n",
              "      <th>day</th>\n",
              "      <th>hour</th>\n",
              "      <th>cat1</th>\n",
              "      <th>cat12</th>\n",
              "      <th>cat3</th>\n",
              "      <th>product_type</th>\n",
              "      <th>price</th>\n",
              "      <th>f1</th>\n",
              "      <th>f2</th>\n",
              "    </tr>\n",
              "  </thead>\n",
              "  <tbody>\n",
              "    <tr>\n",
              "      <th>0</th>\n",
              "      <td>87862</td>\n",
              "      <td>422</td>\n",
              "      <td>2</td>\n",
              "      <td>0</td>\n",
              "      <td>3</td>\n",
              "      <td>15</td>\n",
              "      <td>0</td>\n",
              "      <td>0.916667</td>\n",
              "      <td>0.972222</td>\n",
              "      <td>0.952381</td>\n",
              "      <td>0.999822</td>\n",
              "      <td>1.000000</td>\n",
              "      <td>33.000000</td>\n",
              "      <td>1.000000</td>\n",
              "    </tr>\n",
              "    <tr>\n",
              "      <th>1</th>\n",
              "      <td>63410</td>\n",
              "      <td>467</td>\n",
              "      <td>1</td>\n",
              "      <td>1</td>\n",
              "      <td>3</td>\n",
              "      <td>15</td>\n",
              "      <td>0</td>\n",
              "      <td>2.600000</td>\n",
              "      <td>1.727273</td>\n",
              "      <td>4.338235</td>\n",
              "      <td>16.153979</td>\n",
              "      <td>15.619410</td>\n",
              "      <td>17.464912</td>\n",
              "      <td>0.583333</td>\n",
              "    </tr>\n",
              "    <tr>\n",
              "      <th>2</th>\n",
              "      <td>71748</td>\n",
              "      <td>259</td>\n",
              "      <td>0</td>\n",
              "      <td>1</td>\n",
              "      <td>3</td>\n",
              "      <td>15</td>\n",
              "      <td>0</td>\n",
              "      <td>1.444444</td>\n",
              "      <td>3.045455</td>\n",
              "      <td>1.214286</td>\n",
              "      <td>1.235598</td>\n",
              "      <td>2.000000</td>\n",
              "      <td>52.250000</td>\n",
              "      <td>1.000000</td>\n",
              "    </tr>\n",
              "    <tr>\n",
              "      <th>3</th>\n",
              "      <td>69209</td>\n",
              "      <td>244</td>\n",
              "      <td>1</td>\n",
              "      <td>1</td>\n",
              "      <td>3</td>\n",
              "      <td>15</td>\n",
              "      <td>0</td>\n",
              "      <td>17.000000</td>\n",
              "      <td>2.863636</td>\n",
              "      <td>14.904762</td>\n",
              "      <td>5.122942</td>\n",
              "      <td>77.737755</td>\n",
              "      <td>7.101852</td>\n",
              "      <td>0.666667</td>\n",
              "    </tr>\n",
              "    <tr>\n",
              "      <th>4</th>\n",
              "      <td>62873</td>\n",
              "      <td>473</td>\n",
              "      <td>1</td>\n",
              "      <td>0</td>\n",
              "      <td>3</td>\n",
              "      <td>15</td>\n",
              "      <td>0</td>\n",
              "      <td>8.500000</td>\n",
              "      <td>76.000000</td>\n",
              "      <td>27.666667</td>\n",
              "      <td>41.815261</td>\n",
              "      <td>110.238009</td>\n",
              "      <td>2.637772</td>\n",
              "      <td>0.739130</td>\n",
              "    </tr>\n",
              "  </tbody>\n",
              "</table>\n",
              "</div>"
            ],
            "text/plain": [
              "   user_id  app_code  os_version  ...       price         f1        f2\n",
              "0    87862       422           2  ...    1.000000  33.000000  1.000000\n",
              "1    63410       467           1  ...   15.619410  17.464912  0.583333\n",
              "2    71748       259           0  ...    2.000000  52.250000  1.000000\n",
              "3    69209       244           1  ...   77.737755   7.101852  0.666667\n",
              "4    62873       473           1  ...  110.238009   2.637772  0.739130\n",
              "\n",
              "[5 rows x 14 columns]"
            ]
          },
          "metadata": {},
          "execution_count": 21
        }
      ]
    },
    {
      "cell_type": "code",
      "metadata": {
        "colab": {
          "base_uri": "https://localhost:8080/"
        },
        "id": "wAg_3dR8EVbT",
        "outputId": "f6e9f2ea-e4c0-4f5a-841d-298cac2901ee"
      },
      "source": [
        "print('Shape of train Data :', train1.shape, '\\n Shape of test data :', test1.shape)"
      ],
      "execution_count": 22,
      "outputs": [
        {
          "output_type": "stream",
          "name": "stdout",
          "text": [
            "Shape of train Data : (237609, 14) \n",
            " Shape of test data : (90675, 14)\n"
          ]
        }
      ]
    },
    {
      "cell_type": "code",
      "metadata": {
        "colab": {
          "base_uri": "https://localhost:8080/",
          "height": 223
        },
        "id": "8X08B7ngDad3",
        "outputId": "8f7c5c9d-0c34-44ae-cbd2-506833b17a32"
      },
      "source": [
        "train1.head()"
      ],
      "execution_count": 39,
      "outputs": [
        {
          "output_type": "execute_result",
          "data": {
            "text/html": [
              "<div>\n",
              "<style scoped>\n",
              "    .dataframe tbody tr th:only-of-type {\n",
              "        vertical-align: middle;\n",
              "    }\n",
              "\n",
              "    .dataframe tbody tr th {\n",
              "        vertical-align: top;\n",
              "    }\n",
              "\n",
              "    .dataframe thead th {\n",
              "        text-align: right;\n",
              "    }\n",
              "</style>\n",
              "<table border=\"1\" class=\"dataframe\">\n",
              "  <thead>\n",
              "    <tr style=\"text-align: right;\">\n",
              "      <th></th>\n",
              "      <th>user_id</th>\n",
              "      <th>app_code</th>\n",
              "      <th>os_version</th>\n",
              "      <th>is_4G</th>\n",
              "      <th>dow</th>\n",
              "      <th>day</th>\n",
              "      <th>hour</th>\n",
              "      <th>cat1</th>\n",
              "      <th>cat12</th>\n",
              "      <th>cat3</th>\n",
              "      <th>product_type</th>\n",
              "      <th>price</th>\n",
              "      <th>f1</th>\n",
              "      <th>f2</th>\n",
              "    </tr>\n",
              "  </thead>\n",
              "  <tbody>\n",
              "    <tr>\n",
              "      <th>0</th>\n",
              "      <td>87862</td>\n",
              "      <td>422</td>\n",
              "      <td>2</td>\n",
              "      <td>0</td>\n",
              "      <td>3</td>\n",
              "      <td>15</td>\n",
              "      <td>0</td>\n",
              "      <td>0.916667</td>\n",
              "      <td>0.972222</td>\n",
              "      <td>0.952381</td>\n",
              "      <td>0.999822</td>\n",
              "      <td>1.000000</td>\n",
              "      <td>33.000000</td>\n",
              "      <td>1.000000</td>\n",
              "    </tr>\n",
              "    <tr>\n",
              "      <th>1</th>\n",
              "      <td>63410</td>\n",
              "      <td>467</td>\n",
              "      <td>1</td>\n",
              "      <td>1</td>\n",
              "      <td>3</td>\n",
              "      <td>15</td>\n",
              "      <td>0</td>\n",
              "      <td>2.600000</td>\n",
              "      <td>1.727273</td>\n",
              "      <td>4.338235</td>\n",
              "      <td>16.153979</td>\n",
              "      <td>15.619410</td>\n",
              "      <td>17.464912</td>\n",
              "      <td>0.583333</td>\n",
              "    </tr>\n",
              "    <tr>\n",
              "      <th>2</th>\n",
              "      <td>71748</td>\n",
              "      <td>259</td>\n",
              "      <td>0</td>\n",
              "      <td>1</td>\n",
              "      <td>3</td>\n",
              "      <td>15</td>\n",
              "      <td>0</td>\n",
              "      <td>1.444444</td>\n",
              "      <td>3.045455</td>\n",
              "      <td>1.214286</td>\n",
              "      <td>1.235598</td>\n",
              "      <td>2.000000</td>\n",
              "      <td>52.250000</td>\n",
              "      <td>1.000000</td>\n",
              "    </tr>\n",
              "    <tr>\n",
              "      <th>3</th>\n",
              "      <td>69209</td>\n",
              "      <td>244</td>\n",
              "      <td>1</td>\n",
              "      <td>1</td>\n",
              "      <td>3</td>\n",
              "      <td>15</td>\n",
              "      <td>0</td>\n",
              "      <td>17.000000</td>\n",
              "      <td>2.863636</td>\n",
              "      <td>14.904762</td>\n",
              "      <td>5.122942</td>\n",
              "      <td>77.737755</td>\n",
              "      <td>7.101852</td>\n",
              "      <td>0.666667</td>\n",
              "    </tr>\n",
              "    <tr>\n",
              "      <th>4</th>\n",
              "      <td>62873</td>\n",
              "      <td>473</td>\n",
              "      <td>1</td>\n",
              "      <td>0</td>\n",
              "      <td>3</td>\n",
              "      <td>15</td>\n",
              "      <td>0</td>\n",
              "      <td>8.500000</td>\n",
              "      <td>76.000000</td>\n",
              "      <td>27.666667</td>\n",
              "      <td>41.815261</td>\n",
              "      <td>110.238009</td>\n",
              "      <td>2.637772</td>\n",
              "      <td>0.739130</td>\n",
              "    </tr>\n",
              "  </tbody>\n",
              "</table>\n",
              "</div>"
            ],
            "text/plain": [
              "   user_id  app_code  os_version  ...       price         f1        f2\n",
              "0    87862       422           2  ...    1.000000  33.000000  1.000000\n",
              "1    63410       467           1  ...   15.619410  17.464912  0.583333\n",
              "2    71748       259           0  ...    2.000000  52.250000  1.000000\n",
              "3    69209       244           1  ...   77.737755   7.101852  0.666667\n",
              "4    62873       473           1  ...  110.238009   2.637772  0.739130\n",
              "\n",
              "[5 rows x 14 columns]"
            ]
          },
          "metadata": {},
          "execution_count": 39
        }
      ]
    },
    {
      "cell_type": "code",
      "metadata": {
        "id": "pNjNNxi4Ueuh"
      },
      "source": [
        "train1['is_click'] = target"
      ],
      "execution_count": 40,
      "outputs": []
    },
    {
      "cell_type": "code",
      "metadata": {
        "colab": {
          "base_uri": "https://localhost:8080/",
          "height": 614
        },
        "id": "IOZPXacBUeuh",
        "outputId": "abe5014b-9696-4eed-d260-67a877036ab3"
      },
      "source": [
        "# Plot Correlation \n",
        "plt.subplots(figsize=(14,9))\n",
        "data = train1.corr()\n",
        "sns.heatmap(data, cmap ='Blues')"
      ],
      "execution_count": 41,
      "outputs": [
        {
          "output_type": "execute_result",
          "data": {
            "text/plain": [
              "<matplotlib.axes._subplots.AxesSubplot at 0x7f85d33541d0>"
            ]
          },
          "metadata": {},
          "execution_count": 41
        },
        {
          "output_type": "display_data",
          "data": {
            "image/png": "[encoded data removed]",
            "text/plain": [
              "<Figure size 1008x648 with 2 Axes>"
            ]
          },
          "metadata": {
            "needs_background": "light"
          }
        }
      ]
    },
    {
      "cell_type": "code",
      "metadata": {
        "colab": {
          "base_uri": "https://localhost:8080/",
          "height": 531
        },
        "id": "hsI8OT45Ueuh",
        "outputId": "7d7aaede-86f0-4005-a204-48166088d5cc"
      },
      "source": [
        "data"
      ],
      "execution_count": 42,
      "outputs": [
        {
          "output_type": "execute_result",
          "data": {
            "text/html": [
              "<div>\n",
              "<style scoped>\n",
              "    .dataframe tbody tr th:only-of-type {\n",
              "        vertical-align: middle;\n",
              "    }\n",
              "\n",
              "    .dataframe tbody tr th {\n",
              "        vertical-align: top;\n",
              "    }\n",
              "\n",
              "    .dataframe thead th {\n",
              "        text-align: right;\n",
              "    }\n",
              "</style>\n",
              "<table border=\"1\" class=\"dataframe\">\n",
              "  <thead>\n",
              "    <tr style=\"text-align: right;\">\n",
              "      <th></th>\n",
              "      <th>user_id</th>\n",
              "      <th>app_code</th>\n",
              "      <th>os_version</th>\n",
              "      <th>is_4G</th>\n",
              "      <th>dow</th>\n",
              "      <th>day</th>\n",
              "      <th>hour</th>\n",
              "      <th>cat1</th>\n",
              "      <th>cat12</th>\n",
              "      <th>cat3</th>\n",
              "      <th>product_type</th>\n",
              "      <th>price</th>\n",
              "      <th>f1</th>\n",
              "      <th>f2</th>\n",
              "      <th>is_click</th>\n",
              "    </tr>\n",
              "  </thead>\n",
              "  <tbody>\n",
              "    <tr>\n",
              "      <th>user_id</th>\n",
              "      <td>1.000000</td>\n",
              "      <td>0.000247</td>\n",
              "      <td>0.000619</td>\n",
              "      <td>0.000256</td>\n",
              "      <td>0.000825</td>\n",
              "      <td>0.001182</td>\n",
              "      <td>-0.006041</td>\n",
              "      <td>-0.002955</td>\n",
              "      <td>-0.011365</td>\n",
              "      <td>-0.003811</td>\n",
              "      <td>-0.009125</td>\n",
              "      <td>-0.003513</td>\n",
              "      <td>-0.001710</td>\n",
              "      <td>-0.002427</td>\n",
              "      <td>-0.001035</td>\n",
              "    </tr>\n",
              "    <tr>\n",
              "      <th>app_code</th>\n",
              "      <td>0.000247</td>\n",
              "      <td>1.000000</td>\n",
              "      <td>-0.008514</td>\n",
              "      <td>-0.081480</td>\n",
              "      <td>-0.005307</td>\n",
              "      <td>-0.008427</td>\n",
              "      <td>0.005997</td>\n",
              "      <td>0.003847</td>\n",
              "      <td>0.008389</td>\n",
              "      <td>0.007791</td>\n",
              "      <td>-0.007528</td>\n",
              "      <td>0.011439</td>\n",
              "      <td>-0.009960</td>\n",
              "      <td>-0.005235</td>\n",
              "      <td>-0.005449</td>\n",
              "    </tr>\n",
              "    <tr>\n",
              "      <th>os_version</th>\n",
              "      <td>0.000619</td>\n",
              "      <td>-0.008514</td>\n",
              "      <td>1.000000</td>\n",
              "      <td>-0.042513</td>\n",
              "      <td>-0.005353</td>\n",
              "      <td>-0.000696</td>\n",
              "      <td>0.001977</td>\n",
              "      <td>-0.031589</td>\n",
              "      <td>-0.021853</td>\n",
              "      <td>-0.021585</td>\n",
              "      <td>-0.016613</td>\n",
              "      <td>-0.024344</td>\n",
              "      <td>0.013109</td>\n",
              "      <td>0.000392</td>\n",
              "      <td>-0.004383</td>\n",
              "    </tr>\n",
              "    <tr>\n",
              "      <th>is_4G</th>\n",
              "      <td>0.000256</td>\n",
              "      <td>-0.081480</td>\n",
              "      <td>-0.042513</td>\n",
              "      <td>1.000000</td>\n",
              "      <td>-0.008040</td>\n",
              "      <td>0.031951</td>\n",
              "      <td>0.021178</td>\n",
              "      <td>-0.058799</td>\n",
              "      <td>-0.067452</td>\n",
              "      <td>-0.041895</td>\n",
              "      <td>-0.012725</td>\n",
              "      <td>-0.068685</td>\n",
              "      <td>0.054971</td>\n",
              "      <td>0.059102</td>\n",
              "      <td>-0.003464</td>\n",
              "    </tr>\n",
              "    <tr>\n",
              "      <th>dow</th>\n",
              "      <td>0.000825</td>\n",
              "      <td>-0.005307</td>\n",
              "      <td>-0.005353</td>\n",
              "      <td>-0.008040</td>\n",
              "      <td>1.000000</td>\n",
              "      <td>-0.090244</td>\n",
              "      <td>-0.008548</td>\n",
              "      <td>0.005072</td>\n",
              "      <td>0.008550</td>\n",
              "      <td>0.004596</td>\n",
              "      <td>0.005961</td>\n",
              "      <td>0.007911</td>\n",
              "      <td>-0.002677</td>\n",
              "      <td>0.001740</td>\n",
              "      <td>0.005079</td>\n",
              "    </tr>\n",
              "    <tr>\n",
              "      <th>day</th>\n",
              "      <td>0.001182</td>\n",
              "      <td>-0.008427</td>\n",
              "      <td>-0.000696</td>\n",
              "      <td>0.031951</td>\n",
              "      <td>-0.090244</td>\n",
              "      <td>1.000000</td>\n",
              "      <td>-0.000754</td>\n",
              "      <td>0.004307</td>\n",
              "      <td>-0.000254</td>\n",
              "      <td>-0.005244</td>\n",
              "      <td>-0.004282</td>\n",
              "      <td>-0.000159</td>\n",
              "      <td>-0.003164</td>\n",
              "      <td>0.003610</td>\n",
              "      <td>-0.005490</td>\n",
              "    </tr>\n",
              "    <tr>\n",
              "      <th>hour</th>\n",
              "      <td>-0.006041</td>\n",
              "      <td>0.005997</td>\n",
              "      <td>0.001977</td>\n",
              "      <td>0.021178</td>\n",
              "      <td>-0.008548</td>\n",
              "      <td>-0.000754</td>\n",
              "      <td>1.000000</td>\n",
              "      <td>0.002051</td>\n",
              "      <td>0.004222</td>\n",
              "      <td>-0.003659</td>\n",
              "      <td>0.001984</td>\n",
              "      <td>-0.004091</td>\n",
              "      <td>0.000783</td>\n",
              "      <td>0.000943</td>\n",
              "      <td>0.004081</td>\n",
              "    </tr>\n",
              "    <tr>\n",
              "      <th>cat1</th>\n",
              "      <td>-0.002955</td>\n",
              "      <td>0.003847</td>\n",
              "      <td>-0.031589</td>\n",
              "      <td>-0.058799</td>\n",
              "      <td>0.005072</td>\n",
              "      <td>0.004307</td>\n",
              "      <td>0.002051</td>\n",
              "      <td>1.000000</td>\n",
              "      <td>0.494989</td>\n",
              "      <td>0.369171</td>\n",
              "      <td>0.151979</td>\n",
              "      <td>0.438605</td>\n",
              "      <td>-0.571177</td>\n",
              "      <td>-0.271754</td>\n",
              "      <td>0.041209</td>\n",
              "    </tr>\n",
              "    <tr>\n",
              "      <th>cat12</th>\n",
              "      <td>-0.011365</td>\n",
              "      <td>0.008389</td>\n",
              "      <td>-0.021853</td>\n",
              "      <td>-0.067452</td>\n",
              "      <td>0.008550</td>\n",
              "      <td>-0.000254</td>\n",
              "      <td>0.004222</td>\n",
              "      <td>0.494989</td>\n",
              "      <td>1.000000</td>\n",
              "      <td>0.365118</td>\n",
              "      <td>0.171969</td>\n",
              "      <td>0.511105</td>\n",
              "      <td>-0.401906</td>\n",
              "      <td>-0.247889</td>\n",
              "      <td>0.038332</td>\n",
              "    </tr>\n",
              "    <tr>\n",
              "      <th>cat3</th>\n",
              "      <td>-0.003811</td>\n",
              "      <td>0.007791</td>\n",
              "      <td>-0.021585</td>\n",
              "      <td>-0.041895</td>\n",
              "      <td>0.004596</td>\n",
              "      <td>-0.005244</td>\n",
              "      <td>-0.003659</td>\n",
              "      <td>0.369171</td>\n",
              "      <td>0.365118</td>\n",
              "      <td>1.000000</td>\n",
              "      <td>0.152939</td>\n",
              "      <td>0.446636</td>\n",
              "      <td>-0.304923</td>\n",
              "      <td>-0.196411</td>\n",
              "      <td>0.031438</td>\n",
              "    </tr>\n",
              "    <tr>\n",
              "      <th>product_type</th>\n",
              "      <td>-0.009125</td>\n",
              "      <td>-0.007528</td>\n",
              "      <td>-0.016613</td>\n",
              "      <td>-0.012725</td>\n",
              "      <td>0.005961</td>\n",
              "      <td>-0.004282</td>\n",
              "      <td>0.001984</td>\n",
              "      <td>0.151979</td>\n",
              "      <td>0.171969</td>\n",
              "      <td>0.152939</td>\n",
              "      <td>1.000000</td>\n",
              "      <td>0.224189</td>\n",
              "      <td>-0.112014</td>\n",
              "      <td>-0.088983</td>\n",
              "      <td>0.013257</td>\n",
              "    </tr>\n",
              "    <tr>\n",
              "      <th>price</th>\n",
              "      <td>-0.003513</td>\n",
              "      <td>0.011439</td>\n",
              "      <td>-0.024344</td>\n",
              "      <td>-0.068685</td>\n",
              "      <td>0.007911</td>\n",
              "      <td>-0.000159</td>\n",
              "      <td>-0.004091</td>\n",
              "      <td>0.438605</td>\n",
              "      <td>0.511105</td>\n",
              "      <td>0.446636</td>\n",
              "      <td>0.224189</td>\n",
              "      <td>1.000000</td>\n",
              "      <td>-0.294276</td>\n",
              "      <td>-0.338280</td>\n",
              "      <td>0.038010</td>\n",
              "    </tr>\n",
              "    <tr>\n",
              "      <th>f1</th>\n",
              "      <td>-0.001710</td>\n",
              "      <td>-0.009960</td>\n",
              "      <td>0.013109</td>\n",
              "      <td>0.054971</td>\n",
              "      <td>-0.002677</td>\n",
              "      <td>-0.003164</td>\n",
              "      <td>0.000783</td>\n",
              "      <td>-0.571177</td>\n",
              "      <td>-0.401906</td>\n",
              "      <td>-0.304923</td>\n",
              "      <td>-0.112014</td>\n",
              "      <td>-0.294276</td>\n",
              "      <td>1.000000</td>\n",
              "      <td>0.406389</td>\n",
              "      <td>-0.044168</td>\n",
              "    </tr>\n",
              "    <tr>\n",
              "      <th>f2</th>\n",
              "      <td>-0.002427</td>\n",
              "      <td>-0.005235</td>\n",
              "      <td>0.000392</td>\n",
              "      <td>0.059102</td>\n",
              "      <td>0.001740</td>\n",
              "      <td>0.003610</td>\n",
              "      <td>0.000943</td>\n",
              "      <td>-0.271754</td>\n",
              "      <td>-0.247889</td>\n",
              "      <td>-0.196411</td>\n",
              "      <td>-0.088983</td>\n",
              "      <td>-0.338280</td>\n",
              "      <td>0.406389</td>\n",
              "      <td>1.000000</td>\n",
              "      <td>-0.033003</td>\n",
              "    </tr>\n",
              "    <tr>\n",
              "      <th>is_click</th>\n",
              "      <td>-0.001035</td>\n",
              "      <td>-0.005449</td>\n",
              "      <td>-0.004383</td>\n",
              "      <td>-0.003464</td>\n",
              "      <td>0.005079</td>\n",
              "      <td>-0.005490</td>\n",
              "      <td>0.004081</td>\n",
              "      <td>0.041209</td>\n",
              "      <td>0.038332</td>\n",
              "      <td>0.031438</td>\n",
              "      <td>0.013257</td>\n",
              "      <td>0.038010</td>\n",
              "      <td>-0.044168</td>\n",
              "      <td>-0.033003</td>\n",
              "      <td>1.000000</td>\n",
              "    </tr>\n",
              "  </tbody>\n",
              "</table>\n",
              "</div>"
            ],
            "text/plain": [
              "               user_id  app_code  os_version  ...        f1        f2  is_click\n",
              "user_id       1.000000  0.000247    0.000619  ... -0.001710 -0.002427 -0.001035\n",
              "app_code      0.000247  1.000000   -0.008514  ... -0.009960 -0.005235 -0.005449\n",
              "os_version    0.000619 -0.008514    1.000000  ...  0.013109  0.000392 -0.004383\n",
              "is_4G         0.000256 -0.081480   -0.042513  ...  0.054971  0.059102 -0.003464\n",
              "dow           0.000825 -0.005307   -0.005353  ... -0.002677  0.001740  0.005079\n",
              "day           0.001182 -0.008427   -0.000696  ... -0.003164  0.003610 -0.005490\n",
              "hour         -0.006041  0.005997    0.001977  ...  0.000783  0.000943  0.004081\n",
              "cat1         -0.002955  0.003847   -0.031589  ... -0.571177 -0.271754  0.041209\n",
              "cat12        -0.011365  0.008389   -0.021853  ... -0.401906 -0.247889  0.038332\n",
              "cat3         -0.003811  0.007791   -0.021585  ... -0.304923 -0.196411  0.031438\n",
              "product_type -0.009125 -0.007528   -0.016613  ... -0.112014 -0.088983  0.013257\n",
              "price        -0.003513  0.011439   -0.024344  ... -0.294276 -0.338280  0.038010\n",
              "f1           -0.001710 -0.009960    0.013109  ...  1.000000  0.406389 -0.044168\n",
              "f2           -0.002427 -0.005235    0.000392  ...  0.406389  1.000000 -0.033003\n",
              "is_click     -0.001035 -0.005449   -0.004383  ... -0.044168 -0.033003  1.000000\n",
              "\n",
              "[15 rows x 15 columns]"
            ]
          },
          "metadata": {},
          "execution_count": 42
        }
      ]
    },
    {
      "cell_type": "markdown",
      "metadata": {
        "id": "hKKVCyVbUeuh"
      },
      "source": [
        "<span style='color:blue;background:red;font-size:20px'> `High correlation between independent variables doesn't affect boosting aglorithms as they take one variable at a time for split.Therefore, it is upto you, if you drop highly correlated variable or not.`  </span>"
      ]
    },
    {
      "cell_type": "code",
      "metadata": {
        "id": "9_1ipQVXUeui"
      },
      "source": [
        "train1.drop('is_click', axis=1, inplace=True)"
      ],
      "execution_count": 43,
      "outputs": []
    },
    {
      "cell_type": "code",
      "metadata": {
        "id": "GW57mJlNUeui"
      },
      "source": [
        "cat_cols = ['user_id','app_code', 'os_version', 'is_4G', 'dow', 'hour', 'day']"
      ],
      "execution_count": 44,
      "outputs": []
    },
    {
      "cell_type": "code",
      "metadata": {
        "id": "LW_wFYm7EVbf"
      },
      "source": [
        "cat_feat =cat_cols"
      ],
      "execution_count": 31,
      "outputs": []
    },
    {
      "cell_type": "code",
      "metadata": {
        "colab": {
          "base_uri": "https://localhost:8080/",
          "height": 223
        },
        "id": "11qa9S3yUeui",
        "outputId": "609b75c6-ab25-4437-8119-43cbdbcc05c6"
      },
      "source": [
        "train1.head()"
      ],
      "execution_count": 45,
      "outputs": [
        {
          "output_type": "execute_result",
          "data": {
            "text/html": [
              "<div>\n",
              "<style scoped>\n",
              "    .dataframe tbody tr th:only-of-type {\n",
              "        vertical-align: middle;\n",
              "    }\n",
              "\n",
              "    .dataframe tbody tr th {\n",
              "        vertical-align: top;\n",
              "    }\n",
              "\n",
              "    .dataframe thead th {\n",
              "        text-align: right;\n",
              "    }\n",
              "</style>\n",
              "<table border=\"1\" class=\"dataframe\">\n",
              "  <thead>\n",
              "    <tr style=\"text-align: right;\">\n",
              "      <th></th>\n",
              "      <th>user_id</th>\n",
              "      <th>app_code</th>\n",
              "      <th>os_version</th>\n",
              "      <th>is_4G</th>\n",
              "      <th>dow</th>\n",
              "      <th>day</th>\n",
              "      <th>hour</th>\n",
              "      <th>cat1</th>\n",
              "      <th>cat12</th>\n",
              "      <th>cat3</th>\n",
              "      <th>product_type</th>\n",
              "      <th>price</th>\n",
              "      <th>f1</th>\n",
              "      <th>f2</th>\n",
              "    </tr>\n",
              "  </thead>\n",
              "  <tbody>\n",
              "    <tr>\n",
              "      <th>0</th>\n",
              "      <td>87862</td>\n",
              "      <td>422</td>\n",
              "      <td>2</td>\n",
              "      <td>0</td>\n",
              "      <td>3</td>\n",
              "      <td>15</td>\n",
              "      <td>0</td>\n",
              "      <td>0.916667</td>\n",
              "      <td>0.972222</td>\n",
              "      <td>0.952381</td>\n",
              "      <td>0.999822</td>\n",
              "      <td>1.000000</td>\n",
              "      <td>33.000000</td>\n",
              "      <td>1.000000</td>\n",
              "    </tr>\n",
              "    <tr>\n",
              "      <th>1</th>\n",
              "      <td>63410</td>\n",
              "      <td>467</td>\n",
              "      <td>1</td>\n",
              "      <td>1</td>\n",
              "      <td>3</td>\n",
              "      <td>15</td>\n",
              "      <td>0</td>\n",
              "      <td>2.600000</td>\n",
              "      <td>1.727273</td>\n",
              "      <td>4.338235</td>\n",
              "      <td>16.153979</td>\n",
              "      <td>15.619410</td>\n",
              "      <td>17.464912</td>\n",
              "      <td>0.583333</td>\n",
              "    </tr>\n",
              "    <tr>\n",
              "      <th>2</th>\n",
              "      <td>71748</td>\n",
              "      <td>259</td>\n",
              "      <td>0</td>\n",
              "      <td>1</td>\n",
              "      <td>3</td>\n",
              "      <td>15</td>\n",
              "      <td>0</td>\n",
              "      <td>1.444444</td>\n",
              "      <td>3.045455</td>\n",
              "      <td>1.214286</td>\n",
              "      <td>1.235598</td>\n",
              "      <td>2.000000</td>\n",
              "      <td>52.250000</td>\n",
              "      <td>1.000000</td>\n",
              "    </tr>\n",
              "    <tr>\n",
              "      <th>3</th>\n",
              "      <td>69209</td>\n",
              "      <td>244</td>\n",
              "      <td>1</td>\n",
              "      <td>1</td>\n",
              "      <td>3</td>\n",
              "      <td>15</td>\n",
              "      <td>0</td>\n",
              "      <td>17.000000</td>\n",
              "      <td>2.863636</td>\n",
              "      <td>14.904762</td>\n",
              "      <td>5.122942</td>\n",
              "      <td>77.737755</td>\n",
              "      <td>7.101852</td>\n",
              "      <td>0.666667</td>\n",
              "    </tr>\n",
              "    <tr>\n",
              "      <th>4</th>\n",
              "      <td>62873</td>\n",
              "      <td>473</td>\n",
              "      <td>1</td>\n",
              "      <td>0</td>\n",
              "      <td>3</td>\n",
              "      <td>15</td>\n",
              "      <td>0</td>\n",
              "      <td>8.500000</td>\n",
              "      <td>76.000000</td>\n",
              "      <td>27.666667</td>\n",
              "      <td>41.815261</td>\n",
              "      <td>110.238009</td>\n",
              "      <td>2.637772</td>\n",
              "      <td>0.739130</td>\n",
              "    </tr>\n",
              "  </tbody>\n",
              "</table>\n",
              "</div>"
            ],
            "text/plain": [
              "   user_id  app_code  os_version  ...       price         f1        f2\n",
              "0    87862       422           2  ...    1.000000  33.000000  1.000000\n",
              "1    63410       467           1  ...   15.619410  17.464912  0.583333\n",
              "2    71748       259           0  ...    2.000000  52.250000  1.000000\n",
              "3    69209       244           1  ...   77.737755   7.101852  0.666667\n",
              "4    62873       473           1  ...  110.238009   2.637772  0.739130\n",
              "\n",
              "[5 rows x 14 columns]"
            ]
          },
          "metadata": {},
          "execution_count": 45
        }
      ]
    },
    {
      "cell_type": "code",
      "metadata": {
        "colab": {
          "base_uri": "https://localhost:8080/"
        },
        "id": "OxkJK9i2hjxe",
        "outputId": "040db5e6-5a2a-4add-ad9e-e67cf02c8274"
      },
      "source": [
        "train1.dtypes"
      ],
      "execution_count": 56,
      "outputs": [
        {
          "output_type": "execute_result",
          "data": {
            "text/plain": [
              "user_id           int64\n",
              "app_code          int64\n",
              "os_version        int64\n",
              "is_4G             int64\n",
              "dow               int64\n",
              "day               int64\n",
              "hour              int64\n",
              "cat1            float64\n",
              "cat12           float64\n",
              "cat3            float64\n",
              "product_type    float64\n",
              "price           float64\n",
              "f1              float64\n",
              "f2              float64\n",
              "dtype: object"
            ]
          },
          "metadata": {},
          "execution_count": 56
        }
      ]
    },
    {
      "cell_type": "markdown",
      "metadata": {
        "id": "Zc9QVMK7Ueui"
      },
      "source": [
        "<a id=5> </a> <br>\n",
        "\n",
        "## <span style=\"background:gray;color:red\">5. </span><span style=\"background:yellow;color:blue\">CatBoost </span>"
      ]
    },
    {
      "cell_type": "code",
      "metadata": {
        "id": "tO4qD7XzUeui"
      },
      "source": [
        "cgb_param = {'learning_rate': 0.05,\n",
        "             'iterations': 3000,\n",
        "             'rsm': 0.9474394576478254,\n",
        "             'l2_leaf_reg': 1.9736243113512275,\n",
        "             'depth': 5,\n",
        "             'bagging_temperature': 0.12059739958632439,\n",
        "             'eval_metric': 'AUC',\n",
        "             'od_type': 'Iter',\n",
        "             'od_wait': 100}"
      ],
      "execution_count": 32,
      "outputs": []
    },
    {
      "cell_type": "code",
      "metadata": {
        "colab": {
          "base_uri": "https://localhost:8080/"
        },
        "id": "UbB5VydUUeui",
        "outputId": "e88fcc37-60fc-4935-fb54-56d89dd828a6"
      },
      "source": [
        "%%time\n",
        "nfold = 10\n",
        "\n",
        "skf = StratifiedKFold(n_splits=nfold, shuffle=True, random_state=127)\n",
        "\n",
        "oof = np.zeros(len(train1))\n",
        "predictions_cgb = np.zeros(len(test1))\n",
        "\n",
        "i = 1\n",
        "for train_index, valid_index in skf.split(target, target.values):\n",
        "    print(\"fold {}\".format(i))\n",
        "\n",
        "    train_pool = cgb.Pool(train1.iloc[train_index], target[train_index], cat_features=cat_feat)\n",
        "    validate_pool = cgb.Pool(train1.iloc[valid_index], target[valid_index], cat_features=cat_feat)\n",
        "   \n",
        "    model = cgb.CatBoostClassifier(**cgb_param, use_best_model=True)\n",
        "    model.fit(train_pool, eval_set=validate_pool, verbose_eval=100)\n",
        "\n",
        "    oof[valid_index] = model.predict_proba(cgb.Pool(train1.iloc[valid_index], cat_features=cat_feat))[:,1] \n",
        "\n",
        "    predictions_cgb += model.predict_proba(cgb.Pool(test1, cat_features=cat_feat))[:,1]/nfold\n",
        "    i = i + 1\n",
        "\n",
        "print(\"\\n\\nCV AUC-Score: {:<0.5f}\".format(roc_auc_score(target, oof)))"
      ],
      "execution_count": 33,
      "outputs": [
        {
          "output_type": "stream",
          "name": "stdout",
          "text": [
            "fold 1\n",
            "0:\ttest: 0.5000000\tbest: 0.5000000 (0)\ttotal: 110ms\tremaining: 5m 31s\n",
            "100:\ttest: 0.7516786\tbest: 0.7516958 (98)\ttotal: 11.5s\tremaining: 5m 29s\n",
            "200:\ttest: 0.7548815\tbest: 0.7548815 (200)\ttotal: 24.6s\tremaining: 5m 42s\n",
            "300:\ttest: 0.7569412\tbest: 0.7569485 (299)\ttotal: 39s\tremaining: 5m 49s\n",
            "400:\ttest: 0.7578424\tbest: 0.7578679 (394)\ttotal: 53s\tremaining: 5m 43s\n",
            "500:\ttest: 0.7581848\tbest: 0.7583640 (487)\ttotal: 1m 7s\tremaining: 5m 36s\n",
            "600:\ttest: 0.7586237\tbest: 0.7586237 (600)\ttotal: 1m 22s\tremaining: 5m 28s\n",
            "700:\ttest: 0.7588454\tbest: 0.7589414 (697)\ttotal: 1m 38s\tremaining: 5m 23s\n",
            "Stopped by overfitting detector  (100 iterations wait)\n",
            "\n",
            "bestTest = 0.7589413829\n",
            "bestIteration = 697\n",
            "\n",
            "Shrink model to first 698 iterations.\n",
            "fold 2\n",
            "0:\ttest: 0.5000000\tbest: 0.5000000 (0)\ttotal: 57.8ms\tremaining: 2m 53s\n",
            "100:\ttest: 0.7390124\tbest: 0.7390124 (100)\ttotal: 11.2s\tremaining: 5m 20s\n",
            "200:\ttest: 0.7406527\tbest: 0.7406527 (200)\ttotal: 24.7s\tremaining: 5m 43s\n",
            "300:\ttest: 0.7427782\tbest: 0.7427872 (298)\ttotal: 38.2s\tremaining: 5m 42s\n",
            "400:\ttest: 0.7433211\tbest: 0.7433696 (391)\ttotal: 52.4s\tremaining: 5m 39s\n",
            "500:\ttest: 0.7437294\tbest: 0.7437878 (456)\ttotal: 1m 6s\tremaining: 5m 32s\n",
            "600:\ttest: 0.7440914\tbest: 0.7442115 (568)\ttotal: 1m 21s\tremaining: 5m 24s\n",
            "700:\ttest: 0.7440814\tbest: 0.7442631 (635)\ttotal: 1m 35s\tremaining: 5m 14s\n",
            "Stopped by overfitting detector  (100 iterations wait)\n",
            "\n",
            "bestTest = 0.7442631182\n",
            "bestIteration = 635\n",
            "\n",
            "Shrink model to first 636 iterations.\n",
            "fold 3\n",
            "0:\ttest: 0.5000000\tbest: 0.5000000 (0)\ttotal: 55.8ms\tremaining: 2m 47s\n",
            "100:\ttest: 0.7528538\tbest: 0.7528538 (100)\ttotal: 10.9s\tremaining: 5m 13s\n",
            "200:\ttest: 0.7544499\tbest: 0.7545726 (184)\ttotal: 24.5s\tremaining: 5m 41s\n",
            "300:\ttest: 0.7552799\tbest: 0.7553550 (290)\ttotal: 38.1s\tremaining: 5m 41s\n",
            "400:\ttest: 0.7560342\tbest: 0.7561449 (381)\ttotal: 52.7s\tremaining: 5m 41s\n",
            "500:\ttest: 0.7563131\tbest: 0.7563696 (484)\ttotal: 1m 7s\tremaining: 5m 38s\n",
            "600:\ttest: 0.7565546\tbest: 0.7566089 (545)\ttotal: 1m 22s\tremaining: 5m 30s\n",
            "700:\ttest: 0.7569567\tbest: 0.7570398 (697)\ttotal: 1m 37s\tremaining: 5m 21s\n",
            "800:\ttest: 0.7576424\tbest: 0.7576803 (798)\ttotal: 1m 52s\tremaining: 5m 9s\n",
            "900:\ttest: 0.7579397\tbest: 0.7580024 (896)\ttotal: 2m 7s\tremaining: 4m 57s\n",
            "1000:\ttest: 0.7583905\tbest: 0.7583905 (1000)\ttotal: 2m 23s\tremaining: 4m 46s\n",
            "1100:\ttest: 0.7583869\tbest: 0.7585320 (1028)\ttotal: 2m 38s\tremaining: 4m 33s\n",
            "Stopped by overfitting detector  (100 iterations wait)\n",
            "\n",
            "bestTest = 0.7585320233\n",
            "bestIteration = 1028\n",
            "\n",
            "Shrink model to first 1029 iterations.\n",
            "fold 4\n",
            "0:\ttest: 0.5000000\tbest: 0.5000000 (0)\ttotal: 56.5ms\tremaining: 2m 49s\n",
            "100:\ttest: 0.7459798\tbest: 0.7459798 (100)\ttotal: 11.1s\tremaining: 5m 19s\n",
            "200:\ttest: 0.7491676\tbest: 0.7491897 (196)\ttotal: 24.5s\tremaining: 5m 40s\n",
            "300:\ttest: 0.7511748\tbest: 0.7511970 (296)\ttotal: 38.8s\tremaining: 5m 47s\n",
            "400:\ttest: 0.7531004\tbest: 0.7531479 (397)\ttotal: 53.1s\tremaining: 5m 43s\n",
            "500:\ttest: 0.7534214\tbest: 0.7534282 (499)\ttotal: 1m 7s\tremaining: 5m 36s\n",
            "600:\ttest: 0.7536486\tbest: 0.7537267 (599)\ttotal: 1m 22s\tremaining: 5m 29s\n",
            "700:\ttest: 0.7543218\tbest: 0.7543655 (693)\ttotal: 1m 37s\tremaining: 5m 19s\n",
            "800:\ttest: 0.7545264\tbest: 0.7546619 (764)\ttotal: 1m 52s\tremaining: 5m 8s\n",
            "Stopped by overfitting detector  (100 iterations wait)\n",
            "\n",
            "bestTest = 0.7546618789\n",
            "bestIteration = 764\n",
            "\n",
            "Shrink model to first 765 iterations.\n",
            "fold 5\n",
            "0:\ttest: 0.5000000\tbest: 0.5000000 (0)\ttotal: 57ms\tremaining: 2m 51s\n",
            "100:\ttest: 0.7311242\tbest: 0.7311618 (99)\ttotal: 11.4s\tremaining: 5m 28s\n",
            "200:\ttest: 0.7334746\tbest: 0.7334914 (198)\ttotal: 24.7s\tremaining: 5m 43s\n",
            "300:\ttest: 0.7356796\tbest: 0.7356846 (299)\ttotal: 38.2s\tremaining: 5m 42s\n",
            "400:\ttest: 0.7364253\tbest: 0.7364320 (398)\ttotal: 52.4s\tremaining: 5m 39s\n",
            "500:\ttest: 0.7369341\tbest: 0.7369887 (490)\ttotal: 1m 7s\tremaining: 5m 36s\n",
            "600:\ttest: 0.7371056\tbest: 0.7371499 (555)\ttotal: 1m 22s\tremaining: 5m 28s\n",
            "700:\ttest: 0.7372124\tbest: 0.7372124 (700)\ttotal: 1m 37s\tremaining: 5m 19s\n",
            "800:\ttest: 0.7371213\tbest: 0.7372226 (717)\ttotal: 1m 52s\tremaining: 5m 7s\n",
            "Stopped by overfitting detector  (100 iterations wait)\n",
            "\n",
            "bestTest = 0.737222564\n",
            "bestIteration = 717\n",
            "\n",
            "Shrink model to first 718 iterations.\n",
            "fold 6\n",
            "0:\ttest: 0.5000000\tbest: 0.5000000 (0)\ttotal: 57ms\tremaining: 2m 50s\n",
            "100:\ttest: 0.7457873\tbest: 0.7457873 (100)\ttotal: 10.6s\tremaining: 5m 4s\n",
            "200:\ttest: 0.7481561\tbest: 0.7481960 (194)\ttotal: 23.9s\tremaining: 5m 32s\n",
            "300:\ttest: 0.7504364\tbest: 0.7504364 (300)\ttotal: 37s\tremaining: 5m 32s\n",
            "400:\ttest: 0.7518080\tbest: 0.7518455 (398)\ttotal: 50.9s\tremaining: 5m 29s\n",
            "500:\ttest: 0.7525050\tbest: 0.7526677 (475)\ttotal: 1m 5s\tremaining: 5m 27s\n",
            "Stopped by overfitting detector  (100 iterations wait)\n",
            "\n",
            "bestTest = 0.7526677306\n",
            "bestIteration = 475\n",
            "\n",
            "Shrink model to first 476 iterations.\n",
            "fold 7\n",
            "0:\ttest: 0.5000000\tbest: 0.5000000 (0)\ttotal: 55.9ms\tremaining: 2m 47s\n",
            "100:\ttest: 0.7297562\tbest: 0.7297562 (100)\ttotal: 10.8s\tremaining: 5m 10s\n",
            "200:\ttest: 0.7332063\tbest: 0.7332063 (200)\ttotal: 23.9s\tremaining: 5m 33s\n",
            "300:\ttest: 0.7353245\tbest: 0.7353372 (298)\ttotal: 37.7s\tremaining: 5m 37s\n",
            "400:\ttest: 0.7368588\tbest: 0.7368588 (400)\ttotal: 51.9s\tremaining: 5m 36s\n",
            "500:\ttest: 0.7376027\tbest: 0.7376476 (492)\ttotal: 1m 6s\tremaining: 5m 30s\n",
            "600:\ttest: 0.7380957\tbest: 0.7381150 (597)\ttotal: 1m 21s\tremaining: 5m 24s\n",
            "700:\ttest: 0.7381927\tbest: 0.7382375 (685)\ttotal: 1m 35s\tremaining: 5m 14s\n",
            "800:\ttest: 0.7385733\tbest: 0.7385733 (800)\ttotal: 1m 50s\tremaining: 5m 4s\n",
            "900:\ttest: 0.7389643\tbest: 0.7389703 (894)\ttotal: 2m 6s\tremaining: 4m 54s\n",
            "1000:\ttest: 0.7391584\tbest: 0.7392631 (962)\ttotal: 2m 21s\tremaining: 4m 43s\n",
            "1100:\ttest: 0.7395073\tbest: 0.7395198 (1097)\ttotal: 2m 36s\tremaining: 4m 30s\n",
            "1200:\ttest: 0.7398645\tbest: 0.7399508 (1190)\ttotal: 2m 51s\tremaining: 4m 16s\n",
            "Stopped by overfitting detector  (100 iterations wait)\n",
            "\n",
            "bestTest = 0.7399508427\n",
            "bestIteration = 1190\n",
            "\n",
            "Shrink model to first 1191 iterations.\n",
            "fold 8\n",
            "0:\ttest: 0.5000000\tbest: 0.5000000 (0)\ttotal: 55ms\tremaining: 2m 44s\n",
            "100:\ttest: 0.7504487\tbest: 0.7504487 (100)\ttotal: 11.6s\tremaining: 5m 31s\n",
            "200:\ttest: 0.7532413\tbest: 0.7532413 (200)\ttotal: 24.7s\tremaining: 5m 44s\n",
            "300:\ttest: 0.7541821\tbest: 0.7542387 (299)\ttotal: 38.5s\tremaining: 5m 45s\n",
            "400:\ttest: 0.7547216\tbest: 0.7547366 (398)\ttotal: 52.7s\tremaining: 5m 41s\n",
            "500:\ttest: 0.7553446\tbest: 0.7553446 (500)\ttotal: 1m 7s\tremaining: 5m 34s\n",
            "600:\ttest: 0.7556707\tbest: 0.7556812 (594)\ttotal: 1m 22s\tremaining: 5m 27s\n",
            "700:\ttest: 0.7556626\tbest: 0.7558168 (628)\ttotal: 1m 36s\tremaining: 5m 18s\n",
            "Stopped by overfitting detector  (100 iterations wait)\n",
            "\n",
            "bestTest = 0.7558167974\n",
            "bestIteration = 628\n",
            "\n",
            "Shrink model to first 629 iterations.\n",
            "fold 9\n",
            "0:\ttest: 0.5000000\tbest: 0.5000000 (0)\ttotal: 58.9ms\tremaining: 2m 56s\n",
            "100:\ttest: 0.7456806\tbest: 0.7456806 (100)\ttotal: 11s\tremaining: 5m 15s\n",
            "200:\ttest: 0.7482544\tbest: 0.7482544 (200)\ttotal: 23.9s\tremaining: 5m 32s\n",
            "300:\ttest: 0.7508012\tbest: 0.7508513 (297)\ttotal: 37.2s\tremaining: 5m 33s\n",
            "400:\ttest: 0.7508663\tbest: 0.7510254 (350)\ttotal: 51.3s\tremaining: 5m 32s\n",
            "500:\ttest: 0.7515263\tbest: 0.7515397 (499)\ttotal: 1m 5s\tremaining: 5m 27s\n",
            "600:\ttest: 0.7516271\tbest: 0.7516596 (598)\ttotal: 1m 20s\tremaining: 5m 20s\n",
            "700:\ttest: 0.7515282\tbest: 0.7518200 (630)\ttotal: 1m 34s\tremaining: 5m 11s\n",
            "Stopped by overfitting detector  (100 iterations wait)\n",
            "\n",
            "bestTest = 0.7518200251\n",
            "bestIteration = 630\n",
            "\n",
            "Shrink model to first 631 iterations.\n",
            "fold 10\n",
            "0:\ttest: 0.5341766\tbest: 0.5341766 (0)\ttotal: 141ms\tremaining: 7m 2s\n",
            "100:\ttest: 0.7407106\tbest: 0.7407106 (100)\ttotal: 11.5s\tremaining: 5m 30s\n",
            "200:\ttest: 0.7415131\tbest: 0.7415588 (185)\ttotal: 24.8s\tremaining: 5m 44s\n",
            "300:\ttest: 0.7421318\tbest: 0.7423782 (238)\ttotal: 39.4s\tremaining: 5m 53s\n",
            "400:\ttest: 0.7427565\tbest: 0.7428449 (393)\ttotal: 53.9s\tremaining: 5m 49s\n",
            "500:\ttest: 0.7428332\tbest: 0.7428979 (492)\ttotal: 1m 8s\tremaining: 5m 43s\n",
            "600:\ttest: 0.7428762\tbest: 0.7431652 (552)\ttotal: 1m 23s\tremaining: 5m 34s\n",
            "Stopped by overfitting detector  (100 iterations wait)\n",
            "\n",
            "bestTest = 0.7431651947\n",
            "bestIteration = 552\n",
            "\n",
            "Shrink model to first 553 iterations.\n",
            "\n",
            "\n",
            "CV AUC-Score: 0.74944\n",
            "CPU times: user 1h 9min 59s, sys: 1min 21s, total: 1h 11min 20s\n",
            "Wall time: 19min 52s\n"
          ]
        }
      ]
    },
    {
      "cell_type": "code",
      "metadata": {
        "colab": {
          "base_uri": "https://localhost:8080/"
        },
        "id": "CRtsTzPnUeuj",
        "outputId": "6922f3ef-29fe-428b-ddce-83d27ad9d867"
      },
      "source": [
        "predictions_cgb"
      ],
      "execution_count": 34,
      "outputs": [
        {
          "output_type": "execute_result",
          "data": {
            "text/plain": [
              "array([0.01588247, 0.03011356, 0.08128688, ..., 0.03340591, 0.15168121,\n",
              "       0.19229803])"
            ]
          },
          "metadata": {},
          "execution_count": 34
        }
      ]
    },
    {
      "cell_type": "markdown",
      "metadata": {
        "id": "L5hNh39MUeuj"
      },
      "source": [
        "<a id=l> </a> <br>\n",
        "\n",
        "## <span style=\"background:gray;color:red\">6. </span><span style=\"background:yellow;color:blue\">LightGBM </span>"
      ]
    },
    {
      "cell_type": "code",
      "metadata": {
        "id": "Dl117G6qUeuj"
      },
      "source": [
        "param_lgb = {'num_leaves': 160,\n",
        "             'feature_fraction': 0.31712193854996995,\n",
        "             'bagging_fraction': 0.9765253434754912,\n",
        "             'max_depth': 17,\n",
        "             'lambda_l1': 0.8816192486961452,\n",
        "             'lambda_l2': 2.567616278588324,\n",
        "             'min_split_gain': 0.08461009792570238,\n",
        "             'min_child_weight': 1.2653677360323834,\n",
        "             'learing_rate': 0.01,\n",
        "             'objective': 'binary',\n",
        "             'boosting_type': 'gbdt',\n",
        "             'verbose': 1,\n",
        "             'metric': {'auc'},\n",
        "             'is_unbalance': True}"
      ],
      "execution_count": 35,
      "outputs": []
    },
    {
      "cell_type": "code",
      "metadata": {
        "colab": {
          "base_uri": "https://localhost:8080/"
        },
        "id": "0IwI1qRAUeuj",
        "outputId": "99245432-b2d7-433f-ab8d-e1743409dfb2"
      },
      "source": [
        "%%time\n",
        "nfold = 10\n",
        "\n",
        "skf = StratifiedKFold(n_splits=nfold, shuffle=True, random_state=127)\n",
        "\n",
        "oof = np.zeros(len(train1))\n",
        "predictions_lgb = np.zeros(len(test1))\n",
        "\n",
        "i = 1\n",
        "for train_index, valid_index in skf.split(target, target.values):\n",
        "    print(\"fold {}\".format(i))\n",
        "    xg_train = lgb.Dataset(train1.iloc[train_index],\n",
        "                           label=target[train_index],\n",
        "                           free_raw_data = False\n",
        "                           )\n",
        "    xg_valid = lgb.Dataset(train1.iloc[valid_index],\n",
        "                           label=target[valid_index],\n",
        "                           free_raw_data = False\n",
        "                           )   \n",
        "    \n",
        "    clf = lgb.train(param_lgb, xg_train, 5000, valid_sets = [xg_valid],\n",
        "                    categorical_feature=cat_feat,\n",
        "                    verbose_eval=100, early_stopping_rounds = 100)\n",
        "    \n",
        "    oof[valid_index] = clf.predict(train1.iloc[valid_index], num_iteration=clf.best_iteration) \n",
        "    \n",
        "    predictions_lgb += clf.predict(test1, num_iteration=clf.best_iteration) / nfold\n",
        "    i = i + 1\n",
        "\n",
        "print(\"\\n\\nCV AUC: {:<0.4f}\".format(roc_auc_score(target, (oof))))"
      ],
      "execution_count": 36,
      "outputs": [
        {
          "output_type": "stream",
          "name": "stdout",
          "text": [
            "fold 1\n",
            "Training until validation scores don't improve for 100 rounds.\n",
            "[100]\tvalid_0's auc: 0.744216\n",
            "Early stopping, best iteration is:\n",
            "[91]\tvalid_0's auc: 0.745863\n",
            "fold 2\n",
            "Training until validation scores don't improve for 100 rounds.\n",
            "[100]\tvalid_0's auc: 0.730883\n",
            "Early stopping, best iteration is:\n",
            "[91]\tvalid_0's auc: 0.731658\n",
            "fold 3\n",
            "Training until validation scores don't improve for 100 rounds.\n",
            "[100]\tvalid_0's auc: 0.74152\n",
            "[200]\tvalid_0's auc: 0.740612\n",
            "Early stopping, best iteration is:\n",
            "[115]\tvalid_0's auc: 0.742665\n",
            "fold 4\n",
            "Training until validation scores don't improve for 100 rounds.\n",
            "[100]\tvalid_0's auc: 0.740356\n",
            "Early stopping, best iteration is:\n",
            "[95]\tvalid_0's auc: 0.741271\n",
            "fold 5\n",
            "Training until validation scores don't improve for 100 rounds.\n",
            "[100]\tvalid_0's auc: 0.724819\n",
            "Early stopping, best iteration is:\n",
            "[91]\tvalid_0's auc: 0.725616\n",
            "fold 6\n",
            "Training until validation scores don't improve for 100 rounds.\n",
            "[100]\tvalid_0's auc: 0.73152\n",
            "Early stopping, best iteration is:\n",
            "[72]\tvalid_0's auc: 0.732065\n",
            "fold 7\n",
            "Training until validation scores don't improve for 100 rounds.\n",
            "[100]\tvalid_0's auc: 0.723057\n",
            "Early stopping, best iteration is:\n",
            "[59]\tvalid_0's auc: 0.725284\n",
            "fold 8\n",
            "Training until validation scores don't improve for 100 rounds.\n",
            "[100]\tvalid_0's auc: 0.744762\n",
            "[200]\tvalid_0's auc: 0.744324\n",
            "Early stopping, best iteration is:\n",
            "[137]\tvalid_0's auc: 0.746025\n",
            "fold 9\n",
            "Training until validation scores don't improve for 100 rounds.\n",
            "[100]\tvalid_0's auc: 0.739028\n",
            "Early stopping, best iteration is:\n",
            "[75]\tvalid_0's auc: 0.741187\n",
            "fold 10\n",
            "Training until validation scores don't improve for 100 rounds.\n",
            "[100]\tvalid_0's auc: 0.725545\n",
            "Early stopping, best iteration is:\n",
            "[72]\tvalid_0's auc: 0.727307\n",
            "\n",
            "\n",
            "CV AUC: 0.7356\n",
            "CPU times: user 3min 8s, sys: 1.74 s, total: 3min 9s\n",
            "Wall time: 49 s\n"
          ]
        }
      ]
    },
    {
      "cell_type": "code",
      "metadata": {
        "colab": {
          "base_uri": "https://localhost:8080/"
        },
        "id": "JzFrp_mqUeuk",
        "outputId": "f1fd501f-e49f-4a9b-f361-e7694896d982"
      },
      "source": [
        "predictions_lgb"
      ],
      "execution_count": 37,
      "outputs": [
        {
          "output_type": "execute_result",
          "data": {
            "text/plain": [
              "array([0.16060787, 0.14228406, 0.52876549, ..., 0.16293387, 0.73248088,\n",
              "       0.73295943])"
            ]
          },
          "metadata": {},
          "execution_count": 37
        }
      ]
    },
    {
      "cell_type": "markdown",
      "metadata": {
        "id": "fyByzLZqUeuk"
      },
      "source": [
        "<a id=s> </a> <br>\n",
        "\n",
        "## <span style=\"background:gray;color:red\">7</span><span style=\"background:yellow;color:blue\">Submission DataFrame</span>"
      ]
    },
    {
      "cell_type": "code",
      "metadata": {
        "id": "FdahqDH-Ueuk"
      },
      "source": [
        "predictions = predictions_lgb * 0.05 + predictions_cgb *0.95 "
      ],
      "execution_count": 46,
      "outputs": []
    },
    {
      "cell_type": "code",
      "metadata": {
        "id": "UpnpYABtCXsW"
      },
      "source": [
        "sub = pd.read_csv('/content/drive/My Drive/WNS Analytics Wizard 2019/Data/Sample/sample_submission.csv')"
      ],
      "execution_count": 50,
      "outputs": []
    },
    {
      "cell_type": "code",
      "metadata": {
        "id": "OmM5rXT5Ueuk"
      },
      "source": [
        "sub['is_click'] = predictions"
      ],
      "execution_count": 51,
      "outputs": []
    },
    {
      "cell_type": "code",
      "metadata": {
        "id": "NQcc9YbQCXsX"
      },
      "source": [
        "sub.to_csv('/content/drive/My Drive/WNS Analytics Wizard 2019/submission_cbm_lgbm.csv', index =False)"
      ],
      "execution_count": 52,
      "outputs": []
    },
    {
      "cell_type": "code",
      "metadata": {
        "colab": {
          "base_uri": "https://localhost:8080/",
          "height": 17
        },
        "id": "o96QXKo6STLj",
        "outputId": "509bbc8c-2c60-4532-d6c3-822e2420b723"
      },
      "source": [
        "sub.to_csv('submission_cbm_lgbm.csv', index =False)\n",
        "\n",
        "from google.colab import files\n",
        "files.download(\"submission_cbm_lgbm.csv\")"
      ],
      "execution_count": 54,
      "outputs": [
        {
          "output_type": "display_data",
          "data": {
            "application/javascript": [
              "\n",
              "    async function download(id, filename, size) {\n",
              "      if (!google.colab.kernel.accessAllowed) {\n",
              "        return;\n",
              "      }\n",
              "      const div = document.createElement('div');\n",
              "      const label = document.createElement('label');\n",
              "      label.textContent = `Downloading \"${filename}\": `;\n",
              "      div.appendChild(label);\n",
              "      const progress = document.createElement('progress');\n",
              "      progress.max = size;\n",
              "      div.appendChild(progress);\n",
              "      document.body.appendChild(div);\n",
              "\n",
              "      const buffers = [];\n",
              "      let downloaded = 0;\n",
              "\n",
              "      const channel = await google.colab.kernel.comms.open(id);\n",
              "      // Send a message to notify the kernel that we're ready.\n",
              "      channel.send({})\n",
              "\n",
              "      for await (const message of channel.messages) {\n",
              "        // Send a message to notify the kernel that we're ready.\n",
              "        channel.send({})\n",
              "        if (message.buffers) {\n",
              "          for (const buffer of message.buffers) {\n",
              "            buffers.push(buffer);\n",
              "            downloaded += buffer.byteLength;\n",
              "            progress.value = downloaded;\n",
              "          }\n",
              "        }\n",
              "      }\n",
              "      const blob = new Blob(buffers, {type: 'application/binary'});\n",
              "      const a = document.createElement('a');\n",
              "      a.href = window.URL.createObjectURL(blob);\n",
              "      a.download = filename;\n",
              "      div.appendChild(a);\n",
              "      a.click();\n",
              "      div.remove();\n",
              "    }\n",
              "  "
            ],
            "text/plain": [
              "<IPython.core.display.Javascript object>"
            ]
          },
          "metadata": {}
        },
        {
          "output_type": "display_data",
          "data": {
            "application/javascript": [
              "download(\"download_daa9b661-28ff-4bbe-a7df-6ea3eb82f21e\", \"submission_cbm_lgbm.csv\", 4827981)"
            ],
            "text/plain": [
              "<IPython.core.display.Javascript object>"
            ]
          },
          "metadata": {}
        }
      ]
    },
    {
      "cell_type": "code",
      "metadata": {
        "colab": {
          "base_uri": "https://localhost:8080/",
          "height": 203
        },
        "id": "RAX_FAKVUeuk",
        "outputId": "8354d930-280d-43a9-a601-ac21fbf7f2e4"
      },
      "source": [
        "sub.head()"
      ],
      "execution_count": 55,
      "outputs": [
        {
          "output_type": "execute_result",
          "data": {
            "text/html": [
              "<div>\n",
              "<style scoped>\n",
              "    .dataframe tbody tr th:only-of-type {\n",
              "        vertical-align: middle;\n",
              "    }\n",
              "\n",
              "    .dataframe tbody tr th {\n",
              "        vertical-align: top;\n",
              "    }\n",
              "\n",
              "    .dataframe thead th {\n",
              "        text-align: right;\n",
              "    }\n",
              "</style>\n",
              "<table border=\"1\" class=\"dataframe\">\n",
              "  <thead>\n",
              "    <tr style=\"text-align: right;\">\n",
              "      <th></th>\n",
              "      <th>impression_id</th>\n",
              "      <th>is_click</th>\n",
              "    </tr>\n",
              "  </thead>\n",
              "  <tbody>\n",
              "    <tr>\n",
              "      <th>0</th>\n",
              "      <td>a9e7126a585a69a32bc7414e9d0c0ada</td>\n",
              "      <td>0.023119</td>\n",
              "    </tr>\n",
              "    <tr>\n",
              "      <th>1</th>\n",
              "      <td>caac14a5bf2ba283db7708bb34855760</td>\n",
              "      <td>0.035722</td>\n",
              "    </tr>\n",
              "    <tr>\n",
              "      <th>2</th>\n",
              "      <td>13f10ba306a19ce7bec2f3cae507b698</td>\n",
              "      <td>0.103661</td>\n",
              "    </tr>\n",
              "    <tr>\n",
              "      <th>3</th>\n",
              "      <td>39c4b4dc0e9701b55a0a4f072008fb3f</td>\n",
              "      <td>0.027847</td>\n",
              "    </tr>\n",
              "    <tr>\n",
              "      <th>4</th>\n",
              "      <td>bf5a572cca75f5fc67f4b14e58b11d70</td>\n",
              "      <td>0.171953</td>\n",
              "    </tr>\n",
              "  </tbody>\n",
              "</table>\n",
              "</div>"
            ],
            "text/plain": [
              "                      impression_id  is_click\n",
              "0  a9e7126a585a69a32bc7414e9d0c0ada  0.023119\n",
              "1  caac14a5bf2ba283db7708bb34855760  0.035722\n",
              "2  13f10ba306a19ce7bec2f3cae507b698  0.103661\n",
              "3  39c4b4dc0e9701b55a0a4f072008fb3f  0.027847\n",
              "4  bf5a572cca75f5fc67f4b14e58b11d70  0.171953"
            ]
          },
          "metadata": {},
          "execution_count": 55
        }
      ]
    },
    {
      "cell_type": "markdown",
      "metadata": {
        "id": "DnZHzyMVEVdv"
      },
      "source": [
        "\n",
        "\n",
        "## <center><span style=\"background:gray;color:red\">End of the NoteBook</span></center>\n",
        "***\n",
        "\n",
        "### <center><span style=\"background:yellow;color:blue\">[GO TO TOP](#tt)</span></center> "
      ]
    }
  ]
}